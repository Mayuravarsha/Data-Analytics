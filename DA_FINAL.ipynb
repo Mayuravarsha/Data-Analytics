{
  "nbformat": 4,
  "nbformat_minor": 0,
  "metadata": {
    "colab": {
      "name": "DA_FINAL.ipynb",
      "provenance": [],
      "collapsed_sections": [],
      "include_colab_link": true
    },
    "kernelspec": {
      "name": "python3",
      "display_name": "Python 3"
    },
    "language_info": {
      "name": "python"
    }
  },
  "cells": [
    {
      "cell_type": "markdown",
      "metadata": {
        "id": "view-in-github",
        "colab_type": "text"
      },
      "source": [
        "<a href=\"https://colab.research.google.com/github/Mayuravarsha/Data-Analytics/blob/main/DA_FINAL.ipynb\" target=\"_parent\"><img src=\"https://colab.research.google.com/assets/colab-badge.svg\" alt=\"Open In Colab\"/></a>"
      ]
    },
    {
      "cell_type": "markdown",
      "metadata": {
        "id": "F4-d8_0FoDz_"
      },
      "source": [
        "\n",
        "Importing the data"
      ]
    },
    {
      "cell_type": "code",
      "metadata": {
        "colab": {
          "base_uri": "https://localhost:8080/"
        },
        "id": "srvzuNM8YDFt",
        "outputId": "30a16987-aeba-41bb-ef1c-26766d8ab24d"
      },
      "source": [
        "from datetime import datetime\n",
        "print('Process start time :', datetime.now())\n",
        "import numpy as np # linear algebra\n",
        "import pandas as pd # data processing, CSV file I/O (e.g. pd.read_csv)\n",
        "\n",
        "# Input data files are available in the read-only \"../input/\" directory\n",
        "# For example, running this (by clicking run or pressing Shift+Enter) will list all files under the input directory\n",
        "\n",
        "import os\n",
        "for dirname, _, filenames in os.walk('/kaggle/input'):\n",
        "    for filename in filenames:\n",
        "        print(os.path.join(dirname, filename))\n"
      ],
      "execution_count": 150,
      "outputs": [
        {
          "output_type": "stream",
          "name": "stdout",
          "text": [
            "Process start time : 2021-12-04 15:09:09.461184\n"
          ]
        }
      ]
    },
    {
      "cell_type": "code",
      "metadata": {
        "id": "bpypdWutfO97"
      },
      "source": [
        "import pandas as pd\n",
        "import numpy as np\n",
        "import seaborn as sns\n",
        "\n",
        "df = pd.read_csv('/content/vehicles.csv')\n"
      ],
      "execution_count": 151,
      "outputs": []
    },
    {
      "cell_type": "code",
      "metadata": {
        "id": "ESNs8YXMn1rT",
        "colab": {
          "base_uri": "https://localhost:8080/"
        },
        "outputId": "c51e41e1-6a36-4c0b-989e-ea5ee7f65e95"
      },
      "source": [
        "df.shape"
      ],
      "execution_count": 152,
      "outputs": [
        {
          "output_type": "execute_result",
          "data": {
            "text/plain": [
              "(110653, 26)"
            ]
          },
          "metadata": {},
          "execution_count": 152
        }
      ]
    },
    {
      "cell_type": "code",
      "metadata": {
        "id": "pMNsWCOIfREw",
        "colab": {
          "base_uri": "https://localhost:8080/"
        },
        "outputId": "1f2d85aa-1615-46cf-8c72-06ac5439b5d0"
      },
      "source": [
        "df.info()"
      ],
      "execution_count": 153,
      "outputs": [
        {
          "output_type": "stream",
          "name": "stdout",
          "text": [
            "<class 'pandas.core.frame.DataFrame'>\n",
            "RangeIndex: 110653 entries, 0 to 110652\n",
            "Data columns (total 26 columns):\n",
            " #   Column        Non-Null Count   Dtype  \n",
            "---  ------        --------------   -----  \n",
            " 0   id            110653 non-null  int64  \n",
            " 1   url           110653 non-null  object \n",
            " 2   region        110652 non-null  object \n",
            " 3   region_url    110652 non-null  object \n",
            " 4   price         110652 non-null  float64\n",
            " 5   year          110215 non-null  float64\n",
            " 6   manufacturer  105754 non-null  object \n",
            " 7   model         109235 non-null  object \n",
            " 8   condition     67496 non-null   object \n",
            " 9   cylinders     65797 non-null   object \n",
            " 10  fuel          109975 non-null  object \n",
            " 11  odometer      109081 non-null  float64\n",
            " 12  title_status  108258 non-null  object \n",
            " 13  transmission  110053 non-null  object \n",
            " 14  VIN           70850 non-null   object \n",
            " 15  drive         76907 non-null   object \n",
            " 16  size          31442 non-null   object \n",
            " 17  type          89028 non-null   object \n",
            " 18  paint_color   77846 non-null   object \n",
            " 19  image_url     110614 non-null  object \n",
            " 20  description   110613 non-null  object \n",
            " 21  county        0 non-null       float64\n",
            " 22  state         110652 non-null  object \n",
            " 23  lat           110056 non-null  float64\n",
            " 24  long          110056 non-null  float64\n",
            " 25  posting_date  110614 non-null  object \n",
            "dtypes: float64(6), int64(1), object(19)\n",
            "memory usage: 21.9+ MB\n"
          ]
        }
      ]
    },
    {
      "cell_type": "code",
      "metadata": {
        "id": "x9JPrYDbn6vX",
        "colab": {
          "base_uri": "https://localhost:8080/",
          "height": 300
        },
        "outputId": "f26a8344-f09d-48f1-a7bf-de9ac5d6c49f"
      },
      "source": [
        "df.describe()"
      ],
      "execution_count": 154,
      "outputs": [
        {
          "output_type": "execute_result",
          "data": {
            "text/html": [
              "<div>\n",
              "<style scoped>\n",
              "    .dataframe tbody tr th:only-of-type {\n",
              "        vertical-align: middle;\n",
              "    }\n",
              "\n",
              "    .dataframe tbody tr th {\n",
              "        vertical-align: top;\n",
              "    }\n",
              "\n",
              "    .dataframe thead th {\n",
              "        text-align: right;\n",
              "    }\n",
              "</style>\n",
              "<table border=\"1\" class=\"dataframe\">\n",
              "  <thead>\n",
              "    <tr style=\"text-align: right;\">\n",
              "      <th></th>\n",
              "      <th>id</th>\n",
              "      <th>price</th>\n",
              "      <th>year</th>\n",
              "      <th>odometer</th>\n",
              "      <th>county</th>\n",
              "      <th>lat</th>\n",
              "      <th>long</th>\n",
              "    </tr>\n",
              "  </thead>\n",
              "  <tbody>\n",
              "    <tr>\n",
              "      <th>count</th>\n",
              "      <td>1.106530e+05</td>\n",
              "      <td>1.106520e+05</td>\n",
              "      <td>110215.000000</td>\n",
              "      <td>1.090810e+05</td>\n",
              "      <td>0.0</td>\n",
              "      <td>110056.000000</td>\n",
              "      <td>110056.000000</td>\n",
              "    </tr>\n",
              "    <tr>\n",
              "      <th>mean</th>\n",
              "      <td>7.311921e+09</td>\n",
              "      <td>1.021415e+05</td>\n",
              "      <td>2011.004564</td>\n",
              "      <td>9.782320e+04</td>\n",
              "      <td>NaN</td>\n",
              "      <td>36.008751</td>\n",
              "      <td>-105.194565</td>\n",
              "    </tr>\n",
              "    <tr>\n",
              "      <th>std</th>\n",
              "      <td>4.610449e+06</td>\n",
              "      <td>1.399149e+07</td>\n",
              "      <td>9.931277</td>\n",
              "      <td>2.472232e+05</td>\n",
              "      <td>NaN</td>\n",
              "      <td>6.187636</td>\n",
              "      <td>18.960741</td>\n",
              "    </tr>\n",
              "    <tr>\n",
              "      <th>min</th>\n",
              "      <td>7.208550e+09</td>\n",
              "      <td>0.000000e+00</td>\n",
              "      <td>1900.000000</td>\n",
              "      <td>0.000000e+00</td>\n",
              "      <td>NaN</td>\n",
              "      <td>-84.122245</td>\n",
              "      <td>-158.599600</td>\n",
              "    </tr>\n",
              "    <tr>\n",
              "      <th>25%</th>\n",
              "      <td>7.308703e+09</td>\n",
              "      <td>5.999000e+03</td>\n",
              "      <td>2008.000000</td>\n",
              "      <td>3.733300e+04</td>\n",
              "      <td>NaN</td>\n",
              "      <td>33.391700</td>\n",
              "      <td>-119.844409</td>\n",
              "    </tr>\n",
              "    <tr>\n",
              "      <th>50%</th>\n",
              "      <td>7.313377e+09</td>\n",
              "      <td>1.399500e+04</td>\n",
              "      <td>2013.000000</td>\n",
              "      <td>8.311700e+04</td>\n",
              "      <td>NaN</td>\n",
              "      <td>35.189958</td>\n",
              "      <td>-111.924900</td>\n",
              "    </tr>\n",
              "    <tr>\n",
              "      <th>75%</th>\n",
              "      <td>7.315589e+09</td>\n",
              "      <td>2.599000e+04</td>\n",
              "      <td>2017.000000</td>\n",
              "      <td>1.300000e+05</td>\n",
              "      <td>NaN</td>\n",
              "      <td>38.758325</td>\n",
              "      <td>-84.411811</td>\n",
              "    </tr>\n",
              "    <tr>\n",
              "      <th>max</th>\n",
              "      <td>7.316958e+09</td>\n",
              "      <td>3.024942e+09</td>\n",
              "      <td>2022.000000</td>\n",
              "      <td>1.000000e+07</td>\n",
              "      <td>NaN</td>\n",
              "      <td>82.390818</td>\n",
              "      <td>173.885502</td>\n",
              "    </tr>\n",
              "  </tbody>\n",
              "</table>\n",
              "</div>"
            ],
            "text/plain": [
              "                 id         price           year      odometer  county  \\\n",
              "count  1.106530e+05  1.106520e+05  110215.000000  1.090810e+05     0.0   \n",
              "mean   7.311921e+09  1.021415e+05    2011.004564  9.782320e+04     NaN   \n",
              "std    4.610449e+06  1.399149e+07       9.931277  2.472232e+05     NaN   \n",
              "min    7.208550e+09  0.000000e+00    1900.000000  0.000000e+00     NaN   \n",
              "25%    7.308703e+09  5.999000e+03    2008.000000  3.733300e+04     NaN   \n",
              "50%    7.313377e+09  1.399500e+04    2013.000000  8.311700e+04     NaN   \n",
              "75%    7.315589e+09  2.599000e+04    2017.000000  1.300000e+05     NaN   \n",
              "max    7.316958e+09  3.024942e+09    2022.000000  1.000000e+07     NaN   \n",
              "\n",
              "                 lat           long  \n",
              "count  110056.000000  110056.000000  \n",
              "mean       36.008751    -105.194565  \n",
              "std         6.187636      18.960741  \n",
              "min       -84.122245    -158.599600  \n",
              "25%        33.391700    -119.844409  \n",
              "50%        35.189958    -111.924900  \n",
              "75%        38.758325     -84.411811  \n",
              "max        82.390818     173.885502  "
            ]
          },
          "metadata": {},
          "execution_count": 154
        }
      ]
    },
    {
      "cell_type": "code",
      "metadata": {
        "id": "Eaigpruyn7b8"
      },
      "source": [
        "pd.set_option('display.max_columns', None)"
      ],
      "execution_count": 155,
      "outputs": []
    },
    {
      "cell_type": "code",
      "metadata": {
        "id": "mG6XGHw9n92h",
        "colab": {
          "base_uri": "https://localhost:8080/",
          "height": 261
        },
        "outputId": "d7c5f1c8-193e-4860-870b-efedab058cd1"
      },
      "source": [
        "df.head(5)"
      ],
      "execution_count": 156,
      "outputs": [
        {
          "output_type": "execute_result",
          "data": {
            "text/html": [
              "<div>\n",
              "<style scoped>\n",
              "    .dataframe tbody tr th:only-of-type {\n",
              "        vertical-align: middle;\n",
              "    }\n",
              "\n",
              "    .dataframe tbody tr th {\n",
              "        vertical-align: top;\n",
              "    }\n",
              "\n",
              "    .dataframe thead th {\n",
              "        text-align: right;\n",
              "    }\n",
              "</style>\n",
              "<table border=\"1\" class=\"dataframe\">\n",
              "  <thead>\n",
              "    <tr style=\"text-align: right;\">\n",
              "      <th></th>\n",
              "      <th>id</th>\n",
              "      <th>url</th>\n",
              "      <th>region</th>\n",
              "      <th>region_url</th>\n",
              "      <th>price</th>\n",
              "      <th>year</th>\n",
              "      <th>manufacturer</th>\n",
              "      <th>model</th>\n",
              "      <th>condition</th>\n",
              "      <th>cylinders</th>\n",
              "      <th>fuel</th>\n",
              "      <th>odometer</th>\n",
              "      <th>title_status</th>\n",
              "      <th>transmission</th>\n",
              "      <th>VIN</th>\n",
              "      <th>drive</th>\n",
              "      <th>size</th>\n",
              "      <th>type</th>\n",
              "      <th>paint_color</th>\n",
              "      <th>image_url</th>\n",
              "      <th>description</th>\n",
              "      <th>county</th>\n",
              "      <th>state</th>\n",
              "      <th>lat</th>\n",
              "      <th>long</th>\n",
              "      <th>posting_date</th>\n",
              "    </tr>\n",
              "  </thead>\n",
              "  <tbody>\n",
              "    <tr>\n",
              "      <th>0</th>\n",
              "      <td>7222695916</td>\n",
              "      <td>https://prescott.craigslist.org/cto/d/prescott...</td>\n",
              "      <td>prescott</td>\n",
              "      <td>https://prescott.craigslist.org</td>\n",
              "      <td>6000.0</td>\n",
              "      <td>NaN</td>\n",
              "      <td>NaN</td>\n",
              "      <td>NaN</td>\n",
              "      <td>NaN</td>\n",
              "      <td>NaN</td>\n",
              "      <td>NaN</td>\n",
              "      <td>NaN</td>\n",
              "      <td>NaN</td>\n",
              "      <td>NaN</td>\n",
              "      <td>NaN</td>\n",
              "      <td>NaN</td>\n",
              "      <td>NaN</td>\n",
              "      <td>NaN</td>\n",
              "      <td>NaN</td>\n",
              "      <td>NaN</td>\n",
              "      <td>NaN</td>\n",
              "      <td>NaN</td>\n",
              "      <td>az</td>\n",
              "      <td>NaN</td>\n",
              "      <td>NaN</td>\n",
              "      <td>NaN</td>\n",
              "    </tr>\n",
              "    <tr>\n",
              "      <th>1</th>\n",
              "      <td>7218891961</td>\n",
              "      <td>https://fayar.craigslist.org/ctd/d/bentonville...</td>\n",
              "      <td>fayetteville</td>\n",
              "      <td>https://fayar.craigslist.org</td>\n",
              "      <td>11900.0</td>\n",
              "      <td>NaN</td>\n",
              "      <td>NaN</td>\n",
              "      <td>NaN</td>\n",
              "      <td>NaN</td>\n",
              "      <td>NaN</td>\n",
              "      <td>NaN</td>\n",
              "      <td>NaN</td>\n",
              "      <td>NaN</td>\n",
              "      <td>NaN</td>\n",
              "      <td>NaN</td>\n",
              "      <td>NaN</td>\n",
              "      <td>NaN</td>\n",
              "      <td>NaN</td>\n",
              "      <td>NaN</td>\n",
              "      <td>NaN</td>\n",
              "      <td>NaN</td>\n",
              "      <td>NaN</td>\n",
              "      <td>ar</td>\n",
              "      <td>NaN</td>\n",
              "      <td>NaN</td>\n",
              "      <td>NaN</td>\n",
              "    </tr>\n",
              "    <tr>\n",
              "      <th>2</th>\n",
              "      <td>7221797935</td>\n",
              "      <td>https://keys.craigslist.org/cto/d/summerland-k...</td>\n",
              "      <td>florida keys</td>\n",
              "      <td>https://keys.craigslist.org</td>\n",
              "      <td>21000.0</td>\n",
              "      <td>NaN</td>\n",
              "      <td>NaN</td>\n",
              "      <td>NaN</td>\n",
              "      <td>NaN</td>\n",
              "      <td>NaN</td>\n",
              "      <td>NaN</td>\n",
              "      <td>NaN</td>\n",
              "      <td>NaN</td>\n",
              "      <td>NaN</td>\n",
              "      <td>NaN</td>\n",
              "      <td>NaN</td>\n",
              "      <td>NaN</td>\n",
              "      <td>NaN</td>\n",
              "      <td>NaN</td>\n",
              "      <td>NaN</td>\n",
              "      <td>NaN</td>\n",
              "      <td>NaN</td>\n",
              "      <td>fl</td>\n",
              "      <td>NaN</td>\n",
              "      <td>NaN</td>\n",
              "      <td>NaN</td>\n",
              "    </tr>\n",
              "    <tr>\n",
              "      <th>3</th>\n",
              "      <td>7222270760</td>\n",
              "      <td>https://worcester.craigslist.org/cto/d/west-br...</td>\n",
              "      <td>worcester / central MA</td>\n",
              "      <td>https://worcester.craigslist.org</td>\n",
              "      <td>1500.0</td>\n",
              "      <td>NaN</td>\n",
              "      <td>NaN</td>\n",
              "      <td>NaN</td>\n",
              "      <td>NaN</td>\n",
              "      <td>NaN</td>\n",
              "      <td>NaN</td>\n",
              "      <td>NaN</td>\n",
              "      <td>NaN</td>\n",
              "      <td>NaN</td>\n",
              "      <td>NaN</td>\n",
              "      <td>NaN</td>\n",
              "      <td>NaN</td>\n",
              "      <td>NaN</td>\n",
              "      <td>NaN</td>\n",
              "      <td>NaN</td>\n",
              "      <td>NaN</td>\n",
              "      <td>NaN</td>\n",
              "      <td>ma</td>\n",
              "      <td>NaN</td>\n",
              "      <td>NaN</td>\n",
              "      <td>NaN</td>\n",
              "    </tr>\n",
              "    <tr>\n",
              "      <th>4</th>\n",
              "      <td>7210384030</td>\n",
              "      <td>https://greensboro.craigslist.org/cto/d/trinit...</td>\n",
              "      <td>greensboro</td>\n",
              "      <td>https://greensboro.craigslist.org</td>\n",
              "      <td>4900.0</td>\n",
              "      <td>NaN</td>\n",
              "      <td>NaN</td>\n",
              "      <td>NaN</td>\n",
              "      <td>NaN</td>\n",
              "      <td>NaN</td>\n",
              "      <td>NaN</td>\n",
              "      <td>NaN</td>\n",
              "      <td>NaN</td>\n",
              "      <td>NaN</td>\n",
              "      <td>NaN</td>\n",
              "      <td>NaN</td>\n",
              "      <td>NaN</td>\n",
              "      <td>NaN</td>\n",
              "      <td>NaN</td>\n",
              "      <td>NaN</td>\n",
              "      <td>NaN</td>\n",
              "      <td>NaN</td>\n",
              "      <td>nc</td>\n",
              "      <td>NaN</td>\n",
              "      <td>NaN</td>\n",
              "      <td>NaN</td>\n",
              "    </tr>\n",
              "  </tbody>\n",
              "</table>\n",
              "</div>"
            ],
            "text/plain": [
              "           id                                                url  \\\n",
              "0  7222695916  https://prescott.craigslist.org/cto/d/prescott...   \n",
              "1  7218891961  https://fayar.craigslist.org/ctd/d/bentonville...   \n",
              "2  7221797935  https://keys.craigslist.org/cto/d/summerland-k...   \n",
              "3  7222270760  https://worcester.craigslist.org/cto/d/west-br...   \n",
              "4  7210384030  https://greensboro.craigslist.org/cto/d/trinit...   \n",
              "\n",
              "                   region                         region_url    price  year  \\\n",
              "0                prescott    https://prescott.craigslist.org   6000.0   NaN   \n",
              "1            fayetteville       https://fayar.craigslist.org  11900.0   NaN   \n",
              "2            florida keys        https://keys.craigslist.org  21000.0   NaN   \n",
              "3  worcester / central MA   https://worcester.craigslist.org   1500.0   NaN   \n",
              "4              greensboro  https://greensboro.craigslist.org   4900.0   NaN   \n",
              "\n",
              "  manufacturer model condition cylinders fuel  odometer title_status  \\\n",
              "0          NaN   NaN       NaN       NaN  NaN       NaN          NaN   \n",
              "1          NaN   NaN       NaN       NaN  NaN       NaN          NaN   \n",
              "2          NaN   NaN       NaN       NaN  NaN       NaN          NaN   \n",
              "3          NaN   NaN       NaN       NaN  NaN       NaN          NaN   \n",
              "4          NaN   NaN       NaN       NaN  NaN       NaN          NaN   \n",
              "\n",
              "  transmission  VIN drive size type paint_color image_url description  county  \\\n",
              "0          NaN  NaN   NaN  NaN  NaN         NaN       NaN         NaN     NaN   \n",
              "1          NaN  NaN   NaN  NaN  NaN         NaN       NaN         NaN     NaN   \n",
              "2          NaN  NaN   NaN  NaN  NaN         NaN       NaN         NaN     NaN   \n",
              "3          NaN  NaN   NaN  NaN  NaN         NaN       NaN         NaN     NaN   \n",
              "4          NaN  NaN   NaN  NaN  NaN         NaN       NaN         NaN     NaN   \n",
              "\n",
              "  state  lat  long posting_date  \n",
              "0    az  NaN   NaN          NaN  \n",
              "1    ar  NaN   NaN          NaN  \n",
              "2    fl  NaN   NaN          NaN  \n",
              "3    ma  NaN   NaN          NaN  \n",
              "4    nc  NaN   NaN          NaN  "
            ]
          },
          "metadata": {},
          "execution_count": 156
        }
      ]
    },
    {
      "cell_type": "markdown",
      "metadata": {
        "id": "kf5KVJiioJS_"
      },
      "source": [
        "Data Cleaning"
      ]
    },
    {
      "cell_type": "code",
      "metadata": {
        "id": "uvHgmpgkoA7s"
      },
      "source": [
        "# Remove column - 'url' since the details present in url is already available in \n",
        "# columns - 'region', 'county', 'state'\n",
        "df = df.drop('url', axis=1)"
      ],
      "execution_count": 157,
      "outputs": []
    },
    {
      "cell_type": "code",
      "metadata": {
        "id": "YDvIUlGNoTzJ",
        "colab": {
          "base_uri": "https://localhost:8080/"
        },
        "outputId": "1bb3d229-b5f1-4d99-cebc-4e6ba60eca75"
      },
      "source": [
        "df['region_url'].unique()[:10]"
      ],
      "execution_count": 158,
      "outputs": [
        {
          "output_type": "execute_result",
          "data": {
            "text/plain": [
              "array(['https://prescott.craigslist.org', 'https://fayar.craigslist.org',\n",
              "       'https://keys.craigslist.org', 'https://worcester.craigslist.org',\n",
              "       'https://greensboro.craigslist.org',\n",
              "       'https://hudsonvalley.craigslist.org',\n",
              "       'https://medford.craigslist.org', 'https://erie.craigslist.org',\n",
              "       'https://elpaso.craigslist.org',\n",
              "       'https://bellingham.craigslist.org'], dtype=object)"
            ]
          },
          "metadata": {},
          "execution_count": 158
        }
      ]
    },
    {
      "cell_type": "code",
      "metadata": {
        "id": "YEDg_e7toWEL",
        "colab": {
          "base_uri": "https://localhost:8080/"
        },
        "outputId": "f12bbd1a-bf0e-451f-88fe-c5ddf6987209"
      },
      "source": [
        "# The county column only has 'nan' in it. Therefore, take the county name from 'region_url' column.\n",
        "df['county'].unique()"
      ],
      "execution_count": 159,
      "outputs": [
        {
          "output_type": "execute_result",
          "data": {
            "text/plain": [
              "array([nan])"
            ]
          },
          "metadata": {},
          "execution_count": 159
        }
      ]
    },
    {
      "cell_type": "code",
      "metadata": {
        "id": "f4bBTorqoYde"
      },
      "source": [
        "# updating 'county' from 'region_from_url' column.\n",
        "df['county'] = df['region_url'].str.replace('https://','').str.replace('.craigslist.org','')"
      ],
      "execution_count": 160,
      "outputs": []
    },
    {
      "cell_type": "code",
      "metadata": {
        "id": "FQSqoomVo_zK",
        "colab": {
          "base_uri": "https://localhost:8080/"
        },
        "outputId": "c29bff37-23a1-428b-d074-55756b7c8e47"
      },
      "source": [
        "# drop column - region_url\n",
        "df = df.drop('region_url', axis=1)\n",
        "# finding unique list of manufacturer. There are NULL values.\n",
        "df['manufacturer'].unique()"
      ],
      "execution_count": 161,
      "outputs": [
        {
          "output_type": "execute_result",
          "data": {
            "text/plain": [
              "array([nan, 'gmc', 'chevrolet', 'toyota', 'ford', 'jeep', 'nissan', 'ram',\n",
              "       'mazda', 'cadillac', 'honda', 'dodge', 'lexus', 'jaguar', 'buick',\n",
              "       'chrysler', 'volvo', 'audi', 'infiniti', 'lincoln', 'alfa-romeo',\n",
              "       'subaru', 'acura', 'hyundai', 'mercedes-benz', 'bmw', 'mitsubishi',\n",
              "       'volkswagen', 'porsche', 'kia', 'rover', 'ferrari', 'mini',\n",
              "       'pontiac', 'fiat', 'tesla', 'saturn', 'mercury', 'harley-davidson',\n",
              "       'datsun', 'aston-martin', 'land rover'], dtype=object)"
            ]
          },
          "metadata": {},
          "execution_count": 161
        }
      ]
    },
    {
      "cell_type": "code",
      "metadata": {
        "id": "vYUYqywBpFQr",
        "colab": {
          "base_uri": "https://localhost:8080/"
        },
        "outputId": "8ce2b02e-990d-440f-a7d7-5c30dfddd1b1"
      },
      "source": [
        "model_df = df.loc[df['manufacturer'].isnull(), ['model']]\n",
        "model_df['model'].unique()[:50]"
      ],
      "execution_count": 162,
      "outputs": [
        {
          "output_type": "execute_result",
          "data": {
            "text/plain": [
              "array([nan, 'Scion iM Hatchback 4D', 'blue bird bus', '1966 C-30 1 ton',\n",
              "       'smart fortwo Passion Hatchback', 'F-350', 'lac XT5 Crossover',\n",
              "       'Sterling Acterra', 'Freightliner Cascadia', 'Maserati Levante',\n",
              "       'SPECIAL FINANCE PROGRAM 2020', '1987 Saab 900 Turbo',\n",
              "       'Suzuki XL-7', 'Series', 'scion ia', '1988', 'plymouth voyager',\n",
              "       'oldsmobile cutlass', 'INTERNATIONAL 4700 DUMP', 'smart fortwo',\n",
              "       'r XF', '2002 limited 4 runner', 'LBZ Duramax',\n",
              "       '2002   Corvette Convertible', 'Genesis G80', 'ai Santa Fe',\n",
              "       'FordE450', 'des-Benz CLA', 'HUMMER H2', 'a Camry',\n",
              "       'Isuzu NPR HD GAS REG', 'Hino 268', 'International TerraStar',\n",
              "       'Freightliner M2 106 Medium Duty', 'Blue Bird All American',\n",
              "       'Isuzu NPR HD GAS CREW', 'Isuzu NPR', 'Workhorse W42', 'he Macan',\n",
              "       'HUMMER H2 Lifted 4x4', 'des-Benz E-Class', 'Kenworth T300',\n",
              "       'CX-5', 'Freightliner', 'AutoCar flatbed truck',\n",
              "       'olet Express Commercial Cutaway', 'AM GENERAL HUMMER', '500',\n",
              "       'HINO', 'BMW528i'], dtype=object)"
            ]
          },
          "metadata": {},
          "execution_count": 162
        }
      ]
    },
    {
      "cell_type": "code",
      "metadata": {
        "id": "JJC6_GbrpH58",
        "colab": {
          "base_uri": "https://localhost:8080/"
        },
        "outputId": "8e395a83-0a74-4c76-bd98-86aba7219399"
      },
      "source": [
        "model_df.shape"
      ],
      "execution_count": 163,
      "outputs": [
        {
          "output_type": "execute_result",
          "data": {
            "text/plain": [
              "(4899, 1)"
            ]
          },
          "metadata": {},
          "execution_count": 163
        }
      ]
    },
    {
      "cell_type": "code",
      "metadata": {
        "id": "WbCDBeP_pLFT",
        "colab": {
          "base_uri": "https://localhost:8080/"
        },
        "outputId": "fd2c011d-4b52-4763-c584-abc2d4edf65f"
      },
      "source": [
        "df.shape\n"
      ],
      "execution_count": 164,
      "outputs": [
        {
          "output_type": "execute_result",
          "data": {
            "text/plain": [
              "(110653, 24)"
            ]
          },
          "metadata": {},
          "execution_count": 164
        }
      ]
    },
    {
      "cell_type": "code",
      "metadata": {
        "id": "1XoQoP0ApL6u",
        "colab": {
          "base_uri": "https://localhost:8080/",
          "height": 243
        },
        "outputId": "a14d6f16-8ae8-4741-9e1f-0947c5a373ae"
      },
      "source": [
        "# update 'manufacturer' to 'other' when its NULL\n",
        "df.loc[df['manufacturer'].isnull(), ['manufacturer']] = 'other'\n",
        "df.head(5)"
      ],
      "execution_count": 165,
      "outputs": [
        {
          "output_type": "execute_result",
          "data": {
            "text/html": [
              "<div>\n",
              "<style scoped>\n",
              "    .dataframe tbody tr th:only-of-type {\n",
              "        vertical-align: middle;\n",
              "    }\n",
              "\n",
              "    .dataframe tbody tr th {\n",
              "        vertical-align: top;\n",
              "    }\n",
              "\n",
              "    .dataframe thead th {\n",
              "        text-align: right;\n",
              "    }\n",
              "</style>\n",
              "<table border=\"1\" class=\"dataframe\">\n",
              "  <thead>\n",
              "    <tr style=\"text-align: right;\">\n",
              "      <th></th>\n",
              "      <th>id</th>\n",
              "      <th>region</th>\n",
              "      <th>price</th>\n",
              "      <th>year</th>\n",
              "      <th>manufacturer</th>\n",
              "      <th>model</th>\n",
              "      <th>condition</th>\n",
              "      <th>cylinders</th>\n",
              "      <th>fuel</th>\n",
              "      <th>odometer</th>\n",
              "      <th>title_status</th>\n",
              "      <th>transmission</th>\n",
              "      <th>VIN</th>\n",
              "      <th>drive</th>\n",
              "      <th>size</th>\n",
              "      <th>type</th>\n",
              "      <th>paint_color</th>\n",
              "      <th>image_url</th>\n",
              "      <th>description</th>\n",
              "      <th>county</th>\n",
              "      <th>state</th>\n",
              "      <th>lat</th>\n",
              "      <th>long</th>\n",
              "      <th>posting_date</th>\n",
              "    </tr>\n",
              "  </thead>\n",
              "  <tbody>\n",
              "    <tr>\n",
              "      <th>0</th>\n",
              "      <td>7222695916</td>\n",
              "      <td>prescott</td>\n",
              "      <td>6000.0</td>\n",
              "      <td>NaN</td>\n",
              "      <td>other</td>\n",
              "      <td>NaN</td>\n",
              "      <td>NaN</td>\n",
              "      <td>NaN</td>\n",
              "      <td>NaN</td>\n",
              "      <td>NaN</td>\n",
              "      <td>NaN</td>\n",
              "      <td>NaN</td>\n",
              "      <td>NaN</td>\n",
              "      <td>NaN</td>\n",
              "      <td>NaN</td>\n",
              "      <td>NaN</td>\n",
              "      <td>NaN</td>\n",
              "      <td>NaN</td>\n",
              "      <td>NaN</td>\n",
              "      <td>prescott</td>\n",
              "      <td>az</td>\n",
              "      <td>NaN</td>\n",
              "      <td>NaN</td>\n",
              "      <td>NaN</td>\n",
              "    </tr>\n",
              "    <tr>\n",
              "      <th>1</th>\n",
              "      <td>7218891961</td>\n",
              "      <td>fayetteville</td>\n",
              "      <td>11900.0</td>\n",
              "      <td>NaN</td>\n",
              "      <td>other</td>\n",
              "      <td>NaN</td>\n",
              "      <td>NaN</td>\n",
              "      <td>NaN</td>\n",
              "      <td>NaN</td>\n",
              "      <td>NaN</td>\n",
              "      <td>NaN</td>\n",
              "      <td>NaN</td>\n",
              "      <td>NaN</td>\n",
              "      <td>NaN</td>\n",
              "      <td>NaN</td>\n",
              "      <td>NaN</td>\n",
              "      <td>NaN</td>\n",
              "      <td>NaN</td>\n",
              "      <td>NaN</td>\n",
              "      <td>fayar</td>\n",
              "      <td>ar</td>\n",
              "      <td>NaN</td>\n",
              "      <td>NaN</td>\n",
              "      <td>NaN</td>\n",
              "    </tr>\n",
              "    <tr>\n",
              "      <th>2</th>\n",
              "      <td>7221797935</td>\n",
              "      <td>florida keys</td>\n",
              "      <td>21000.0</td>\n",
              "      <td>NaN</td>\n",
              "      <td>other</td>\n",
              "      <td>NaN</td>\n",
              "      <td>NaN</td>\n",
              "      <td>NaN</td>\n",
              "      <td>NaN</td>\n",
              "      <td>NaN</td>\n",
              "      <td>NaN</td>\n",
              "      <td>NaN</td>\n",
              "      <td>NaN</td>\n",
              "      <td>NaN</td>\n",
              "      <td>NaN</td>\n",
              "      <td>NaN</td>\n",
              "      <td>NaN</td>\n",
              "      <td>NaN</td>\n",
              "      <td>NaN</td>\n",
              "      <td>keys</td>\n",
              "      <td>fl</td>\n",
              "      <td>NaN</td>\n",
              "      <td>NaN</td>\n",
              "      <td>NaN</td>\n",
              "    </tr>\n",
              "    <tr>\n",
              "      <th>3</th>\n",
              "      <td>7222270760</td>\n",
              "      <td>worcester / central MA</td>\n",
              "      <td>1500.0</td>\n",
              "      <td>NaN</td>\n",
              "      <td>other</td>\n",
              "      <td>NaN</td>\n",
              "      <td>NaN</td>\n",
              "      <td>NaN</td>\n",
              "      <td>NaN</td>\n",
              "      <td>NaN</td>\n",
              "      <td>NaN</td>\n",
              "      <td>NaN</td>\n",
              "      <td>NaN</td>\n",
              "      <td>NaN</td>\n",
              "      <td>NaN</td>\n",
              "      <td>NaN</td>\n",
              "      <td>NaN</td>\n",
              "      <td>NaN</td>\n",
              "      <td>NaN</td>\n",
              "      <td>worcester</td>\n",
              "      <td>ma</td>\n",
              "      <td>NaN</td>\n",
              "      <td>NaN</td>\n",
              "      <td>NaN</td>\n",
              "    </tr>\n",
              "    <tr>\n",
              "      <th>4</th>\n",
              "      <td>7210384030</td>\n",
              "      <td>greensboro</td>\n",
              "      <td>4900.0</td>\n",
              "      <td>NaN</td>\n",
              "      <td>other</td>\n",
              "      <td>NaN</td>\n",
              "      <td>NaN</td>\n",
              "      <td>NaN</td>\n",
              "      <td>NaN</td>\n",
              "      <td>NaN</td>\n",
              "      <td>NaN</td>\n",
              "      <td>NaN</td>\n",
              "      <td>NaN</td>\n",
              "      <td>NaN</td>\n",
              "      <td>NaN</td>\n",
              "      <td>NaN</td>\n",
              "      <td>NaN</td>\n",
              "      <td>NaN</td>\n",
              "      <td>NaN</td>\n",
              "      <td>greensboro</td>\n",
              "      <td>nc</td>\n",
              "      <td>NaN</td>\n",
              "      <td>NaN</td>\n",
              "      <td>NaN</td>\n",
              "    </tr>\n",
              "  </tbody>\n",
              "</table>\n",
              "</div>"
            ],
            "text/plain": [
              "           id                  region    price  year manufacturer model  \\\n",
              "0  7222695916                prescott   6000.0   NaN        other   NaN   \n",
              "1  7218891961            fayetteville  11900.0   NaN        other   NaN   \n",
              "2  7221797935            florida keys  21000.0   NaN        other   NaN   \n",
              "3  7222270760  worcester / central MA   1500.0   NaN        other   NaN   \n",
              "4  7210384030              greensboro   4900.0   NaN        other   NaN   \n",
              "\n",
              "  condition cylinders fuel  odometer title_status transmission  VIN drive  \\\n",
              "0       NaN       NaN  NaN       NaN          NaN          NaN  NaN   NaN   \n",
              "1       NaN       NaN  NaN       NaN          NaN          NaN  NaN   NaN   \n",
              "2       NaN       NaN  NaN       NaN          NaN          NaN  NaN   NaN   \n",
              "3       NaN       NaN  NaN       NaN          NaN          NaN  NaN   NaN   \n",
              "4       NaN       NaN  NaN       NaN          NaN          NaN  NaN   NaN   \n",
              "\n",
              "  size type paint_color image_url description      county state  lat  long  \\\n",
              "0  NaN  NaN         NaN       NaN         NaN    prescott    az  NaN   NaN   \n",
              "1  NaN  NaN         NaN       NaN         NaN       fayar    ar  NaN   NaN   \n",
              "2  NaN  NaN         NaN       NaN         NaN        keys    fl  NaN   NaN   \n",
              "3  NaN  NaN         NaN       NaN         NaN   worcester    ma  NaN   NaN   \n",
              "4  NaN  NaN         NaN       NaN         NaN  greensboro    nc  NaN   NaN   \n",
              "\n",
              "  posting_date  \n",
              "0          NaN  \n",
              "1          NaN  \n",
              "2          NaN  \n",
              "3          NaN  \n",
              "4          NaN  "
            ]
          },
          "metadata": {},
          "execution_count": 165
        }
      ]
    },
    {
      "cell_type": "code",
      "metadata": {
        "id": "J2TYJgkRpPHs",
        "colab": {
          "base_uri": "https://localhost:8080/",
          "height": 101
        },
        "outputId": "b4888864-0438-45c9-fabb-8ead114143a5"
      },
      "source": [
        "df[df['region'].isnull() == True]\n"
      ],
      "execution_count": 166,
      "outputs": [
        {
          "output_type": "execute_result",
          "data": {
            "text/html": [
              "<div>\n",
              "<style scoped>\n",
              "    .dataframe tbody tr th:only-of-type {\n",
              "        vertical-align: middle;\n",
              "    }\n",
              "\n",
              "    .dataframe tbody tr th {\n",
              "        vertical-align: top;\n",
              "    }\n",
              "\n",
              "    .dataframe thead th {\n",
              "        text-align: right;\n",
              "    }\n",
              "</style>\n",
              "<table border=\"1\" class=\"dataframe\">\n",
              "  <thead>\n",
              "    <tr style=\"text-align: right;\">\n",
              "      <th></th>\n",
              "      <th>id</th>\n",
              "      <th>region</th>\n",
              "      <th>price</th>\n",
              "      <th>year</th>\n",
              "      <th>manufacturer</th>\n",
              "      <th>model</th>\n",
              "      <th>condition</th>\n",
              "      <th>cylinders</th>\n",
              "      <th>fuel</th>\n",
              "      <th>odometer</th>\n",
              "      <th>title_status</th>\n",
              "      <th>transmission</th>\n",
              "      <th>VIN</th>\n",
              "      <th>drive</th>\n",
              "      <th>size</th>\n",
              "      <th>type</th>\n",
              "      <th>paint_color</th>\n",
              "      <th>image_url</th>\n",
              "      <th>description</th>\n",
              "      <th>county</th>\n",
              "      <th>state</th>\n",
              "      <th>lat</th>\n",
              "      <th>long</th>\n",
              "      <th>posting_date</th>\n",
              "    </tr>\n",
              "  </thead>\n",
              "  <tbody>\n",
              "    <tr>\n",
              "      <th>110652</th>\n",
              "      <td>7305775669</td>\n",
              "      <td>NaN</td>\n",
              "      <td>NaN</td>\n",
              "      <td>NaN</td>\n",
              "      <td>other</td>\n",
              "      <td>NaN</td>\n",
              "      <td>NaN</td>\n",
              "      <td>NaN</td>\n",
              "      <td>NaN</td>\n",
              "      <td>NaN</td>\n",
              "      <td>NaN</td>\n",
              "      <td>NaN</td>\n",
              "      <td>NaN</td>\n",
              "      <td>NaN</td>\n",
              "      <td>NaN</td>\n",
              "      <td>NaN</td>\n",
              "      <td>NaN</td>\n",
              "      <td>NaN</td>\n",
              "      <td>NaN</td>\n",
              "      <td>NaN</td>\n",
              "      <td>NaN</td>\n",
              "      <td>NaN</td>\n",
              "      <td>NaN</td>\n",
              "      <td>NaN</td>\n",
              "    </tr>\n",
              "  </tbody>\n",
              "</table>\n",
              "</div>"
            ],
            "text/plain": [
              "                id region  price  year manufacturer model condition cylinders  \\\n",
              "110652  7305775669    NaN    NaN   NaN        other   NaN       NaN       NaN   \n",
              "\n",
              "       fuel  odometer title_status transmission  VIN drive size type  \\\n",
              "110652  NaN       NaN          NaN          NaN  NaN   NaN  NaN  NaN   \n",
              "\n",
              "       paint_color image_url description county state  lat  long posting_date  \n",
              "110652         NaN       NaN         NaN    NaN   NaN  NaN   NaN          NaN  "
            ]
          },
          "metadata": {},
          "execution_count": 166
        }
      ]
    },
    {
      "cell_type": "code",
      "metadata": {
        "id": "DAoT7I7lpSHA",
        "colab": {
          "base_uri": "https://localhost:8080/"
        },
        "outputId": "505df5a6-5422-41d8-88ae-28c5f93ebb9b"
      },
      "source": [
        "df['region'].unique()[:10]\n"
      ],
      "execution_count": 167,
      "outputs": [
        {
          "output_type": "execute_result",
          "data": {
            "text/plain": [
              "array(['prescott', 'fayetteville', 'florida keys',\n",
              "       'worcester / central MA', 'greensboro', 'hudson valley',\n",
              "       'medford-ashland', 'erie', 'el paso', 'bellingham'], dtype=object)"
            ]
          },
          "metadata": {},
          "execution_count": 167
        }
      ]
    },
    {
      "cell_type": "code",
      "metadata": {
        "id": "saAAXffTpUsH",
        "colab": {
          "base_uri": "https://localhost:8080/"
        },
        "outputId": "e044939c-c312-488d-e393-0158ae5e6ac0"
      },
      "source": [
        "# removing all records which has price = 0.\n",
        "df = df[df['price'] != 0]\n",
        "df['year'].unique()"
      ],
      "execution_count": 168,
      "outputs": [
        {
          "output_type": "execute_result",
          "data": {
            "text/plain": [
              "array([  nan, 2014., 2010., 2020., 2017., 2013., 2012., 2016., 2019.,\n",
              "       2011., 1992., 2018., 2004., 2015., 2001., 2006., 1968., 2003.,\n",
              "       2008., 2007., 2005., 1966., 2009., 1998., 2002., 1999., 2021.,\n",
              "       1997., 1976., 1969., 1995., 1978., 1954., 1979., 1970., 1974.,\n",
              "       1996., 1987., 2000., 1955., 1960., 1991., 1972., 1988., 1994.,\n",
              "       1929., 1984., 1986., 1989., 1973., 1946., 1933., 1958., 1937.,\n",
              "       1985., 1957., 1953., 1942., 1963., 1977., 1993., 1990., 1965.,\n",
              "       1982., 1948., 1983., 1936., 1932., 1951., 1931., 1980., 1967.,\n",
              "       1971., 1947., 1981., 1926., 1962., 1975., 1964., 1934., 1952.,\n",
              "       1940., 1959., 1950., 1930., 1956., 1922., 1928., 2022., 1901.,\n",
              "       1941., 1924., 1927., 1939., 1923., 1949., 1961., 1935., 1918.,\n",
              "       1900., 1938., 1913., 1916., 1943.])"
            ]
          },
          "metadata": {},
          "execution_count": 168
        }
      ]
    },
    {
      "cell_type": "code",
      "metadata": {
        "id": "PuC2AccvpXMd",
        "colab": {
          "base_uri": "https://localhost:8080/"
        },
        "outputId": "ba74d332-7d05-4d1b-8e83-3d219ecfc2f2"
      },
      "source": [
        "# There are totally 82 records that have year higher than current year ie) 2020. They have to be removed as well.\n",
        "df[df['year'] > 2020].shape"
      ],
      "execution_count": 169,
      "outputs": [
        {
          "output_type": "execute_result",
          "data": {
            "text/plain": [
              "(700, 24)"
            ]
          },
          "metadata": {},
          "execution_count": 169
        }
      ]
    },
    {
      "cell_type": "code",
      "metadata": {
        "id": "V_EervS4paCr",
        "colab": {
          "base_uri": "https://localhost:8080/"
        },
        "outputId": "97ce887c-2f55-4a7c-89c9-8f43da51ee8e"
      },
      "source": [
        "df = df[df['year'] < 2020]\n",
        "# 'model' column has lot of inconsistent data eg). Anything, sequoia limited, 30 YEARS.EXP.\n",
        "df['model'].unique()"
      ],
      "execution_count": 170,
      "outputs": [
        {
          "output_type": "execute_result",
          "data": {
            "text/plain": [
              "array(['sierra 1500 crew cab slt', 'silverado 1500',\n",
              "       'tundra double cab sr', ..., 'forester 2.5 xt limited',\n",
              "       'm6 6-series', '1978 F100'], dtype=object)"
            ]
          },
          "metadata": {},
          "execution_count": 170
        }
      ]
    },
    {
      "cell_type": "code",
      "metadata": {
        "id": "8IyQcb_Zpdif",
        "colab": {
          "base_uri": "https://localhost:8080/"
        },
        "outputId": "41623640-b8af-4e3a-ff44-69a2fc2db58e"
      },
      "source": [
        "# drop columns - lat, long\n",
        "df = df.drop(['lat','long'], axis=1)\n",
        "len(df)"
      ],
      "execution_count": 171,
      "outputs": [
        {
          "output_type": "execute_result",
          "data": {
            "text/plain": [
              "96147"
            ]
          },
          "metadata": {},
          "execution_count": 171
        }
      ]
    },
    {
      "cell_type": "code",
      "metadata": {
        "id": "lM_XQOPMpsYe",
        "colab": {
          "base_uri": "https://localhost:8080/"
        },
        "outputId": "3ea97bec-c759-4048-c151-5d6e341eb72f"
      },
      "source": [
        "# Identify the no.of missing values in each column and their percentage compared to total.\n",
        "missing_vals = df.isnull().sum().sort_values(ascending = False)\n",
        "(missing_vals/len(df))*100"
      ],
      "execution_count": 172,
      "outputs": [
        {
          "output_type": "execute_result",
          "data": {
            "text/plain": [
              "size            70.872726\n",
              "cylinders       38.019907\n",
              "VIN             37.958543\n",
              "condition       36.402592\n",
              "drive           30.085182\n",
              "paint_color     28.670681\n",
              "type            19.359938\n",
              "title_status     1.966780\n",
              "model            1.205446\n",
              "odometer         1.016152\n",
              "fuel             0.543959\n",
              "transmission     0.406669\n",
              "region           0.000000\n",
              "price            0.000000\n",
              "year             0.000000\n",
              "manufacturer     0.000000\n",
              "posting_date     0.000000\n",
              "state            0.000000\n",
              "image_url        0.000000\n",
              "description      0.000000\n",
              "county           0.000000\n",
              "id               0.000000\n",
              "dtype: float64"
            ]
          },
          "metadata": {},
          "execution_count": 172
        }
      ]
    },
    {
      "cell_type": "code",
      "metadata": {
        "id": "RycRiF9spude",
        "colab": {
          "base_uri": "https://localhost:8080/"
        },
        "outputId": "d1a9f0f4-0d8a-4faf-8173-9c3946ca5763"
      },
      "source": [
        "# Removing rows which has less than 5% of NULLs in columns.\n",
        "df=df.dropna(subset=['model','fuel','transmission','title_status','description'])\n",
        "df.shape"
      ],
      "execution_count": 173,
      "outputs": [
        {
          "output_type": "execute_result",
          "data": {
            "text/plain": [
              "(92291, 22)"
            ]
          },
          "metadata": {},
          "execution_count": 173
        }
      ]
    },
    {
      "cell_type": "code",
      "metadata": {
        "id": "bYAj-XU_pwoI",
        "colab": {
          "base_uri": "https://localhost:8080/",
          "height": 504
        },
        "outputId": "f26e660d-63b0-4d7c-d566-5b6c114aabb2"
      },
      "source": [
        "df.head()"
      ],
      "execution_count": 174,
      "outputs": [
        {
          "output_type": "execute_result",
          "data": {
            "text/html": [
              "<div>\n",
              "<style scoped>\n",
              "    .dataframe tbody tr th:only-of-type {\n",
              "        vertical-align: middle;\n",
              "    }\n",
              "\n",
              "    .dataframe tbody tr th {\n",
              "        vertical-align: top;\n",
              "    }\n",
              "\n",
              "    .dataframe thead th {\n",
              "        text-align: right;\n",
              "    }\n",
              "</style>\n",
              "<table border=\"1\" class=\"dataframe\">\n",
              "  <thead>\n",
              "    <tr style=\"text-align: right;\">\n",
              "      <th></th>\n",
              "      <th>id</th>\n",
              "      <th>region</th>\n",
              "      <th>price</th>\n",
              "      <th>year</th>\n",
              "      <th>manufacturer</th>\n",
              "      <th>model</th>\n",
              "      <th>condition</th>\n",
              "      <th>cylinders</th>\n",
              "      <th>fuel</th>\n",
              "      <th>odometer</th>\n",
              "      <th>title_status</th>\n",
              "      <th>transmission</th>\n",
              "      <th>VIN</th>\n",
              "      <th>drive</th>\n",
              "      <th>size</th>\n",
              "      <th>type</th>\n",
              "      <th>paint_color</th>\n",
              "      <th>image_url</th>\n",
              "      <th>description</th>\n",
              "      <th>county</th>\n",
              "      <th>state</th>\n",
              "      <th>posting_date</th>\n",
              "    </tr>\n",
              "  </thead>\n",
              "  <tbody>\n",
              "    <tr>\n",
              "      <th>27</th>\n",
              "      <td>7316814884</td>\n",
              "      <td>auburn</td>\n",
              "      <td>33590.0</td>\n",
              "      <td>2014.0</td>\n",
              "      <td>gmc</td>\n",
              "      <td>sierra 1500 crew cab slt</td>\n",
              "      <td>good</td>\n",
              "      <td>8 cylinders</td>\n",
              "      <td>gas</td>\n",
              "      <td>57923.0</td>\n",
              "      <td>clean</td>\n",
              "      <td>other</td>\n",
              "      <td>3GTP1VEC4EG551563</td>\n",
              "      <td>NaN</td>\n",
              "      <td>NaN</td>\n",
              "      <td>pickup</td>\n",
              "      <td>white</td>\n",
              "      <td>https://images.craigslist.org/00R0R_lwWjXSEWNa...</td>\n",
              "      <td>Carvana is the safer way to buy a car During t...</td>\n",
              "      <td>auburn</td>\n",
              "      <td>al</td>\n",
              "      <td>2021-05-04T12:31:18-0500</td>\n",
              "    </tr>\n",
              "    <tr>\n",
              "      <th>28</th>\n",
              "      <td>7316814758</td>\n",
              "      <td>auburn</td>\n",
              "      <td>22590.0</td>\n",
              "      <td>2010.0</td>\n",
              "      <td>chevrolet</td>\n",
              "      <td>silverado 1500</td>\n",
              "      <td>good</td>\n",
              "      <td>8 cylinders</td>\n",
              "      <td>gas</td>\n",
              "      <td>71229.0</td>\n",
              "      <td>clean</td>\n",
              "      <td>other</td>\n",
              "      <td>1GCSCSE06AZ123805</td>\n",
              "      <td>NaN</td>\n",
              "      <td>NaN</td>\n",
              "      <td>pickup</td>\n",
              "      <td>blue</td>\n",
              "      <td>https://images.craigslist.org/00R0R_lwWjXSEWNa...</td>\n",
              "      <td>Carvana is the safer way to buy a car During t...</td>\n",
              "      <td>auburn</td>\n",
              "      <td>al</td>\n",
              "      <td>2021-05-04T12:31:08-0500</td>\n",
              "    </tr>\n",
              "    <tr>\n",
              "      <th>30</th>\n",
              "      <td>7316743432</td>\n",
              "      <td>auburn</td>\n",
              "      <td>30990.0</td>\n",
              "      <td>2017.0</td>\n",
              "      <td>toyota</td>\n",
              "      <td>tundra double cab sr</td>\n",
              "      <td>good</td>\n",
              "      <td>8 cylinders</td>\n",
              "      <td>gas</td>\n",
              "      <td>41124.0</td>\n",
              "      <td>clean</td>\n",
              "      <td>other</td>\n",
              "      <td>5TFRM5F17HX120972</td>\n",
              "      <td>NaN</td>\n",
              "      <td>NaN</td>\n",
              "      <td>pickup</td>\n",
              "      <td>red</td>\n",
              "      <td>https://images.craigslist.org/00x0x_1y9kIOzGCF...</td>\n",
              "      <td>Carvana is the safer way to buy a car During t...</td>\n",
              "      <td>auburn</td>\n",
              "      <td>al</td>\n",
              "      <td>2021-05-04T10:41:31-0500</td>\n",
              "    </tr>\n",
              "    <tr>\n",
              "      <th>31</th>\n",
              "      <td>7316356412</td>\n",
              "      <td>auburn</td>\n",
              "      <td>15000.0</td>\n",
              "      <td>2013.0</td>\n",
              "      <td>ford</td>\n",
              "      <td>f-150 xlt</td>\n",
              "      <td>excellent</td>\n",
              "      <td>6 cylinders</td>\n",
              "      <td>gas</td>\n",
              "      <td>128000.0</td>\n",
              "      <td>clean</td>\n",
              "      <td>automatic</td>\n",
              "      <td>NaN</td>\n",
              "      <td>rwd</td>\n",
              "      <td>full-size</td>\n",
              "      <td>truck</td>\n",
              "      <td>black</td>\n",
              "      <td>https://images.craigslist.org/00404_l4loxHvdQe...</td>\n",
              "      <td>2013 F-150 XLT V6 4 Door. Good condition. Leve...</td>\n",
              "      <td>auburn</td>\n",
              "      <td>al</td>\n",
              "      <td>2021-05-03T14:02:03-0500</td>\n",
              "    </tr>\n",
              "    <tr>\n",
              "      <th>32</th>\n",
              "      <td>7316343444</td>\n",
              "      <td>auburn</td>\n",
              "      <td>27990.0</td>\n",
              "      <td>2012.0</td>\n",
              "      <td>gmc</td>\n",
              "      <td>sierra 2500 hd extended cab</td>\n",
              "      <td>good</td>\n",
              "      <td>8 cylinders</td>\n",
              "      <td>gas</td>\n",
              "      <td>68696.0</td>\n",
              "      <td>clean</td>\n",
              "      <td>other</td>\n",
              "      <td>1GT220CG8CZ231238</td>\n",
              "      <td>4wd</td>\n",
              "      <td>NaN</td>\n",
              "      <td>pickup</td>\n",
              "      <td>black</td>\n",
              "      <td>https://images.craigslist.org/00V0V_ftJbKrOgdi...</td>\n",
              "      <td>Carvana is the safer way to buy a car During t...</td>\n",
              "      <td>auburn</td>\n",
              "      <td>al</td>\n",
              "      <td>2021-05-03T13:41:25-0500</td>\n",
              "    </tr>\n",
              "  </tbody>\n",
              "</table>\n",
              "</div>"
            ],
            "text/plain": [
              "            id  region    price    year manufacturer  \\\n",
              "27  7316814884  auburn  33590.0  2014.0          gmc   \n",
              "28  7316814758  auburn  22590.0  2010.0    chevrolet   \n",
              "30  7316743432  auburn  30990.0  2017.0       toyota   \n",
              "31  7316356412  auburn  15000.0  2013.0         ford   \n",
              "32  7316343444  auburn  27990.0  2012.0          gmc   \n",
              "\n",
              "                          model  condition    cylinders fuel  odometer  \\\n",
              "27     sierra 1500 crew cab slt       good  8 cylinders  gas   57923.0   \n",
              "28               silverado 1500       good  8 cylinders  gas   71229.0   \n",
              "30         tundra double cab sr       good  8 cylinders  gas   41124.0   \n",
              "31                    f-150 xlt  excellent  6 cylinders  gas  128000.0   \n",
              "32  sierra 2500 hd extended cab       good  8 cylinders  gas   68696.0   \n",
              "\n",
              "   title_status transmission                VIN drive       size    type  \\\n",
              "27        clean        other  3GTP1VEC4EG551563   NaN        NaN  pickup   \n",
              "28        clean        other  1GCSCSE06AZ123805   NaN        NaN  pickup   \n",
              "30        clean        other  5TFRM5F17HX120972   NaN        NaN  pickup   \n",
              "31        clean    automatic                NaN   rwd  full-size   truck   \n",
              "32        clean        other  1GT220CG8CZ231238   4wd        NaN  pickup   \n",
              "\n",
              "   paint_color                                          image_url  \\\n",
              "27       white  https://images.craigslist.org/00R0R_lwWjXSEWNa...   \n",
              "28        blue  https://images.craigslist.org/00R0R_lwWjXSEWNa...   \n",
              "30         red  https://images.craigslist.org/00x0x_1y9kIOzGCF...   \n",
              "31       black  https://images.craigslist.org/00404_l4loxHvdQe...   \n",
              "32       black  https://images.craigslist.org/00V0V_ftJbKrOgdi...   \n",
              "\n",
              "                                          description  county state  \\\n",
              "27  Carvana is the safer way to buy a car During t...  auburn    al   \n",
              "28  Carvana is the safer way to buy a car During t...  auburn    al   \n",
              "30  Carvana is the safer way to buy a car During t...  auburn    al   \n",
              "31  2013 F-150 XLT V6 4 Door. Good condition. Leve...  auburn    al   \n",
              "32  Carvana is the safer way to buy a car During t...  auburn    al   \n",
              "\n",
              "                posting_date  \n",
              "27  2021-05-04T12:31:18-0500  \n",
              "28  2021-05-04T12:31:08-0500  \n",
              "30  2021-05-04T10:41:31-0500  \n",
              "31  2021-05-03T14:02:03-0500  \n",
              "32  2021-05-03T13:41:25-0500  "
            ]
          },
          "metadata": {},
          "execution_count": 174
        }
      ]
    },
    {
      "cell_type": "code",
      "metadata": {
        "id": "GohkRzrRpySx",
        "colab": {
          "base_uri": "https://localhost:8080/"
        },
        "outputId": "ae588530-4b84-469b-9073-2c031b9ab76d"
      },
      "source": [
        "df['cylinders'].unique()\n"
      ],
      "execution_count": 175,
      "outputs": [
        {
          "output_type": "execute_result",
          "data": {
            "text/plain": [
              "array(['8 cylinders', '6 cylinders', nan, '4 cylinders', '5 cylinders',\n",
              "       '3 cylinders', '10 cylinders', '12 cylinders', 'other'],\n",
              "      dtype=object)"
            ]
          },
          "metadata": {},
          "execution_count": 175
        }
      ]
    },
    {
      "cell_type": "code",
      "metadata": {
        "id": "SUbHlMuHp0mw",
        "colab": {
          "base_uri": "https://localhost:8080/"
        },
        "outputId": "b6d662bf-c341-4e13-e8e5-8f47a07e09d0"
      },
      "source": [
        "df['type'].unique()"
      ],
      "execution_count": 176,
      "outputs": [
        {
          "output_type": "execute_result",
          "data": {
            "text/plain": [
              "array(['pickup', 'truck', 'other', nan, 'coupe', 'hatchback', 'mini-van',\n",
              "       'SUV', 'sedan', 'offroad', 'bus', 'convertible', 'wagon', 'van'],\n",
              "      dtype=object)"
            ]
          },
          "metadata": {},
          "execution_count": 176
        }
      ]
    },
    {
      "cell_type": "code",
      "metadata": {
        "id": "d1tzQdQpp6Jh",
        "colab": {
          "base_uri": "https://localhost:8080/"
        },
        "outputId": "72a66fd9-7998-417b-98e6-9e150bbf620f"
      },
      "source": [
        "# Using forward fill for the columns - 'paint_color', 'drive', 'cylinders', 'type'\n",
        "df['type'] = df['type'].fillna(method='ffill')\n",
        "df['paint_color'] = df['paint_color'].fillna(method='ffill')\n",
        "df['drive'] = df['drive'].fillna(method='ffill')\n",
        "df['cylinders'] = df['cylinders'].fillna(method='ffill')\n",
        "df.isnull().sum()"
      ],
      "execution_count": 177,
      "outputs": [
        {
          "output_type": "stream",
          "name": "stderr",
          "text": [
            "/usr/local/lib/python3.7/dist-packages/ipykernel_launcher.py:2: SettingWithCopyWarning: \n",
            "A value is trying to be set on a copy of a slice from a DataFrame.\n",
            "Try using .loc[row_indexer,col_indexer] = value instead\n",
            "\n",
            "See the caveats in the documentation: https://pandas.pydata.org/pandas-docs/stable/user_guide/indexing.html#returning-a-view-versus-a-copy\n",
            "  \n",
            "/usr/local/lib/python3.7/dist-packages/ipykernel_launcher.py:3: SettingWithCopyWarning: \n",
            "A value is trying to be set on a copy of a slice from a DataFrame.\n",
            "Try using .loc[row_indexer,col_indexer] = value instead\n",
            "\n",
            "See the caveats in the documentation: https://pandas.pydata.org/pandas-docs/stable/user_guide/indexing.html#returning-a-view-versus-a-copy\n",
            "  This is separate from the ipykernel package so we can avoid doing imports until\n",
            "/usr/local/lib/python3.7/dist-packages/ipykernel_launcher.py:4: SettingWithCopyWarning: \n",
            "A value is trying to be set on a copy of a slice from a DataFrame.\n",
            "Try using .loc[row_indexer,col_indexer] = value instead\n",
            "\n",
            "See the caveats in the documentation: https://pandas.pydata.org/pandas-docs/stable/user_guide/indexing.html#returning-a-view-versus-a-copy\n",
            "  after removing the cwd from sys.path.\n",
            "/usr/local/lib/python3.7/dist-packages/ipykernel_launcher.py:5: SettingWithCopyWarning: \n",
            "A value is trying to be set on a copy of a slice from a DataFrame.\n",
            "Try using .loc[row_indexer,col_indexer] = value instead\n",
            "\n",
            "See the caveats in the documentation: https://pandas.pydata.org/pandas-docs/stable/user_guide/indexing.html#returning-a-view-versus-a-copy\n",
            "  \"\"\"\n"
          ]
        },
        {
          "output_type": "execute_result",
          "data": {
            "text/plain": [
              "id                  0\n",
              "region              0\n",
              "price               0\n",
              "year                0\n",
              "manufacturer        0\n",
              "model               0\n",
              "condition       33323\n",
              "cylinders           0\n",
              "fuel                0\n",
              "odometer          948\n",
              "title_status        0\n",
              "transmission        0\n",
              "VIN             35629\n",
              "drive               3\n",
              "size            64710\n",
              "type                0\n",
              "paint_color         0\n",
              "image_url           0\n",
              "description         0\n",
              "county              0\n",
              "state               0\n",
              "posting_date        0\n",
              "dtype: int64"
            ]
          },
          "metadata": {},
          "execution_count": 177
        }
      ]
    },
    {
      "cell_type": "code",
      "metadata": {
        "id": "mxxuNzcpp8XK",
        "colab": {
          "base_uri": "https://localhost:8080/"
        },
        "outputId": "249ee6ed-c20d-4390-8fb8-9147a84fef4f"
      },
      "source": [
        "df['condition'].unique()"
      ],
      "execution_count": 178,
      "outputs": [
        {
          "output_type": "execute_result",
          "data": {
            "text/plain": [
              "array(['good', 'excellent', 'fair', 'like new', nan, 'new', 'salvage'],\n",
              "      dtype=object)"
            ]
          },
          "metadata": {},
          "execution_count": 178
        }
      ]
    },
    {
      "cell_type": "code",
      "metadata": {
        "id": "U6pmkUH2p_Ej",
        "colab": {
          "base_uri": "https://localhost:8080/"
        },
        "outputId": "fc34c658-0587-4423-fd4f-6f4ac3411f5b"
      },
      "source": [
        "# updating the condition as 'new' for all vehicles whose year is 2019 and above\n",
        "df.loc[df.year>=2019, 'condition'] = df.loc[df.year>=2019, 'condition'].fillna('new')\n",
        "df.groupby(['condition']).count()['year']"
      ],
      "execution_count": 179,
      "outputs": [
        {
          "output_type": "execute_result",
          "data": {
            "text/plain": [
              "condition\n",
              "excellent    25840\n",
              "fair          1647\n",
              "good         26597\n",
              "like new      4560\n",
              "new           2021\n",
              "salvage        176\n",
              "Name: year, dtype: int64"
            ]
          },
          "metadata": {},
          "execution_count": 179
        }
      ]
    },
    {
      "cell_type": "code",
      "metadata": {
        "id": "t7ZLDe_lqBUl",
        "colab": {
          "base_uri": "https://localhost:8080/"
        },
        "outputId": "10f26532-39ef-4a9f-9145-b0e2be5f4e64"
      },
      "source": [
        "df.isnull().sum()"
      ],
      "execution_count": 180,
      "outputs": [
        {
          "output_type": "execute_result",
          "data": {
            "text/plain": [
              "id                  0\n",
              "region              0\n",
              "price               0\n",
              "year                0\n",
              "manufacturer        0\n",
              "model               0\n",
              "condition       31450\n",
              "cylinders           0\n",
              "fuel                0\n",
              "odometer          948\n",
              "title_status        0\n",
              "transmission        0\n",
              "VIN             35629\n",
              "drive               3\n",
              "size            64710\n",
              "type                0\n",
              "paint_color         0\n",
              "image_url           0\n",
              "description         0\n",
              "county              0\n",
              "state               0\n",
              "posting_date        0\n",
              "dtype: int64"
            ]
          },
          "metadata": {},
          "execution_count": 180
        }
      ]
    },
    {
      "cell_type": "code",
      "metadata": {
        "id": "0mAjb5ahqDl6",
        "colab": {
          "base_uri": "https://localhost:8080/"
        },
        "outputId": "a9fa4ffe-2b38-4421-82c6-b64137fff4c8"
      },
      "source": [
        "# Addressing the NULLs in 'odometer' column.\n",
        "\n",
        "# Since odometer is related to the condition of the vehicle, it can be used to fill the missing odometer values.\n",
        "# The mean of odometer values for each condition is calculated and is used to fill the NULL values for those \n",
        "# corresponding condition.\n",
        "# Find the total distinct values for 'condition'\n",
        "conditions = list(df['condition'].unique())\n",
        "conditions.pop(3) # removing null value from list\n",
        "conditions"
      ],
      "execution_count": 181,
      "outputs": [
        {
          "output_type": "execute_result",
          "data": {
            "text/plain": [
              "['good', 'excellent', 'fair', nan, 'new', 'salvage']"
            ]
          },
          "metadata": {},
          "execution_count": 181
        }
      ]
    },
    {
      "cell_type": "code",
      "metadata": {
        "id": "v8p8pOKvqH4o",
        "colab": {
          "base_uri": "https://localhost:8080/",
          "height": 237
        },
        "outputId": "706a3c0f-79bf-410f-afa9-6d90cdfe47a6"
      },
      "source": [
        "# Find the corresponding mean value of 'odometer' for each value in 'condition'\n",
        "mean_odometer_per_condition_df = df.groupby('condition').mean()['odometer'].reset_index()\n",
        "mean_odometer_per_condition_df"
      ],
      "execution_count": 182,
      "outputs": [
        {
          "output_type": "execute_result",
          "data": {
            "text/html": [
              "<div>\n",
              "<style scoped>\n",
              "    .dataframe tbody tr th:only-of-type {\n",
              "        vertical-align: middle;\n",
              "    }\n",
              "\n",
              "    .dataframe tbody tr th {\n",
              "        vertical-align: top;\n",
              "    }\n",
              "\n",
              "    .dataframe thead th {\n",
              "        text-align: right;\n",
              "    }\n",
              "</style>\n",
              "<table border=\"1\" class=\"dataframe\">\n",
              "  <thead>\n",
              "    <tr style=\"text-align: right;\">\n",
              "      <th></th>\n",
              "      <th>condition</th>\n",
              "      <th>odometer</th>\n",
              "    </tr>\n",
              "  </thead>\n",
              "  <tbody>\n",
              "    <tr>\n",
              "      <th>0</th>\n",
              "      <td>excellent</td>\n",
              "      <td>106881.083353</td>\n",
              "    </tr>\n",
              "    <tr>\n",
              "      <th>1</th>\n",
              "      <td>fair</td>\n",
              "      <td>195908.041894</td>\n",
              "    </tr>\n",
              "    <tr>\n",
              "      <th>2</th>\n",
              "      <td>good</td>\n",
              "      <td>89760.258149</td>\n",
              "    </tr>\n",
              "    <tr>\n",
              "      <th>3</th>\n",
              "      <td>like new</td>\n",
              "      <td>85183.347807</td>\n",
              "    </tr>\n",
              "    <tr>\n",
              "      <th>4</th>\n",
              "      <td>new</td>\n",
              "      <td>31744.211730</td>\n",
              "    </tr>\n",
              "    <tr>\n",
              "      <th>5</th>\n",
              "      <td>salvage</td>\n",
              "      <td>162213.778409</td>\n",
              "    </tr>\n",
              "  </tbody>\n",
              "</table>\n",
              "</div>"
            ],
            "text/plain": [
              "   condition       odometer\n",
              "0  excellent  106881.083353\n",
              "1       fair  195908.041894\n",
              "2       good   89760.258149\n",
              "3   like new   85183.347807\n",
              "4        new   31744.211730\n",
              "5    salvage  162213.778409"
            ]
          },
          "metadata": {},
          "execution_count": 182
        }
      ]
    },
    {
      "cell_type": "code",
      "metadata": {
        "id": "mX1GET-4qKKJ",
        "colab": {
          "base_uri": "https://localhost:8080/"
        },
        "outputId": "af8d3125-05b5-45d5-cd68-a2cddf711d6e"
      },
      "source": [
        "excellent_odo_mean = df[df['condition'] == 'excellent']['odometer'].mean()\n",
        "good_odo_mean = df[df['condition'] == 'good']['odometer'].mean()\n",
        "like_new_odo_mean = df[df['condition'] == 'like new']['odometer'].mean()\n",
        "salvage_odo_mean = df[df['condition'] == 'salvage']['odometer'].mean()\n",
        "fair_odo_mean = df[df['condition'] == 'fair']['odometer'].mean()\n",
        "print('Like new average odometer:', round( like_new_odo_mean,2))\n",
        "print('Excellent average odometer:', round( excellent_odo_mean,2))\n",
        "print('Good average odometer:', round( good_odo_mean,2))\n",
        "print('Fair average odometer:', round( fair_odo_mean,2))\n",
        "print('Salvage average odometer:', round( salvage_odo_mean,2))"
      ],
      "execution_count": 183,
      "outputs": [
        {
          "output_type": "stream",
          "name": "stdout",
          "text": [
            "Like new average odometer: 85183.35\n",
            "Excellent average odometer: 106881.08\n",
            "Good average odometer: 89760.26\n",
            "Fair average odometer: 195908.04\n",
            "Salvage average odometer: 162213.78\n"
          ]
        }
      ]
    },
    {
      "cell_type": "code",
      "metadata": {
        "id": "GWLezvlTqMiP"
      },
      "source": [
        "# Update the 'condition' based on the average 'odometer' values for each 'condition'\n",
        "\n",
        "df.loc[df['odometer'] <= like_new_odo_mean, 'condition'] = df.loc[df['odometer'] <= like_new_odo_mean, 'condition'].fillna('like new')\n",
        "\n",
        "df.loc[df['odometer'] >= fair_odo_mean, 'condition'] = df.loc[df['odometer'] >= fair_odo_mean, 'condition'].fillna('fair')\n",
        "\n",
        "df.loc[((df['odometer'] > good_odo_mean) & \n",
        "       (df['odometer'] <= excellent_odo_mean)), 'condition'] = df.loc[((df['odometer'] > good_odo_mean) & \n",
        "       (df['odometer'] <= excellent_odo_mean)), 'condition'].fillna('excellent')\n",
        "\n",
        "df.loc[((df['odometer'] > like_new_odo_mean) & \n",
        "       (df['odometer'] <= good_odo_mean)), 'condition'] = df.loc[((df['odometer'] > like_new_odo_mean) & \n",
        "       (df['odometer'] <= good_odo_mean)), 'condition'].fillna('good')\n",
        "\n",
        "df.loc[((df['odometer'] > good_odo_mean) & \n",
        "       (df['odometer'] <= fair_odo_mean)), 'condition'] = df.loc[((df['odometer'] > good_odo_mean) & \n",
        "       (df['odometer'] <= fair_odo_mean)), 'condition'].fillna('salvage')"
      ],
      "execution_count": 184,
      "outputs": []
    },
    {
      "cell_type": "code",
      "metadata": {
        "id": "A10tGcFQqQGt",
        "colab": {
          "base_uri": "https://localhost:8080/"
        },
        "outputId": "ae69ee27-6c2b-410c-9d47-85a2ac7d4012"
      },
      "source": [
        "# 'model' can be related to 'size'.\n",
        "# checking the sizes for model = 'patriot'\n",
        "df.loc[df['model'] == 'patriot', 'size'].unique()\n",
        "\n",
        "#There are more than 1 size for the same model. Therefore, this column is not reliable and has to be removed. \n",
        "# The car details can be scrapped from a different source and then combined to populate the correct car features."
      ],
      "execution_count": 185,
      "outputs": [
        {
          "output_type": "execute_result",
          "data": {
            "text/plain": [
              "array([nan, 'mid-size', 'compact', 'full-size', 'sub-compact'],\n",
              "      dtype=object)"
            ]
          },
          "metadata": {},
          "execution_count": 185
        }
      ]
    },
    {
      "cell_type": "code",
      "metadata": {
        "id": "vt4TQA7TqSOW"
      },
      "source": [
        "# dropping the column - 'size' since its not reliable\n",
        "# dropping the column - 'id' since it doesn't have any meaning\n",
        "# dropping the column - 'image_url' since it doesn't have any meaning\n",
        "# dropping the column - 'vin' since it doesn't have any meaning\n",
        "# dropping the column - 'description' - few rows contain important details. dropping for now.\n",
        "\n",
        "df = df.drop(['size','id','image_url','VIN','description'], axis = 1)"
      ],
      "execution_count": 186,
      "outputs": []
    },
    {
      "cell_type": "markdown",
      "metadata": {
        "id": "G86idlbav_S7"
      },
      "source": [
        "Exploratory Data Analysis"
      ]
    },
    {
      "cell_type": "code",
      "metadata": {
        "id": "Lwt6epPIqUxG"
      },
      "source": [
        "import matplotlib.pyplot as plt"
      ],
      "execution_count": 187,
      "outputs": []
    },
    {
      "cell_type": "code",
      "metadata": {
        "id": "gTUFVj_LqXJK",
        "colab": {
          "base_uri": "https://localhost:8080/",
          "height": 319
        },
        "outputId": "9274084d-3612-4349-a23d-f29c243ecdca"
      },
      "source": [
        "sns.countplot(x='condition', data=df, palette=(\"Paired\"))\n",
        "plt.title('Number of vehicles listed on craigslist across different conditions', fontsize=22)"
      ],
      "execution_count": 188,
      "outputs": [
        {
          "output_type": "execute_result",
          "data": {
            "text/plain": [
              "Text(0.5, 1.0, 'Number of vehicles listed on craigslist across different conditions')"
            ]
          },
          "metadata": {},
          "execution_count": 188
        },
        {
          "output_type": "display_data",
          "data": {
            "image/png": "[encoded data removed]",
            "text/plain": [
              "<Figure size 432x288 with 1 Axes>"
            ]
          },
          "metadata": {
            "needs_background": "light"
          }
        }
      ]
    },
    {
      "cell_type": "code",
      "metadata": {
        "id": "XHyR953IqZLX",
        "colab": {
          "base_uri": "https://localhost:8080/",
          "height": 583
        },
        "outputId": "7667f710-62bb-4576-ca1b-41996c79a2a0"
      },
      "source": [
        "region_count  = df['region'].value_counts()\n",
        "region_count = region_count[:10,]\n",
        "plt.figure(figsize=(11,8))\n",
        "sns.barplot(region_count.values, region_count.index, alpha=1,palette=(\"Paired\"))\n",
        "plt.title('Top 10 Counties which has the highest cars listings on Craigslist', fontsize=22)\n",
        "plt.xlabel('Number of Cars', size=\"20\")\n",
        "plt.ylabel('County Names', size=\"20\")\n",
        "plt.show()"
      ],
      "execution_count": 189,
      "outputs": [
        {
          "output_type": "stream",
          "name": "stderr",
          "text": [
            "/usr/local/lib/python3.7/dist-packages/seaborn/_decorators.py:43: FutureWarning: Pass the following variables as keyword args: x, y. From version 0.12, the only valid positional argument will be `data`, and passing other arguments without an explicit keyword will result in an error or misinterpretation.\n",
            "  FutureWarning\n"
          ]
        },
        {
          "output_type": "display_data",
          "data": {
            "image/png": "[encoded data removed]",
            "text/plain": [
              "<Figure size 792x576 with 1 Axes>"
            ]
          },
          "metadata": {
            "needs_background": "light"
          }
        }
      ]
    },
    {
      "cell_type": "code",
      "metadata": {
        "id": "AWiRp7VGvyw7",
        "colab": {
          "base_uri": "https://localhost:8080/",
          "height": 583
        },
        "outputId": "3def0aa2-8207-455c-f2c2-1e7fdd3ee20d"
      },
      "source": [
        "region_count  = df['region'].value_counts()\n",
        "region_count = region_count[-10:,]\n",
        "plt.figure(figsize=(11,8))\n",
        "sns.barplot(region_count.values, region_count.index, alpha=1,palette=(\"Paired\"))\n",
        "plt.title('Top 10 Counties which has the lowest cars listings on Craigslist', fontsize=22)\n",
        "plt.xlabel('Number of Cars', size=\"20\")\n",
        "plt.ylabel('County Names', size=\"20\")\n",
        "plt.show()"
      ],
      "execution_count": 190,
      "outputs": [
        {
          "output_type": "stream",
          "name": "stderr",
          "text": [
            "/usr/local/lib/python3.7/dist-packages/seaborn/_decorators.py:43: FutureWarning: Pass the following variables as keyword args: x, y. From version 0.12, the only valid positional argument will be `data`, and passing other arguments without an explicit keyword will result in an error or misinterpretation.\n",
            "  FutureWarning\n"
          ]
        },
        {
          "output_type": "display_data",
          "data": {
            "image/png": "[encoded data removed]",
            "text/plain": [
              "<Figure size 792x576 with 1 Axes>"
            ]
          },
          "metadata": {
            "needs_background": "light"
          }
        }
      ]
    },
    {
      "cell_type": "code",
      "metadata": {
        "id": "FP6bbsTMv1v4",
        "colab": {
          "base_uri": "https://localhost:8080/",
          "height": 511
        },
        "outputId": "221a3c3e-eec8-4a08-ae51-e445c3051888"
      },
      "source": [
        "state_count  = df['state'].value_counts()\n",
        "state_count = state_count[-10:,]\n",
        "plt.figure(figsize=(11,8))\n",
        "state_count.plot(kind='pie', subplots=True, figsize=(8, 8))\n",
        "plt.title('Top 10 States which has the highest cars listings on Craigslist', fontsize=22)\n",
        "plt.xlabel('Number of Cars', size=\"20\")\n",
        "plt.ylabel('States Abbrevation', size=\"20\")\n",
        "plt.show()\n"
      ],
      "execution_count": 191,
      "outputs": [
        {
          "output_type": "display_data",
          "data": {
            "image/png": "[encoded data removed]",
            "text/plain": [
              "<Figure size 792x576 with 1 Axes>"
            ]
          },
          "metadata": {}
        }
      ]
    },
    {
      "cell_type": "code",
      "metadata": {
        "id": "jJw76K8Qv5Ti",
        "colab": {
          "base_uri": "https://localhost:8080/",
          "height": 363
        },
        "outputId": "5ac6fd73-c8c9-49ba-9d59-35f81eadffa5"
      },
      "source": [
        "top_priced_counties = df.groupby('county').sum()['price'].reset_index().sort_values('price', ascending=False)[:10]\n",
        "top_priced_counties"
      ],
      "execution_count": 192,
      "outputs": [
        {
          "output_type": "execute_result",
          "data": {
            "text/html": [
              "<div>\n",
              "<style scoped>\n",
              "    .dataframe tbody tr th:only-of-type {\n",
              "        vertical-align: middle;\n",
              "    }\n",
              "\n",
              "    .dataframe tbody tr th {\n",
              "        vertical-align: top;\n",
              "    }\n",
              "\n",
              "    .dataframe thead th {\n",
              "        text-align: right;\n",
              "    }\n",
              "</style>\n",
              "<table border=\"1\" class=\"dataframe\">\n",
              "  <thead>\n",
              "    <tr style=\"text-align: right;\">\n",
              "      <th></th>\n",
              "      <th>county</th>\n",
              "      <th>price</th>\n",
              "    </tr>\n",
              "  </thead>\n",
              "  <tbody>\n",
              "    <tr>\n",
              "      <th>9</th>\n",
              "      <td>delaware</td>\n",
              "      <td>3.038551e+09</td>\n",
              "    </tr>\n",
              "    <tr>\n",
              "      <th>25</th>\n",
              "      <td>humboldt</td>\n",
              "      <td>1.117282e+09</td>\n",
              "    </tr>\n",
              "    <tr>\n",
              "      <th>11</th>\n",
              "      <td>dothan</td>\n",
              "      <td>1.051995e+08</td>\n",
              "    </tr>\n",
              "    <tr>\n",
              "      <th>0</th>\n",
              "      <td>anchorage</td>\n",
              "      <td>5.856509e+07</td>\n",
              "    </tr>\n",
              "    <tr>\n",
              "      <th>17</th>\n",
              "      <td>fortmyers</td>\n",
              "      <td>5.272437e+07</td>\n",
              "    </tr>\n",
              "    <tr>\n",
              "      <th>2</th>\n",
              "      <td>bakersfield</td>\n",
              "      <td>5.115968e+07</td>\n",
              "    </tr>\n",
              "    <tr>\n",
              "      <th>51</th>\n",
              "      <td>orlando</td>\n",
              "      <td>5.050314e+07</td>\n",
              "    </tr>\n",
              "    <tr>\n",
              "      <th>7</th>\n",
              "      <td>cosprings</td>\n",
              "      <td>5.016440e+07</td>\n",
              "    </tr>\n",
              "    <tr>\n",
              "      <th>59</th>\n",
              "      <td>reno</td>\n",
              "      <td>4.923700e+07</td>\n",
              "    </tr>\n",
              "    <tr>\n",
              "      <th>75</th>\n",
              "      <td>tucson</td>\n",
              "      <td>4.795808e+07</td>\n",
              "    </tr>\n",
              "  </tbody>\n",
              "</table>\n",
              "</div>"
            ],
            "text/plain": [
              "         county         price\n",
              "9      delaware  3.038551e+09\n",
              "25     humboldt  1.117282e+09\n",
              "11       dothan  1.051995e+08\n",
              "0     anchorage  5.856509e+07\n",
              "17    fortmyers  5.272437e+07\n",
              "2   bakersfield  5.115968e+07\n",
              "51      orlando  5.050314e+07\n",
              "7     cosprings  5.016440e+07\n",
              "59         reno  4.923700e+07\n",
              "75       tucson  4.795808e+07"
            ]
          },
          "metadata": {},
          "execution_count": 192
        }
      ]
    },
    {
      "cell_type": "code",
      "metadata": {
        "id": "w5JpsXTNwJCg",
        "colab": {
          "base_uri": "https://localhost:8080/",
          "height": 583
        },
        "outputId": "103dc748-a1e2-4c12-b9cf-b05a8a1f53fc"
      },
      "source": [
        "plt.figure(figsize=(11,8))\n",
        "sns.barplot(top_priced_counties.price, top_priced_counties.county, alpha=1,palette=(\"Paired\"))\n",
        "plt.title('Top 10 Counties w.r.t total car price on Craigslist', fontsize=22)\n",
        "plt.xlabel('Total value of Cars in thousand million (1e9)', size=\"20\")\n",
        "plt.ylabel('County Names', size=\"20\")\n",
        "plt.show()"
      ],
      "execution_count": 193,
      "outputs": [
        {
          "output_type": "stream",
          "name": "stderr",
          "text": [
            "/usr/local/lib/python3.7/dist-packages/seaborn/_decorators.py:43: FutureWarning: Pass the following variables as keyword args: x, y. From version 0.12, the only valid positional argument will be `data`, and passing other arguments without an explicit keyword will result in an error or misinterpretation.\n",
            "  FutureWarning\n"
          ]
        },
        {
          "output_type": "display_data",
          "data": {
            "image/png": "[encoded data removed]",
            "text/plain": [
              "<Figure size 792x576 with 1 Axes>"
            ]
          },
          "metadata": {
            "needs_background": "light"
          }
        }
      ]
    },
    {
      "cell_type": "code",
      "metadata": {
        "id": "jhrYzEUCwWiN",
        "colab": {
          "base_uri": "https://localhost:8080/",
          "height": 402
        },
        "outputId": "c4d34c60-8cf6-4138-ce2e-672d334348b4"
      },
      "source": [
        "manufacturer_count = df['manufacturer'].value_counts().iloc[:10]\n",
        "plt.figure(figsize=(10,6))\n",
        "manufacturer_count.plot(kind='pie', subplots=True, figsize=(8, 8))\n",
        "plt.title('Top 10 car manufacturer listings on Craigslist', fontsize=22)\n",
        "plt.xlabel('No.of Listings', size=\"20\")\n",
        "plt.ylabel('Manufacturer', size=\"20\")\n",
        "plt.show()"
      ],
      "execution_count": 194,
      "outputs": [
        {
          "output_type": "display_data",
          "data": {
            "image/png": "[encoded data removed]",
            "text/plain": [
              "<Figure size 720x432 with 1 Axes>"
            ]
          },
          "metadata": {}
        }
      ]
    },
    {
      "cell_type": "code",
      "metadata": {
        "id": "J4ABtQRMwZz8",
        "colab": {
          "base_uri": "https://localhost:8080/"
        },
        "outputId": "4321392e-21b3-4395-9c98-2a69ba045cc9"
      },
      "source": [
        "df.info()"
      ],
      "execution_count": 195,
      "outputs": [
        {
          "output_type": "stream",
          "name": "stdout",
          "text": [
            "<class 'pandas.core.frame.DataFrame'>\n",
            "Int64Index: 92291 entries, 27 to 110651\n",
            "Data columns (total 17 columns):\n",
            " #   Column        Non-Null Count  Dtype  \n",
            "---  ------        --------------  -----  \n",
            " 0   region        92291 non-null  object \n",
            " 1   price         92291 non-null  float64\n",
            " 2   year          92291 non-null  float64\n",
            " 3   manufacturer  92291 non-null  object \n",
            " 4   model         92291 non-null  object \n",
            " 5   condition     92166 non-null  object \n",
            " 6   cylinders     92291 non-null  object \n",
            " 7   fuel          92291 non-null  object \n",
            " 8   odometer      91343 non-null  float64\n",
            " 9   title_status  92291 non-null  object \n",
            " 10  transmission  92291 non-null  object \n",
            " 11  drive         92288 non-null  object \n",
            " 12  type          92291 non-null  object \n",
            " 13  paint_color   92291 non-null  object \n",
            " 14  county        92291 non-null  object \n",
            " 15  state         92291 non-null  object \n",
            " 16  posting_date  92291 non-null  object \n",
            "dtypes: float64(3), object(14)\n",
            "memory usage: 15.2+ MB\n"
          ]
        }
      ]
    },
    {
      "cell_type": "code",
      "metadata": {
        "id": "XI3gpZnEwdbw",
        "colab": {
          "base_uri": "https://localhost:8080/"
        },
        "outputId": "e7b3021f-ab66-4f67-c419-9e84dce22d22"
      },
      "source": [
        "df['cylinders'].unique()"
      ],
      "execution_count": 196,
      "outputs": [
        {
          "output_type": "execute_result",
          "data": {
            "text/plain": [
              "array(['8 cylinders', '6 cylinders', '4 cylinders', '5 cylinders',\n",
              "       '3 cylinders', '10 cylinders', '12 cylinders', 'other'],\n",
              "      dtype=object)"
            ]
          },
          "metadata": {},
          "execution_count": 196
        }
      ]
    },
    {
      "cell_type": "code",
      "metadata": {
        "id": "bQbZLLGPwgjn",
        "colab": {
          "base_uri": "https://localhost:8080/"
        },
        "outputId": "32cb0880-bd6a-4209-c913-114e2a5b8825"
      },
      "source": [
        "df['transmission'].unique()"
      ],
      "execution_count": 197,
      "outputs": [
        {
          "output_type": "execute_result",
          "data": {
            "text/plain": [
              "array(['other', 'automatic', 'manual'], dtype=object)"
            ]
          },
          "metadata": {},
          "execution_count": 197
        }
      ]
    },
    {
      "cell_type": "code",
      "metadata": {
        "id": "1Rn1w1S8wiwZ",
        "colab": {
          "base_uri": "https://localhost:8080/"
        },
        "outputId": "1f7cefcb-03b8-41eb-b6be-8b925973edac"
      },
      "source": [
        "df['title_status'].unique()"
      ],
      "execution_count": 198,
      "outputs": [
        {
          "output_type": "execute_result",
          "data": {
            "text/plain": [
              "array(['clean', 'rebuilt', 'lien', 'salvage', 'missing', 'parts only'],\n",
              "      dtype=object)"
            ]
          },
          "metadata": {},
          "execution_count": 198
        }
      ]
    },
    {
      "cell_type": "markdown",
      "metadata": {
        "id": "NlUW5_IFwsAP"
      },
      "source": [
        "Feature Preprocessing"
      ]
    },
    {
      "cell_type": "code",
      "metadata": {
        "id": "PDkyjPhBwlNe",
        "colab": {
          "base_uri": "https://localhost:8080/"
        },
        "outputId": "047c7959-4790-4b28-f901-b092b5acdcdc"
      },
      "source": [
        "# Removing region since we already have 'county'\n",
        "df=df.drop('region', axis=1)\n",
        "# Removing rows which has NULLs in conditon and odometer.\n",
        "df=df.dropna(subset=['odometer','condition'])\n",
        "# Identify the no.of missing values in each column and their percentage compared to total.\n",
        "missing_vals = df.isnull().sum().sort_values(ascending = False)\n",
        "(missing_vals/len(df))*100"
      ],
      "execution_count": 199,
      "outputs": [
        {
          "output_type": "execute_result",
          "data": {
            "text/plain": [
              "drive           0.003284\n",
              "posting_date    0.000000\n",
              "state           0.000000\n",
              "county          0.000000\n",
              "paint_color     0.000000\n",
              "type            0.000000\n",
              "transmission    0.000000\n",
              "title_status    0.000000\n",
              "odometer        0.000000\n",
              "fuel            0.000000\n",
              "cylinders       0.000000\n",
              "condition       0.000000\n",
              "model           0.000000\n",
              "manufacturer    0.000000\n",
              "year            0.000000\n",
              "price           0.000000\n",
              "dtype: float64"
            ]
          },
          "metadata": {},
          "execution_count": 199
        }
      ]
    },
    {
      "cell_type": "code",
      "metadata": {
        "id": "toy3tJpBwsuk",
        "colab": {
          "base_uri": "https://localhost:8080/",
          "height": 791
        },
        "outputId": "e9e6990b-0b25-4a83-ffca-ec7fe5e8ef4e"
      },
      "source": [
        "from sklearn import preprocessing\n",
        "le = preprocessing.LabelEncoder()\n",
        "# convert characters to numbers using label Encoding\n",
        "df[['county','manufacturer', 'model', 'condition','cylinders', 'fuel', 'title_status', 'transmission','drive', 'type', 'paint_color', 'state']] = df[['county','manufacturer', 'model', 'condition','cylinders', 'fuel', 'title_status', 'transmission','drive','type', 'paint_color', 'state']].apply(le.fit_transform)\n",
        "df"
      ],
      "execution_count": 200,
      "outputs": [
        {
          "output_type": "execute_result",
          "data": {
            "text/html": [
              "<div>\n",
              "<style scoped>\n",
              "    .dataframe tbody tr th:only-of-type {\n",
              "        vertical-align: middle;\n",
              "    }\n",
              "\n",
              "    .dataframe tbody tr th {\n",
              "        vertical-align: top;\n",
              "    }\n",
              "\n",
              "    .dataframe thead th {\n",
              "        text-align: right;\n",
              "    }\n",
              "</style>\n",
              "<table border=\"1\" class=\"dataframe\">\n",
              "  <thead>\n",
              "    <tr style=\"text-align: right;\">\n",
              "      <th></th>\n",
              "      <th>price</th>\n",
              "      <th>year</th>\n",
              "      <th>manufacturer</th>\n",
              "      <th>model</th>\n",
              "      <th>condition</th>\n",
              "      <th>cylinders</th>\n",
              "      <th>fuel</th>\n",
              "      <th>odometer</th>\n",
              "      <th>title_status</th>\n",
              "      <th>transmission</th>\n",
              "      <th>drive</th>\n",
              "      <th>type</th>\n",
              "      <th>paint_color</th>\n",
              "      <th>county</th>\n",
              "      <th>state</th>\n",
              "      <th>posting_date</th>\n",
              "    </tr>\n",
              "  </thead>\n",
              "  <tbody>\n",
              "    <tr>\n",
              "      <th>27</th>\n",
              "      <td>33590.0</td>\n",
              "      <td>2014.0</td>\n",
              "      <td>14</td>\n",
              "      <td>9402</td>\n",
              "      <td>2</td>\n",
              "      <td>6</td>\n",
              "      <td>2</td>\n",
              "      <td>57923.0</td>\n",
              "      <td>0</td>\n",
              "      <td>2</td>\n",
              "      <td>3</td>\n",
              "      <td>8</td>\n",
              "      <td>10</td>\n",
              "      <td>1</td>\n",
              "      <td>1</td>\n",
              "      <td>2021-05-04T12:31:18-0500</td>\n",
              "    </tr>\n",
              "    <tr>\n",
              "      <th>28</th>\n",
              "      <td>22590.0</td>\n",
              "      <td>2010.0</td>\n",
              "      <td>7</td>\n",
              "      <td>9526</td>\n",
              "      <td>2</td>\n",
              "      <td>6</td>\n",
              "      <td>2</td>\n",
              "      <td>71229.0</td>\n",
              "      <td>0</td>\n",
              "      <td>2</td>\n",
              "      <td>3</td>\n",
              "      <td>8</td>\n",
              "      <td>1</td>\n",
              "      <td>1</td>\n",
              "      <td>1</td>\n",
              "      <td>2021-05-04T12:31:08-0500</td>\n",
              "    </tr>\n",
              "    <tr>\n",
              "      <th>30</th>\n",
              "      <td>30990.0</td>\n",
              "      <td>2017.0</td>\n",
              "      <td>39</td>\n",
              "      <td>10720</td>\n",
              "      <td>2</td>\n",
              "      <td>6</td>\n",
              "      <td>2</td>\n",
              "      <td>41124.0</td>\n",
              "      <td>0</td>\n",
              "      <td>2</td>\n",
              "      <td>3</td>\n",
              "      <td>8</td>\n",
              "      <td>8</td>\n",
              "      <td>1</td>\n",
              "      <td>1</td>\n",
              "      <td>2021-05-04T10:41:31-0500</td>\n",
              "    </tr>\n",
              "    <tr>\n",
              "      <th>31</th>\n",
              "      <td>15000.0</td>\n",
              "      <td>2013.0</td>\n",
              "      <td>13</td>\n",
              "      <td>5426</td>\n",
              "      <td>0</td>\n",
              "      <td>5</td>\n",
              "      <td>2</td>\n",
              "      <td>128000.0</td>\n",
              "      <td>0</td>\n",
              "      <td>0</td>\n",
              "      <td>2</td>\n",
              "      <td>10</td>\n",
              "      <td>0</td>\n",
              "      <td>1</td>\n",
              "      <td>1</td>\n",
              "      <td>2021-05-03T14:02:03-0500</td>\n",
              "    </tr>\n",
              "    <tr>\n",
              "      <th>32</th>\n",
              "      <td>27990.0</td>\n",
              "      <td>2012.0</td>\n",
              "      <td>14</td>\n",
              "      <td>9447</td>\n",
              "      <td>2</td>\n",
              "      <td>6</td>\n",
              "      <td>2</td>\n",
              "      <td>68696.0</td>\n",
              "      <td>0</td>\n",
              "      <td>2</td>\n",
              "      <td>0</td>\n",
              "      <td>8</td>\n",
              "      <td>0</td>\n",
              "      <td>1</td>\n",
              "      <td>1</td>\n",
              "      <td>2021-05-03T13:41:25-0500</td>\n",
              "    </tr>\n",
              "    <tr>\n",
              "      <th>...</th>\n",
              "      <td>...</td>\n",
              "      <td>...</td>\n",
              "      <td>...</td>\n",
              "      <td>...</td>\n",
              "      <td>...</td>\n",
              "      <td>...</td>\n",
              "      <td>...</td>\n",
              "      <td>...</td>\n",
              "      <td>...</td>\n",
              "      <td>...</td>\n",
              "      <td>...</td>\n",
              "      <td>...</td>\n",
              "      <td>...</td>\n",
              "      <td>...</td>\n",
              "      <td>...</td>\n",
              "      <td>...</td>\n",
              "    </tr>\n",
              "    <tr>\n",
              "      <th>110646</th>\n",
              "      <td>1900.0</td>\n",
              "      <td>2000.0</td>\n",
              "      <td>7</td>\n",
              "      <td>10293</td>\n",
              "      <td>1</td>\n",
              "      <td>6</td>\n",
              "      <td>2</td>\n",
              "      <td>235380.0</td>\n",
              "      <td>0</td>\n",
              "      <td>0</td>\n",
              "      <td>2</td>\n",
              "      <td>8</td>\n",
              "      <td>10</td>\n",
              "      <td>65</td>\n",
              "      <td>9</td>\n",
              "      <td>2021-04-12T17:11:52-0400</td>\n",
              "    </tr>\n",
              "    <tr>\n",
              "      <th>110647</th>\n",
              "      <td>16688.0</td>\n",
              "      <td>2016.0</td>\n",
              "      <td>6</td>\n",
              "      <td>4471</td>\n",
              "      <td>0</td>\n",
              "      <td>6</td>\n",
              "      <td>2</td>\n",
              "      <td>89870.0</td>\n",
              "      <td>0</td>\n",
              "      <td>0</td>\n",
              "      <td>2</td>\n",
              "      <td>9</td>\n",
              "      <td>1</td>\n",
              "      <td>65</td>\n",
              "      <td>9</td>\n",
              "      <td>2021-04-12T16:57:38-0400</td>\n",
              "    </tr>\n",
              "    <tr>\n",
              "      <th>110649</th>\n",
              "      <td>34888.0</td>\n",
              "      <td>2011.0</td>\n",
              "      <td>13</td>\n",
              "      <td>5511</td>\n",
              "      <td>0</td>\n",
              "      <td>6</td>\n",
              "      <td>0</td>\n",
              "      <td>106860.0</td>\n",
              "      <td>0</td>\n",
              "      <td>0</td>\n",
              "      <td>0</td>\n",
              "      <td>8</td>\n",
              "      <td>1</td>\n",
              "      <td>65</td>\n",
              "      <td>9</td>\n",
              "      <td>2021-04-12T15:52:40-0400</td>\n",
              "    </tr>\n",
              "    <tr>\n",
              "      <th>110650</th>\n",
              "      <td>7900.0</td>\n",
              "      <td>2008.0</td>\n",
              "      <td>4</td>\n",
              "      <td>11122</td>\n",
              "      <td>0</td>\n",
              "      <td>5</td>\n",
              "      <td>2</td>\n",
              "      <td>160799.0</td>\n",
              "      <td>0</td>\n",
              "      <td>0</td>\n",
              "      <td>0</td>\n",
              "      <td>0</td>\n",
              "      <td>1</td>\n",
              "      <td>65</td>\n",
              "      <td>9</td>\n",
              "      <td>2021-04-12T15:45:41-0400</td>\n",
              "    </tr>\n",
              "    <tr>\n",
              "      <th>110651</th>\n",
              "      <td>14590.0</td>\n",
              "      <td>2015.0</td>\n",
              "      <td>30</td>\n",
              "      <td>7212</td>\n",
              "      <td>2</td>\n",
              "      <td>5</td>\n",
              "      <td>2</td>\n",
              "      <td>23872.0</td>\n",
              "      <td>0</td>\n",
              "      <td>2</td>\n",
              "      <td>1</td>\n",
              "      <td>4</td>\n",
              "      <td>0</td>\n",
              "      <td>65</td>\n",
              "      <td>9</td>\n",
              "      <td>2021-04-12T14:51:12-0400</td>\n",
              "    </tr>\n",
              "  </tbody>\n",
              "</table>\n",
              "<p>91343 rows × 16 columns</p>\n",
              "</div>"
            ],
            "text/plain": [
              "          price    year  manufacturer  model  condition  cylinders  fuel  \\\n",
              "27      33590.0  2014.0            14   9402          2          6     2   \n",
              "28      22590.0  2010.0             7   9526          2          6     2   \n",
              "30      30990.0  2017.0            39  10720          2          6     2   \n",
              "31      15000.0  2013.0            13   5426          0          5     2   \n",
              "32      27990.0  2012.0            14   9447          2          6     2   \n",
              "...         ...     ...           ...    ...        ...        ...   ...   \n",
              "110646   1900.0  2000.0             7  10293          1          6     2   \n",
              "110647  16688.0  2016.0             6   4471          0          6     2   \n",
              "110649  34888.0  2011.0            13   5511          0          6     0   \n",
              "110650   7900.0  2008.0             4  11122          0          5     2   \n",
              "110651  14590.0  2015.0            30   7212          2          5     2   \n",
              "\n",
              "        odometer  title_status  transmission  drive  type  paint_color  \\\n",
              "27       57923.0             0             2      3     8           10   \n",
              "28       71229.0             0             2      3     8            1   \n",
              "30       41124.0             0             2      3     8            8   \n",
              "31      128000.0             0             0      2    10            0   \n",
              "32       68696.0             0             2      0     8            0   \n",
              "...          ...           ...           ...    ...   ...          ...   \n",
              "110646  235380.0             0             0      2     8           10   \n",
              "110647   89870.0             0             0      2     9            1   \n",
              "110649  106860.0             0             0      0     8            1   \n",
              "110650  160799.0             0             0      0     0            1   \n",
              "110651   23872.0             0             2      1     4            0   \n",
              "\n",
              "        county  state              posting_date  \n",
              "27           1      1  2021-05-04T12:31:18-0500  \n",
              "28           1      1  2021-05-04T12:31:08-0500  \n",
              "30           1      1  2021-05-04T10:41:31-0500  \n",
              "31           1      1  2021-05-03T14:02:03-0500  \n",
              "32           1      1  2021-05-03T13:41:25-0500  \n",
              "...        ...    ...                       ...  \n",
              "110646      65      9  2021-04-12T17:11:52-0400  \n",
              "110647      65      9  2021-04-12T16:57:38-0400  \n",
              "110649      65      9  2021-04-12T15:52:40-0400  \n",
              "110650      65      9  2021-04-12T15:45:41-0400  \n",
              "110651      65      9  2021-04-12T14:51:12-0400  \n",
              "\n",
              "[91343 rows x 16 columns]"
            ]
          },
          "metadata": {},
          "execution_count": 200
        }
      ]
    },
    {
      "cell_type": "markdown",
      "metadata": {
        "id": "JfKf6JMJw86S"
      },
      "source": [
        "Handling continous values - Scaling down"
      ]
    },
    {
      "cell_type": "code",
      "metadata": {
        "id": "rSqhbEhTw3EZ"
      },
      "source": [
        "df[\"odometer\"] = np.sqrt(preprocessing.minmax_scale(df[\"odometer\"]))\n"
      ],
      "execution_count": 201,
      "outputs": []
    },
    {
      "cell_type": "code",
      "metadata": {
        "id": "iwpw79HxxEsB",
        "colab": {
          "base_uri": "https://localhost:8080/",
          "height": 791
        },
        "outputId": "99567ec4-645c-4539-89f1-cbf357a0fa12"
      },
      "source": [
        "df"
      ],
      "execution_count": 202,
      "outputs": [
        {
          "output_type": "execute_result",
          "data": {
            "text/html": [
              "<div>\n",
              "<style scoped>\n",
              "    .dataframe tbody tr th:only-of-type {\n",
              "        vertical-align: middle;\n",
              "    }\n",
              "\n",
              "    .dataframe tbody tr th {\n",
              "        vertical-align: top;\n",
              "    }\n",
              "\n",
              "    .dataframe thead th {\n",
              "        text-align: right;\n",
              "    }\n",
              "</style>\n",
              "<table border=\"1\" class=\"dataframe\">\n",
              "  <thead>\n",
              "    <tr style=\"text-align: right;\">\n",
              "      <th></th>\n",
              "      <th>price</th>\n",
              "      <th>year</th>\n",
              "      <th>manufacturer</th>\n",
              "      <th>model</th>\n",
              "      <th>condition</th>\n",
              "      <th>cylinders</th>\n",
              "      <th>fuel</th>\n",
              "      <th>odometer</th>\n",
              "      <th>title_status</th>\n",
              "      <th>transmission</th>\n",
              "      <th>drive</th>\n",
              "      <th>type</th>\n",
              "      <th>paint_color</th>\n",
              "      <th>county</th>\n",
              "      <th>state</th>\n",
              "      <th>posting_date</th>\n",
              "    </tr>\n",
              "  </thead>\n",
              "  <tbody>\n",
              "    <tr>\n",
              "      <th>27</th>\n",
              "      <td>33590.0</td>\n",
              "      <td>2014.0</td>\n",
              "      <td>14</td>\n",
              "      <td>9402</td>\n",
              "      <td>2</td>\n",
              "      <td>6</td>\n",
              "      <td>2</td>\n",
              "      <td>0.076107</td>\n",
              "      <td>0</td>\n",
              "      <td>2</td>\n",
              "      <td>3</td>\n",
              "      <td>8</td>\n",
              "      <td>10</td>\n",
              "      <td>1</td>\n",
              "      <td>1</td>\n",
              "      <td>2021-05-04T12:31:18-0500</td>\n",
              "    </tr>\n",
              "    <tr>\n",
              "      <th>28</th>\n",
              "      <td>22590.0</td>\n",
              "      <td>2010.0</td>\n",
              "      <td>7</td>\n",
              "      <td>9526</td>\n",
              "      <td>2</td>\n",
              "      <td>6</td>\n",
              "      <td>2</td>\n",
              "      <td>0.084397</td>\n",
              "      <td>0</td>\n",
              "      <td>2</td>\n",
              "      <td>3</td>\n",
              "      <td>8</td>\n",
              "      <td>1</td>\n",
              "      <td>1</td>\n",
              "      <td>1</td>\n",
              "      <td>2021-05-04T12:31:08-0500</td>\n",
              "    </tr>\n",
              "    <tr>\n",
              "      <th>30</th>\n",
              "      <td>30990.0</td>\n",
              "      <td>2017.0</td>\n",
              "      <td>39</td>\n",
              "      <td>10720</td>\n",
              "      <td>2</td>\n",
              "      <td>6</td>\n",
              "      <td>2</td>\n",
              "      <td>0.064128</td>\n",
              "      <td>0</td>\n",
              "      <td>2</td>\n",
              "      <td>3</td>\n",
              "      <td>8</td>\n",
              "      <td>8</td>\n",
              "      <td>1</td>\n",
              "      <td>1</td>\n",
              "      <td>2021-05-04T10:41:31-0500</td>\n",
              "    </tr>\n",
              "    <tr>\n",
              "      <th>31</th>\n",
              "      <td>15000.0</td>\n",
              "      <td>2013.0</td>\n",
              "      <td>13</td>\n",
              "      <td>5426</td>\n",
              "      <td>0</td>\n",
              "      <td>5</td>\n",
              "      <td>2</td>\n",
              "      <td>0.113137</td>\n",
              "      <td>0</td>\n",
              "      <td>0</td>\n",
              "      <td>2</td>\n",
              "      <td>10</td>\n",
              "      <td>0</td>\n",
              "      <td>1</td>\n",
              "      <td>1</td>\n",
              "      <td>2021-05-03T14:02:03-0500</td>\n",
              "    </tr>\n",
              "    <tr>\n",
              "      <th>32</th>\n",
              "      <td>27990.0</td>\n",
              "      <td>2012.0</td>\n",
              "      <td>14</td>\n",
              "      <td>9447</td>\n",
              "      <td>2</td>\n",
              "      <td>6</td>\n",
              "      <td>2</td>\n",
              "      <td>0.082883</td>\n",
              "      <td>0</td>\n",
              "      <td>2</td>\n",
              "      <td>0</td>\n",
              "      <td>8</td>\n",
              "      <td>0</td>\n",
              "      <td>1</td>\n",
              "      <td>1</td>\n",
              "      <td>2021-05-03T13:41:25-0500</td>\n",
              "    </tr>\n",
              "    <tr>\n",
              "      <th>...</th>\n",
              "      <td>...</td>\n",
              "      <td>...</td>\n",
              "      <td>...</td>\n",
              "      <td>...</td>\n",
              "      <td>...</td>\n",
              "      <td>...</td>\n",
              "      <td>...</td>\n",
              "      <td>...</td>\n",
              "      <td>...</td>\n",
              "      <td>...</td>\n",
              "      <td>...</td>\n",
              "      <td>...</td>\n",
              "      <td>...</td>\n",
              "      <td>...</td>\n",
              "      <td>...</td>\n",
              "      <td>...</td>\n",
              "    </tr>\n",
              "    <tr>\n",
              "      <th>110646</th>\n",
              "      <td>1900.0</td>\n",
              "      <td>2000.0</td>\n",
              "      <td>7</td>\n",
              "      <td>10293</td>\n",
              "      <td>1</td>\n",
              "      <td>6</td>\n",
              "      <td>2</td>\n",
              "      <td>0.153421</td>\n",
              "      <td>0</td>\n",
              "      <td>0</td>\n",
              "      <td>2</td>\n",
              "      <td>8</td>\n",
              "      <td>10</td>\n",
              "      <td>65</td>\n",
              "      <td>9</td>\n",
              "      <td>2021-04-12T17:11:52-0400</td>\n",
              "    </tr>\n",
              "    <tr>\n",
              "      <th>110647</th>\n",
              "      <td>16688.0</td>\n",
              "      <td>2016.0</td>\n",
              "      <td>6</td>\n",
              "      <td>4471</td>\n",
              "      <td>0</td>\n",
              "      <td>6</td>\n",
              "      <td>2</td>\n",
              "      <td>0.094800</td>\n",
              "      <td>0</td>\n",
              "      <td>0</td>\n",
              "      <td>2</td>\n",
              "      <td>9</td>\n",
              "      <td>1</td>\n",
              "      <td>65</td>\n",
              "      <td>9</td>\n",
              "      <td>2021-04-12T16:57:38-0400</td>\n",
              "    </tr>\n",
              "    <tr>\n",
              "      <th>110649</th>\n",
              "      <td>34888.0</td>\n",
              "      <td>2011.0</td>\n",
              "      <td>13</td>\n",
              "      <td>5511</td>\n",
              "      <td>0</td>\n",
              "      <td>6</td>\n",
              "      <td>0</td>\n",
              "      <td>0.103373</td>\n",
              "      <td>0</td>\n",
              "      <td>0</td>\n",
              "      <td>0</td>\n",
              "      <td>8</td>\n",
              "      <td>1</td>\n",
              "      <td>65</td>\n",
              "      <td>9</td>\n",
              "      <td>2021-04-12T15:52:40-0400</td>\n",
              "    </tr>\n",
              "    <tr>\n",
              "      <th>110650</th>\n",
              "      <td>7900.0</td>\n",
              "      <td>2008.0</td>\n",
              "      <td>4</td>\n",
              "      <td>11122</td>\n",
              "      <td>0</td>\n",
              "      <td>5</td>\n",
              "      <td>2</td>\n",
              "      <td>0.126807</td>\n",
              "      <td>0</td>\n",
              "      <td>0</td>\n",
              "      <td>0</td>\n",
              "      <td>0</td>\n",
              "      <td>1</td>\n",
              "      <td>65</td>\n",
              "      <td>9</td>\n",
              "      <td>2021-04-12T15:45:41-0400</td>\n",
              "    </tr>\n",
              "    <tr>\n",
              "      <th>110651</th>\n",
              "      <td>14590.0</td>\n",
              "      <td>2015.0</td>\n",
              "      <td>30</td>\n",
              "      <td>7212</td>\n",
              "      <td>2</td>\n",
              "      <td>5</td>\n",
              "      <td>2</td>\n",
              "      <td>0.048859</td>\n",
              "      <td>0</td>\n",
              "      <td>2</td>\n",
              "      <td>1</td>\n",
              "      <td>4</td>\n",
              "      <td>0</td>\n",
              "      <td>65</td>\n",
              "      <td>9</td>\n",
              "      <td>2021-04-12T14:51:12-0400</td>\n",
              "    </tr>\n",
              "  </tbody>\n",
              "</table>\n",
              "<p>91343 rows × 16 columns</p>\n",
              "</div>"
            ],
            "text/plain": [
              "          price    year  manufacturer  model  condition  cylinders  fuel  \\\n",
              "27      33590.0  2014.0            14   9402          2          6     2   \n",
              "28      22590.0  2010.0             7   9526          2          6     2   \n",
              "30      30990.0  2017.0            39  10720          2          6     2   \n",
              "31      15000.0  2013.0            13   5426          0          5     2   \n",
              "32      27990.0  2012.0            14   9447          2          6     2   \n",
              "...         ...     ...           ...    ...        ...        ...   ...   \n",
              "110646   1900.0  2000.0             7  10293          1          6     2   \n",
              "110647  16688.0  2016.0             6   4471          0          6     2   \n",
              "110649  34888.0  2011.0            13   5511          0          6     0   \n",
              "110650   7900.0  2008.0             4  11122          0          5     2   \n",
              "110651  14590.0  2015.0            30   7212          2          5     2   \n",
              "\n",
              "        odometer  title_status  transmission  drive  type  paint_color  \\\n",
              "27      0.076107             0             2      3     8           10   \n",
              "28      0.084397             0             2      3     8            1   \n",
              "30      0.064128             0             2      3     8            8   \n",
              "31      0.113137             0             0      2    10            0   \n",
              "32      0.082883             0             2      0     8            0   \n",
              "...          ...           ...           ...    ...   ...          ...   \n",
              "110646  0.153421             0             0      2     8           10   \n",
              "110647  0.094800             0             0      2     9            1   \n",
              "110649  0.103373             0             0      0     8            1   \n",
              "110650  0.126807             0             0      0     0            1   \n",
              "110651  0.048859             0             2      1     4            0   \n",
              "\n",
              "        county  state              posting_date  \n",
              "27           1      1  2021-05-04T12:31:18-0500  \n",
              "28           1      1  2021-05-04T12:31:08-0500  \n",
              "30           1      1  2021-05-04T10:41:31-0500  \n",
              "31           1      1  2021-05-03T14:02:03-0500  \n",
              "32           1      1  2021-05-03T13:41:25-0500  \n",
              "...        ...    ...                       ...  \n",
              "110646      65      9  2021-04-12T17:11:52-0400  \n",
              "110647      65      9  2021-04-12T16:57:38-0400  \n",
              "110649      65      9  2021-04-12T15:52:40-0400  \n",
              "110650      65      9  2021-04-12T15:45:41-0400  \n",
              "110651      65      9  2021-04-12T14:51:12-0400  \n",
              "\n",
              "[91343 rows x 16 columns]"
            ]
          },
          "metadata": {},
          "execution_count": 202
        }
      ]
    },
    {
      "cell_type": "markdown",
      "metadata": {
        "id": "VoqLbiW1xLqN"
      },
      "source": [
        "Train Test Split\n"
      ]
    },
    {
      "cell_type": "code",
      "metadata": {
        "id": "1XBHrvTWxMZF",
        "colab": {
          "base_uri": "https://localhost:8080/"
        },
        "outputId": "96fda5b1-ef3f-488a-b84e-77c412ceb4ee"
      },
      "source": [
        "# Seperate Features and Outcome\n",
        "X = df.drop('price',axis=1).values\n",
        "y = df.price.values\n",
        "from sklearn.model_selection import StratifiedKFold\n",
        "\n",
        "skf = StratifiedKFold(n_splits=2)\n",
        "skf.get_n_splits(X, y)\n",
        "\n",
        "for train_index, test_index in skf.split(X, y):\n",
        "    print(\"TRAIN:\", train_index, \"TEST:\", test_index)\n",
        "    X_train, X_test = X[train_index], X[test_index]\n",
        "    y_train, y_test = y[train_index], y[test_index]\n",
        "\n",
        "# works for classification\n",
        "# X_train, X_test, y_train, y_test = train_test_split(X, y, test_size=0.2, random_state=42, stratify=y)"
      ],
      "execution_count": 203,
      "outputs": [
        {
          "output_type": "stream",
          "name": "stderr",
          "text": [
            "/usr/local/lib/python3.7/dist-packages/sklearn/model_selection/_split.py:680: UserWarning: The least populated class in y has only 1 members, which is less than n_splits=2.\n",
            "  UserWarning,\n"
          ]
        },
        {
          "output_type": "stream",
          "name": "stdout",
          "text": [
            "TRAIN: [  146   251   311 ... 91340 91341 91342] TEST: [    0     1     2 ... 91072 91094 91331]\n",
            "TRAIN: [    0     1     2 ... 91072 91094 91331] TEST: [  146   251   311 ... 91340 91341 91342]\n"
          ]
        }
      ]
    },
    {
      "cell_type": "code",
      "metadata": {
        "id": "fBMCbiTmxTs8",
        "colab": {
          "base_uri": "https://localhost:8080/"
        },
        "outputId": "6a5db73e-a476-4ac0-dee2-fcec8916bd82"
      },
      "source": [
        "print (X_train.shape, y_train.shape, X_test.shape, y_test.shape)"
      ],
      "execution_count": 204,
      "outputs": [
        {
          "output_type": "stream",
          "name": "stdout",
          "text": [
            "(45672, 15) (45672,) (45671, 15) (45671,)\n"
          ]
        }
      ]
    },
    {
      "cell_type": "markdown",
      "metadata": {
        "id": "Ez50aQ7zxctS"
      },
      "source": [
        "Machine Learning Algorithms"
      ]
    },
    {
      "cell_type": "code",
      "metadata": {
        "id": "ITm8gM5uxbOG"
      },
      "source": [
        "# Create a dataframe to store accuracy scores of different algorithms\n",
        "accuracy_df = pd.DataFrame(columns=('r2', 'rmse'))"
      ],
      "execution_count": 205,
      "outputs": []
    },
    {
      "cell_type": "code",
      "metadata": {
        "id": "4_MYezgqxoDP",
        "colab": {
          "base_uri": "https://localhost:8080/",
          "height": 381
        },
        "outputId": "8da09428-9877-402c-fead-cb62d75fc0cd"
      },
      "source": [
        "#DECISION TREE\n",
        "from sklearn.tree import DecisionTreeRegressor\n",
        "import matplotlib.pyplot as plt\n",
        "from sklearn import metrics\n",
        "import math\n",
        "from sklearn.metrics import mean_squared_error as MSE\n",
        "\n",
        "# Fit\n",
        "model = DecisionTreeRegressor()\n",
        "model.fit(X_train, y_train)\n",
        "\n",
        "# Predict\n",
        "y_pred = model.predict(X_test)\n",
        "\n",
        "# Metrics\n",
        "r2 = round(metrics.r2_score(y_test, y_pred),2)\n",
        "rmse = round(np.sqrt(metrics.mean_squared_error(y_test, y_pred)),2)\n",
        "accuracy_df = accuracy_df.append(pd.DataFrame({'r2':[r2],'rmse':[rmse]}, index = ['Decision Tree Baseline']))\n",
        "accuracy_df"
      ],
      "execution_count": 209,
      "outputs": [
        {
          "output_type": "error",
          "ename": "ValueError",
          "evalue": "ignored",
          "traceback": [
            "\u001b[0;31m---------------------------------------------------------------------------\u001b[0m",
            "\u001b[0;31mValueError\u001b[0m                                Traceback (most recent call last)",
            "\u001b[0;32m<ipython-input-209-fa4fefdd1d05>\u001b[0m in \u001b[0;36m<module>\u001b[0;34m()\u001b[0m\n\u001b[1;32m      8\u001b[0m \u001b[0;31m# Fit\u001b[0m\u001b[0;34m\u001b[0m\u001b[0;34m\u001b[0m\u001b[0;34m\u001b[0m\u001b[0m\n\u001b[1;32m      9\u001b[0m \u001b[0mmodel\u001b[0m \u001b[0;34m=\u001b[0m \u001b[0mDecisionTreeRegressor\u001b[0m\u001b[0;34m(\u001b[0m\u001b[0;34m)\u001b[0m\u001b[0;34m\u001b[0m\u001b[0;34m\u001b[0m\u001b[0m\n\u001b[0;32m---> 10\u001b[0;31m \u001b[0mmodel\u001b[0m\u001b[0;34m.\u001b[0m\u001b[0mfit\u001b[0m\u001b[0;34m(\u001b[0m\u001b[0mX_train\u001b[0m\u001b[0;34m[\u001b[0m\u001b[0;34m:\u001b[0m\u001b[0;36m45672\u001b[0m\u001b[0;34m]\u001b[0m\u001b[0;34m,\u001b[0m \u001b[0my_train\u001b[0m\u001b[0;34m[\u001b[0m\u001b[0;34m:\u001b[0m\u001b[0;36m45672\u001b[0m\u001b[0;34m]\u001b[0m\u001b[0;34m)\u001b[0m\u001b[0;34m\u001b[0m\u001b[0;34m\u001b[0m\u001b[0m\n\u001b[0m\u001b[1;32m     11\u001b[0m \u001b[0;34m\u001b[0m\u001b[0m\n\u001b[1;32m     12\u001b[0m \u001b[0;31m# Predict\u001b[0m\u001b[0;34m\u001b[0m\u001b[0;34m\u001b[0m\u001b[0;34m\u001b[0m\u001b[0m\n",
            "\u001b[0;32m/usr/local/lib/python3.7/dist-packages/sklearn/tree/_classes.py\u001b[0m in \u001b[0;36mfit\u001b[0;34m(self, X, y, sample_weight, check_input, X_idx_sorted)\u001b[0m\n\u001b[1;32m   1318\u001b[0m             \u001b[0msample_weight\u001b[0m\u001b[0;34m=\u001b[0m\u001b[0msample_weight\u001b[0m\u001b[0;34m,\u001b[0m\u001b[0;34m\u001b[0m\u001b[0;34m\u001b[0m\u001b[0m\n\u001b[1;32m   1319\u001b[0m             \u001b[0mcheck_input\u001b[0m\u001b[0;34m=\u001b[0m\u001b[0mcheck_input\u001b[0m\u001b[0;34m,\u001b[0m\u001b[0;34m\u001b[0m\u001b[0;34m\u001b[0m\u001b[0m\n\u001b[0;32m-> 1320\u001b[0;31m             \u001b[0mX_idx_sorted\u001b[0m\u001b[0;34m=\u001b[0m\u001b[0mX_idx_sorted\u001b[0m\u001b[0;34m,\u001b[0m\u001b[0;34m\u001b[0m\u001b[0;34m\u001b[0m\u001b[0m\n\u001b[0m\u001b[1;32m   1321\u001b[0m         )\n\u001b[1;32m   1322\u001b[0m         \u001b[0;32mreturn\u001b[0m \u001b[0mself\u001b[0m\u001b[0;34m\u001b[0m\u001b[0;34m\u001b[0m\u001b[0m\n",
            "\u001b[0;32m/usr/local/lib/python3.7/dist-packages/sklearn/tree/_classes.py\u001b[0m in \u001b[0;36mfit\u001b[0;34m(self, X, y, sample_weight, check_input, X_idx_sorted)\u001b[0m\n\u001b[1;32m    164\u001b[0m             \u001b[0mcheck_y_params\u001b[0m \u001b[0;34m=\u001b[0m \u001b[0mdict\u001b[0m\u001b[0;34m(\u001b[0m\u001b[0mensure_2d\u001b[0m\u001b[0;34m=\u001b[0m\u001b[0;32mFalse\u001b[0m\u001b[0;34m,\u001b[0m \u001b[0mdtype\u001b[0m\u001b[0;34m=\u001b[0m\u001b[0;32mNone\u001b[0m\u001b[0;34m)\u001b[0m\u001b[0;34m\u001b[0m\u001b[0;34m\u001b[0m\u001b[0m\n\u001b[1;32m    165\u001b[0m             X, y = self._validate_data(\n\u001b[0;32m--> 166\u001b[0;31m                 \u001b[0mX\u001b[0m\u001b[0;34m,\u001b[0m \u001b[0my\u001b[0m\u001b[0;34m,\u001b[0m \u001b[0mvalidate_separately\u001b[0m\u001b[0;34m=\u001b[0m\u001b[0;34m(\u001b[0m\u001b[0mcheck_X_params\u001b[0m\u001b[0;34m,\u001b[0m \u001b[0mcheck_y_params\u001b[0m\u001b[0;34m)\u001b[0m\u001b[0;34m\u001b[0m\u001b[0;34m\u001b[0m\u001b[0m\n\u001b[0m\u001b[1;32m    167\u001b[0m             )\n\u001b[1;32m    168\u001b[0m             \u001b[0;32mif\u001b[0m \u001b[0missparse\u001b[0m\u001b[0;34m(\u001b[0m\u001b[0mX\u001b[0m\u001b[0;34m)\u001b[0m\u001b[0;34m:\u001b[0m\u001b[0;34m\u001b[0m\u001b[0;34m\u001b[0m\u001b[0m\n",
            "\u001b[0;32m/usr/local/lib/python3.7/dist-packages/sklearn/base.py\u001b[0m in \u001b[0;36m_validate_data\u001b[0;34m(self, X, y, reset, validate_separately, **check_params)\u001b[0m\n\u001b[1;32m    571\u001b[0m                 \u001b[0;31m# :(\u001b[0m\u001b[0;34m\u001b[0m\u001b[0;34m\u001b[0m\u001b[0;34m\u001b[0m\u001b[0m\n\u001b[1;32m    572\u001b[0m                 \u001b[0mcheck_X_params\u001b[0m\u001b[0;34m,\u001b[0m \u001b[0mcheck_y_params\u001b[0m \u001b[0;34m=\u001b[0m \u001b[0mvalidate_separately\u001b[0m\u001b[0;34m\u001b[0m\u001b[0;34m\u001b[0m\u001b[0m\n\u001b[0;32m--> 573\u001b[0;31m                 \u001b[0mX\u001b[0m \u001b[0;34m=\u001b[0m \u001b[0mcheck_array\u001b[0m\u001b[0;34m(\u001b[0m\u001b[0mX\u001b[0m\u001b[0;34m,\u001b[0m \u001b[0;34m**\u001b[0m\u001b[0mcheck_X_params\u001b[0m\u001b[0;34m)\u001b[0m\u001b[0;34m\u001b[0m\u001b[0;34m\u001b[0m\u001b[0m\n\u001b[0m\u001b[1;32m    574\u001b[0m                 \u001b[0my\u001b[0m \u001b[0;34m=\u001b[0m \u001b[0mcheck_array\u001b[0m\u001b[0;34m(\u001b[0m\u001b[0my\u001b[0m\u001b[0;34m,\u001b[0m \u001b[0;34m**\u001b[0m\u001b[0mcheck_y_params\u001b[0m\u001b[0;34m)\u001b[0m\u001b[0;34m\u001b[0m\u001b[0;34m\u001b[0m\u001b[0m\n\u001b[1;32m    575\u001b[0m             \u001b[0;32melse\u001b[0m\u001b[0;34m:\u001b[0m\u001b[0;34m\u001b[0m\u001b[0;34m\u001b[0m\u001b[0m\n",
            "\u001b[0;32m/usr/local/lib/python3.7/dist-packages/sklearn/utils/validation.py\u001b[0m in \u001b[0;36mcheck_array\u001b[0;34m(array, accept_sparse, accept_large_sparse, dtype, order, copy, force_all_finite, ensure_2d, allow_nd, ensure_min_samples, ensure_min_features, estimator)\u001b[0m\n\u001b[1;32m    736\u001b[0m                     \u001b[0marray\u001b[0m \u001b[0;34m=\u001b[0m \u001b[0marray\u001b[0m\u001b[0;34m.\u001b[0m\u001b[0mastype\u001b[0m\u001b[0;34m(\u001b[0m\u001b[0mdtype\u001b[0m\u001b[0;34m,\u001b[0m \u001b[0mcasting\u001b[0m\u001b[0;34m=\u001b[0m\u001b[0;34m\"unsafe\"\u001b[0m\u001b[0;34m,\u001b[0m \u001b[0mcopy\u001b[0m\u001b[0;34m=\u001b[0m\u001b[0;32mFalse\u001b[0m\u001b[0;34m)\u001b[0m\u001b[0;34m\u001b[0m\u001b[0;34m\u001b[0m\u001b[0m\n\u001b[1;32m    737\u001b[0m                 \u001b[0;32melse\u001b[0m\u001b[0;34m:\u001b[0m\u001b[0;34m\u001b[0m\u001b[0;34m\u001b[0m\u001b[0m\n\u001b[0;32m--> 738\u001b[0;31m                     \u001b[0marray\u001b[0m \u001b[0;34m=\u001b[0m \u001b[0mnp\u001b[0m\u001b[0;34m.\u001b[0m\u001b[0masarray\u001b[0m\u001b[0;34m(\u001b[0m\u001b[0marray\u001b[0m\u001b[0;34m,\u001b[0m \u001b[0morder\u001b[0m\u001b[0;34m=\u001b[0m\u001b[0morder\u001b[0m\u001b[0;34m,\u001b[0m \u001b[0mdtype\u001b[0m\u001b[0;34m=\u001b[0m\u001b[0mdtype\u001b[0m\u001b[0;34m)\u001b[0m\u001b[0;34m\u001b[0m\u001b[0;34m\u001b[0m\u001b[0m\n\u001b[0m\u001b[1;32m    739\u001b[0m             \u001b[0;32mexcept\u001b[0m \u001b[0mComplexWarning\u001b[0m \u001b[0;32mas\u001b[0m \u001b[0mcomplex_warning\u001b[0m\u001b[0;34m:\u001b[0m\u001b[0;34m\u001b[0m\u001b[0;34m\u001b[0m\u001b[0m\n\u001b[1;32m    740\u001b[0m                 raise ValueError(\n",
            "\u001b[0;32m/usr/local/lib/python3.7/dist-packages/numpy/core/_asarray.py\u001b[0m in \u001b[0;36masarray\u001b[0;34m(a, dtype, order)\u001b[0m\n\u001b[1;32m     81\u001b[0m \u001b[0;34m\u001b[0m\u001b[0m\n\u001b[1;32m     82\u001b[0m     \"\"\"\n\u001b[0;32m---> 83\u001b[0;31m     \u001b[0;32mreturn\u001b[0m \u001b[0marray\u001b[0m\u001b[0;34m(\u001b[0m\u001b[0ma\u001b[0m\u001b[0;34m,\u001b[0m \u001b[0mdtype\u001b[0m\u001b[0;34m,\u001b[0m \u001b[0mcopy\u001b[0m\u001b[0;34m=\u001b[0m\u001b[0;32mFalse\u001b[0m\u001b[0;34m,\u001b[0m \u001b[0morder\u001b[0m\u001b[0;34m=\u001b[0m\u001b[0morder\u001b[0m\u001b[0;34m)\u001b[0m\u001b[0;34m\u001b[0m\u001b[0;34m\u001b[0m\u001b[0m\n\u001b[0m\u001b[1;32m     84\u001b[0m \u001b[0;34m\u001b[0m\u001b[0m\n\u001b[1;32m     85\u001b[0m \u001b[0;34m\u001b[0m\u001b[0m\n",
            "\u001b[0;31mValueError\u001b[0m: could not convert string to float: '2021-05-04T12:31:18-0500'"
          ]
        }
      ]
    },
    {
      "cell_type": "code",
      "metadata": {
        "id": "W8Gg8VAsxyJU"
      },
      "source": [
        "#Decision Tree with auto Hyper Parameter Tuning with Grid Search\n",
        "from sklearn.model_selection import GridSearchCV\n",
        "\n",
        "scoring = metrics.make_scorer(metrics.mean_squared_error)\n",
        "\n",
        "param_grid = {\n",
        "'criterion':['mse'] \n",
        ",'splitter':['best','random']\n",
        ",'max_depth':[4, 5, 6, 7, 8]\n",
        ",'min_samples_split':[0.8, 2]\n",
        ",'max_features':['auto','sqrt','log2']\n",
        "}\n",
        "\n",
        "g_cv = GridSearchCV(DecisionTreeRegressor(random_state=0),param_grid=param_grid,scoring=scoring, cv=5, refit=True)\n",
        "g_cv.fit(X_train, y_train)\n",
        "g_cv.best_params_\n",
        "result = g_cv.cv_results_\n",
        "# print(result)\n",
        "\n",
        "# Predict\n",
        "y_pred = g_cv.best_estimator_.predict(X_test)\n",
        "\n",
        "# Metrics\n",
        "r2 = round(metrics.r2_score(y_test, y_pred),2)\n",
        "rmse = round(np.sqrt(metrics.mean_squared_error(y_test, y_pred)),2)\n",
        "accuracy_df = accuracy_df.append(pd.DataFrame({'r2':[r2],'rmse':[rmse]}, index = ['Decision Tree HyperParam Tuning']))\n",
        "accuracy_df.sort_values('rmse')"
      ],
      "execution_count": null,
      "outputs": []
    },
    {
      "cell_type": "code",
      "metadata": {
        "id": "zUUexBEKx731"
      },
      "source": [
        "#Random Forest\n",
        "from sklearn.ensemble import RandomForestRegressor\n",
        "\n",
        "# Fit\n",
        "model = RandomForestRegressor()\n",
        "model.fit(X_train, y_train)\n",
        "\n",
        "# Predict\n",
        "y_pred = model.predict(X_test)\n",
        "\n",
        "# Metrics\n",
        "r2 = round(metrics.r2_score(y_test, y_pred),2)\n",
        "rmse = round(np.sqrt(metrics.mean_squared_error(y_test, y_pred)),2)\n",
        "accuracy_df = accuracy_df.append(pd.DataFrame({'r2':[r2],'rmse':[rmse]}, index = ['Random Forest Baseline']))\n",
        "accuracy_df.sort_values('rmse')"
      ],
      "execution_count": null,
      "outputs": []
    },
    {
      "cell_type": "code",
      "metadata": {
        "id": "ouvCz5mUyJvP"
      },
      "source": [
        "#Random Forest with auto Hyper Parameter Tuning with Grid Search\n",
        "from sklearn.model_selection import GridSearchCV scoring = metrics.make_scorer(metrics.mean_squared_error) param_grid = { # 'n_estimators':[50,70,100,120,130] # 'max_features':['auto','sqrt','log2'] #,'oob_score':[False, True] # whether to use out-of-bag samples to estimate the R^2 on unseen data. # ,'bootstrap':[False, True] # ,'random_state':[10, None] # ,'warm_start':[True, False] 'max_depth':[4, 5, 6, 7, 8] # ,'min_samples_split':[0.8, 2, 3] } g_cv = GridSearchCV(RandomForestRegressor(random_state=0),param_grid=param_grid,scoring=scoring, cv=5, refit=True)\n",
        "g_cv.fit(X_train, y_train) g_cv.best_params_ result = g_cv.cv_results_ \n",
        "# print(result) \n",
        "# Predict y_pred = g_cv.best_estimator_.predict(X_test) # Metrics r2 = round(metrics.r2_score(y_test, y_pred),2) rmse = round(np.sqrt(metrics.mean_squared_error(y_test, y_pred)),2) accuracy_df = accuracy_df.append(pd.DataFrame({'r2':[r2],'rmse':[rmse]}, index = ['Random Forest HyperParam Tuning']))\n",
        "accuracy_df"
      ],
      "execution_count": null,
      "outputs": []
    },
    {
      "cell_type": "code",
      "metadata": {
        "id": "fgUjV_yNyXTr"
      },
      "source": [
        "#Gradient Boosting\n",
        "from sklearn.ensemble import GradientBoostingRegressor\n",
        "\n",
        "# Fit\n",
        "model = GradientBoostingRegressor(random_state=0)\n",
        "model.fit(X_train, y_train)\n",
        "\n",
        "# Predict\n",
        "y_pred = model.predict(X_test)\n",
        "\n",
        "# Metrics\n",
        "r2 = round(metrics.r2_score(y_test, y_pred),2)\n",
        "rmse = round(np.sqrt(metrics.mean_squared_error(y_test, y_pred)),2)\n",
        "accuracy_df = accuracy_df.append(pd.DataFrame({'r2':[r2],'rmse':[rmse]}, index = ['Gradient Boosting Baseline']))\n",
        "accuracy_df.sort_values('rmse')"
      ],
      "execution_count": null,
      "outputs": []
    },
    {
      "cell_type": "code",
      "metadata": {
        "id": "Bs81Xt9GyeAG"
      },
      "source": [
        "#XGBoost\n",
        "from xgboost import XGBRegressor\n",
        "\n",
        "# Fit\n",
        "model = XGBRegressor(random_state=0)\n",
        "model.fit(X_train, y_train)\n",
        "\n",
        "# Predict\n",
        "y_pred = model.predict(X_test)\n",
        "\n",
        "# Metrics\n",
        "r2 = round(metrics.r2_score(y_test, y_pred),2)\n",
        "rmse = round(np.sqrt(metrics.mean_squared_error(y_test, y_pred)),2)\n",
        "accuracy_df = accuracy_df.append(pd.DataFrame({'r2':[r2],'rmse':[rmse]}, index = ['XGBoost Baseline']))\n",
        "accuracy_df.sort_values('rmse')\n"
      ],
      "execution_count": null,
      "outputs": []
    },
    {
      "cell_type": "code",
      "metadata": {
        "id": "fyBK3n53zB47"
      },
      "source": [
        "#XGBoost with Parameters\n",
        "import xgboost as xgb\n",
        "\n",
        "model = xgb.XGBRegressor(\n",
        "#     gamma=1,                 \n",
        "    learning_rate=0.05,\n",
        "#     max_depth=3,\n",
        "#     n_estimators=10000,                                                                    \n",
        "#     subsample=0.8,\n",
        "    random_state=34,\n",
        "    booster='gbtree',    \n",
        "    objective='reg:squarederror',\n",
        "    eval_metric='rmse'\n",
        ") \n",
        "model.fit(X_train, y_train)\n",
        "\n",
        "# Predict\n",
        "y_pred = model.predict(X_test)\n",
        "\n",
        "\n",
        "# Metrics\n",
        "r2 = round(metrics.r2_score(y_test, y_pred),2)\n",
        "rmse = round(np.sqrt(metrics.mean_squared_error(y_test, y_pred)),2)\n",
        "accuracy_df = accuracy_df.append(pd.DataFrame({'r2':[r2],'rmse':[rmse]}, index = ['XGBoost with Parameters']))\n",
        "accuracy_df.sort_values('rmse')"
      ],
      "execution_count": null,
      "outputs": []
    },
    {
      "cell_type": "code",
      "metadata": {
        "id": "rjCyTrGbzLa2"
      },
      "source": [
        "#MLP Regressor\n",
        "from sklearn.neural_network import MLPRegressor\n",
        "\n",
        "mlp = MLPRegressor()\n",
        "param_grid = {\n",
        "#               'hidden_layer_sizes': [i for i in range(2,20)],\n",
        "              'activation': ['relu'],\n",
        "              'solver': ['adam'],\n",
        "#               'learning_rate': ['constant'],\n",
        "#               'learning_rate_init': [0.01],\n",
        "#               'power_t': [0.5],\n",
        "#               'alpha': [0.0001],\n",
        "#               'max_iter': [1000],\n",
        "              'early_stopping': [True],\n",
        "              'warm_start': [False]\n",
        "}\n",
        "model = GridSearchCV(mlp, param_grid=param_grid, \n",
        "                   cv=10, verbose=True, pre_dispatch='2*n_jobs')\n",
        "\n",
        "model.fit(X_train, y_train)\n",
        "\n",
        "# Predict\n",
        "y_pred = model.predict(X_test)\n",
        "\n",
        "\n",
        "# Metrics\n",
        "r2 = round(metrics.r2_score(y_test, y_pred),2)\n",
        "rmse = round(np.sqrt(metrics.mean_squared_error(y_test, y_pred)),2)\n",
        "accuracy_df = accuracy_df.append(pd.DataFrame({'r2':[r2],'rmse':[rmse]}, index = ['MLPRegressor with Parameter Tuning']))\n",
        "accuracy_df.sort_values('rmse')"
      ],
      "execution_count": null,
      "outputs": []
    },
    {
      "cell_type": "code",
      "metadata": {
        "id": "6bd8IwyJzSUZ"
      },
      "source": [
        "#LightGBM\n",
        "#Splitting the training data in to training and validation datasets for Model training\n",
        "\n",
        "import lightgbm as lgb\n",
        "from sklearn.model_selection import train_test_split\n",
        "\n",
        "Xtrain, Xval, Ztrain, Zval = train_test_split(X_train, y_train, test_size=0.3, random_state=0)\n",
        "\n",
        "train_set = lgb.Dataset(Xtrain, Ztrain, silent=False)\n",
        "valid_set = lgb.Dataset(Xval, Zval, silent=False)\n",
        "\n",
        "params = {\n",
        "        'boosting_type':'gbdt',\n",
        "        'objective': 'regression',\n",
        "        'num_leaves': 31,\n",
        "        'learning_rate': 0.01,\n",
        "#         'max_depth': -1,\n",
        "#         'subsample': 0.8,\n",
        "#         'bagging_fraction' : 1,\n",
        "#         'max_bin' : 5000 ,\n",
        "#         'bagging_freq': 20,\n",
        "#         'colsample_bytree': 0.6,\n",
        "        'metric': 'rmse',\n",
        "#         'min_split_gain': 0.5,\n",
        "#         'min_child_weight': 1,\n",
        "#         'min_child_samples': 10,\n",
        "#         'scale_pos_weight':1,\n",
        "#         'zero_as_missing': False,\n",
        "#         'seed':0,        \n",
        "    }\n",
        "model = lgb.train(params, train_set = train_set, num_boost_round=10000,early_stopping_rounds=8000,\n",
        "                  verbose_eval=500, valid_sets=valid_set)\n",
        "\n",
        "\n",
        "y_pred = model.predict(X_test, num_iteration=model.best_iteration)\n",
        "\n",
        "# Metrics\n",
        "r2 = round(metrics.r2_score(y_test, y_pred),2)\n",
        "rmse = round(np.sqrt(metrics.mean_squared_error(y_test, y_pred)),2)\n",
        "accuracy_df = accuracy_df.append(pd.DataFrame({'r2':[r2],'rmse':[rmse]}, index = ['LightGBM with Parameters']))\n",
        "accuracy_df.sort_values('rmse')"
      ],
      "execution_count": null,
      "outputs": []
    },
    {
      "cell_type": "markdown",
      "metadata": {
        "id": "JBqlEX65zdSk"
      },
      "source": [
        "LightGBM with categorical variables"
      ]
    },
    {
      "cell_type": "code",
      "metadata": {
        "id": "g-fyX_XSzZN-"
      },
      "source": [
        "#Splitting the training data in to training and validation datasets for Model training\n",
        "\n",
        "import lightgbm as lgb1\n",
        "from sklearn.model_selection import train_test_split\n",
        "\n",
        "Xtrain, Xval, Ztrain, Zval = train_test_split(X_train, y_train, test_size=0.2, random_state=42)\n",
        "\n",
        "#Define categorical features, training and validation data\n",
        "categorical_positions = []\n",
        "cat = ['manufacturer','model','condition','cylinders','fuel','odometer','title_status','transmission','drive','type','paint_color','county','state']\n",
        "for c, col in enumerate(df.columns):\n",
        "    for x in cat:\n",
        "        if col == x:\n",
        "            categorical_positions.append(c-1)\n",
        "\n",
        "\n",
        "train_set = lgb1.Dataset(Xtrain, label=Ztrain, categorical_feature=categorical_positions)\n",
        "valid_set = lgb1.Dataset(Xval, label=Zval)\n",
        "\n",
        "params = {\n",
        "        'boosting_type':'gbdt',\n",
        "        'objective': 'regression',\n",
        "        'num_leaves': 31,\n",
        "        'learning_rate': 0.01,\n",
        "#         'max_depth': -1,\n",
        "#         'subsample': 0.8,\n",
        "#         'bagging_fraction' : 1,\n",
        "#         'max_bin' : 5000 ,\n",
        "#         'bagging_freq': 20,\n",
        "#         'colsample_bytree': 0.6,\n",
        "        'metric': 'rmse',\n",
        "#         'min_split_gain': 0.5,\n",
        "#         'min_child_weight': 1,\n",
        "#         'min_child_samples': 10,\n",
        "#         'scale_pos_weight':1,\n",
        "#         'zero_as_missing': False,\n",
        "#         'seed':0,        \n",
        "    }\n",
        "model = lgb1.train(params, train_set = train_set, num_boost_round=10000,early_stopping_rounds=8000,\n",
        "                  verbose_eval=500, valid_sets=valid_set)\n",
        "\n",
        "\n",
        "y_pred = model.predict(X_test, num_iteration=model.best_iteration)\n",
        "\n",
        "# Metrics\n",
        "r2 = round(metrics.r2_score(y_test, y_pred),2)\n",
        "rmse = round(np.sqrt(metrics.mean_squared_error(y_test, y_pred)),2)\n",
        "accuracy_df = accuracy_df.append(pd.DataFrame({'r2':[r2],'rmse':[rmse]}, index = ['LightGBM with Categories & Parameters']))\n",
        "accuracy_df.sort_values('rmse')"
      ],
      "execution_count": null,
      "outputs": []
    },
    {
      "cell_type": "code",
      "metadata": {
        "id": "uG7bmP1fzn2j"
      },
      "source": [
        "#CatBoost\n",
        "from catboost import CatBoostRegressor, Pool\n",
        "    \n",
        "from sklearn.model_selection import train_test_split\n",
        "\n",
        "Xtrain, Xval, Ztrain, Zval = train_test_split(X_train, y_train, test_size=0.3, random_state=0)\n",
        "\n",
        "train_set = lgb.Dataset(Xtrain, Ztrain)\n",
        "valid_set = lgb.Dataset(Xval, Zval)\n",
        "\n",
        "model = CatBoostRegressor()\n",
        "\n",
        "model.fit(Xtrain, Ztrain, eval_set=[(Xval, Zval)], verbose=100, early_stopping_rounds=1000)\n",
        "\n",
        "y_pred = model.predict(X_test)\n",
        "\n",
        "# Metrics\n",
        "r2 = round(metrics.r2_score(y_test, y_pred),2)\n",
        "rmse = round(np.sqrt(metrics.mean_squared_error(y_test, y_pred)),2)\n",
        "accuracy_df = accuracy_df.append(pd.DataFrame({'r2':[r2],'rmse':[rmse]}, index = ['CatBoost Baseline']))\n",
        "accuracy_df.sort_values('rmse')"
      ],
      "execution_count": null,
      "outputs": []
    },
    {
      "cell_type": "code",
      "metadata": {
        "id": "uKy-43m0zryT"
      },
      "source": [
        "#CatBoost with Parameters\n",
        "from catboost import CatBoostRegressor, Pool\n",
        "    \n",
        "from sklearn.model_selection import train_test_split\n",
        "\n",
        "Xtrain, Xval, Ztrain, Zval = train_test_split(X_train, y_train, test_size=0.3, random_state=0)\n",
        "\n",
        "train_set = lgb.Dataset(Xtrain, Ztrain, silent=False)\n",
        "valid_set = lgb.Dataset(Xval, Zval, silent=False)\n",
        "\n",
        "\n",
        "        \n",
        "model = CatBoostRegressor(\n",
        "                          iterations=1000, \n",
        "                          depth=8, \n",
        "                          learning_rate=0.01, \n",
        "                          loss_function='RMSE', \n",
        "                          eval_metric='RMSE', \n",
        "                          use_best_model=True)\n",
        "\n",
        "model.fit(Xtrain, Ztrain, eval_set=[(Xval, Zval)], verbose=100, early_stopping_rounds=1000)\n",
        "\n",
        "y_pred = model.predict(X_test)\n",
        "\n",
        "# Metrics\n",
        "r2 = round(metrics.r2_score(y_test, y_pred),2)\n",
        "rmse = round(np.sqrt(metrics.mean_squared_error(y_test, y_pred)),2)\n",
        "# accuracy_df = accuracy_df.drop('CatBoost Parameter Tuning')\n",
        "accuracy_df = accuracy_df.append(pd.DataFrame({'r2':[r2],'rmse':[rmse]}, index = ['CatBoost Parameter Tuning']))\n",
        "accuracy_df.sort_values('rmse')"
      ],
      "execution_count": null,
      "outputs": []
    },
    {
      "cell_type": "code",
      "metadata": {
        "id": "GOOG_8F0z3E8"
      },
      "source": [
        "#Plotting the RMSE Scores\n",
        "# Plot\n",
        "plt.figure(figsize=[25,6])\n",
        "plt.tick_params(labelsize=14)\n",
        "plt.plot(accuracy_df.index, accuracy_df['rmse'], label = 'RMSE Scores')\n",
        "plt.legend()\n",
        "plt.title('RMSE Score comparison for 10 popular models for test dataset')\n",
        "plt.xlabel('Models')\n",
        "plt.ylabel('RMSE Scores')\n",
        "plt.xticks(accuracy_df.index, rotation='vertical')\n",
        "plt.savefig('graph.png')\n",
        "plt.show()\n",
        "print('Process start time :', datetime.now())"
      ],
      "execution_count": null,
      "outputs": []
    },
    {
      "cell_type": "markdown",
      "metadata": {
        "id": "3whuW8o70ijB"
      },
      "source": [
        "Save Model"
      ]
    },
    {
      "cell_type": "code",
      "metadata": {
        "id": "ObIMsHRa0jQG"
      },
      "source": [
        "# Rerunning MLP Neural Network to save the model\n",
        "from sklearn.neural_network import MLPRegressor\n",
        "from sklearn.model_selection import GridSearchCV\n",
        "\n",
        "\n",
        "mlp = MLPRegressor()\n",
        "param_grid = {\n",
        "#               'hidden_layer_sizes': [i for i in range(2,20)],\n",
        "              'activation': ['relu'],\n",
        "              'solver': ['adam'],\n",
        "#               'learning_rate': ['constant'],\n",
        "#               'learning_rate_init': [0.01],\n",
        "#               'power_t': [0.5],\n",
        "#               'alpha': [0.0001],\n",
        "#               'max_iter': [1000],\n",
        "              'early_stopping': [True],\n",
        "              'warm_start': [False]\n",
        "}\n",
        "model = GridSearchCV(mlp, param_grid=param_grid, \n",
        "                   cv=10, pre_dispatch='2*n_jobs')\n",
        "\n",
        "model.fit(X_train, y_train)"
      ],
      "execution_count": null,
      "outputs": []
    },
    {
      "cell_type": "code",
      "metadata": {
        "id": "SW1uW7Ak0mJ1"
      },
      "source": [
        "# Save the neural network model\n",
        "from joblib import dump, load\n",
        "\n",
        "filename = 'mlp_neural_network_001.joblib'\n",
        "with open(filename, 'wb') as file:  \n",
        "    dump(model, file)\n",
        "# Predict\n",
        "y_pred = model.predict(X_test)\n",
        "df1 = pd.DataFrame({\"y\":y_test,\"y_pred\":y_pred })\n",
        "df1.head(50)"
      ],
      "execution_count": null,
      "outputs": []
    },
    {
      "cell_type": "code",
      "metadata": {
        "id": "LBvmv7lA0ud4"
      },
      "source": [
        ""
      ],
      "execution_count": null,
      "outputs": []
    }
  ]
}