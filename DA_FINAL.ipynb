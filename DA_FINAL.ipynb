{
  "nbformat": 4,
  "nbformat_minor": 0,
  "metadata": {
    "colab": {
      "name": "DA_FINAL.ipynb",
      "provenance": [],
      "collapsed_sections": [],
      "include_colab_link": true
    },
    "kernelspec": {
      "display_name": "Python 3",
      "name": "python3"
    },
    "language_info": {
      "name": "python"
    }
  },
  "cells": [
    {
      "cell_type": "markdown",
      "metadata": {
        "id": "view-in-github",
        "colab_type": "text"
      },
      "source": [
        "<a href=\"https://colab.research.google.com/github/Mayuravarsha/Data-Analytics/blob/main/DA_FINAL.ipynb\" target=\"_parent\"><img src=\"https://colab.research.google.com/assets/colab-badge.svg\" alt=\"Open In Colab\"/></a>"
      ]
    },
    {
      "cell_type": "markdown",
      "metadata": {
        "id": "F4-d8_0FoDz_"
      },
      "source": [
        "\n",
        "Importing the data"
      ]
    },
    {
      "cell_type": "code",
      "metadata": {
        "colab": {
          "base_uri": "https://localhost:8080/"
        },
        "id": "srvzuNM8YDFt",
        "outputId": "0e7a62b3-6830-4f3b-b034-1fa74b1e3310"
      },
      "source": [
        "from datetime import datetime\n",
        "print('Process start time :', datetime.now())\n",
        "import numpy as np # linear algebra\n",
        "import pandas as pd # data processing, CSV file I/O (e.g. pd.read_csv)\n",
        "\n",
        "from google.colab import drive\n",
        "drive.mount('/content/gdrive')\n",
        "\n"
      ],
      "execution_count": 1,
      "outputs": [
        {
          "output_type": "stream",
          "name": "stdout",
          "text": [
            "Process start time : 2021-12-05 10:39:26.263884\n",
            "Drive already mounted at /content/gdrive; to attempt to forcibly remount, call drive.mount(\"/content/gdrive\", force_remount=True).\n",
            "unzip:  cannot find or open gdrive/My Drive/archive.zip, gdrive/My Drive/archive.zip.zip or gdrive/My Drive/archive.zip.ZIP.\n",
            "unzip:  cannot find or open gdrive/My Drive/archive.zip, gdrive/My Drive/archive.zip.zip or gdrive/My Drive/archive.zip.ZIP.\n"
          ]
        }
      ]
    },
    {
      "cell_type": "code",
      "metadata": {
        "id": "WvTteVB7Lah3"
      },
      "source": [
        "!unzip gdrive/My\\ Drive/archive.zip\n",
        "!unzip gdrive/My\\ Drive/archive.zip > /dev/null"
      ],
      "execution_count": null,
      "outputs": []
    },
    {
      "cell_type": "code",
      "metadata": {
        "id": "bpypdWutfO97"
      },
      "source": [
        "import pandas as pd\n",
        "import numpy as np\n",
        "import seaborn as sns\n",
        "df = pd.read_csv('/content/gdrive/MyDrive/archive/vehicles.csv')"
      ],
      "execution_count": 2,
      "outputs": []
    },
    {
      "cell_type": "code",
      "metadata": {
        "id": "ESNs8YXMn1rT",
        "colab": {
          "base_uri": "https://localhost:8080/"
        },
        "outputId": "312b9461-9f1c-4053-e646-4bd45315705d"
      },
      "source": [
        "df.shape"
      ],
      "execution_count": 3,
      "outputs": [
        {
          "output_type": "execute_result",
          "data": {
            "text/plain": [
              "(426880, 26)"
            ]
          },
          "metadata": {},
          "execution_count": 3
        }
      ]
    },
    {
      "cell_type": "code",
      "metadata": {
        "id": "pMNsWCOIfREw",
        "colab": {
          "base_uri": "https://localhost:8080/"
        },
        "outputId": "6aa7c0c2-57f7-46ab-ca20-4551192ea8f6"
      },
      "source": [
        "df.info()"
      ],
      "execution_count": 4,
      "outputs": [
        {
          "output_type": "stream",
          "name": "stdout",
          "text": [
            "<class 'pandas.core.frame.DataFrame'>\n",
            "RangeIndex: 426880 entries, 0 to 426879\n",
            "Data columns (total 26 columns):\n",
            " #   Column        Non-Null Count   Dtype  \n",
            "---  ------        --------------   -----  \n",
            " 0   id            426880 non-null  int64  \n",
            " 1   url           426880 non-null  object \n",
            " 2   region        426880 non-null  object \n",
            " 3   region_url    426880 non-null  object \n",
            " 4   price         426880 non-null  int64  \n",
            " 5   year          425675 non-null  float64\n",
            " 6   manufacturer  409234 non-null  object \n",
            " 7   model         421603 non-null  object \n",
            " 8   condition     252776 non-null  object \n",
            " 9   cylinders     249202 non-null  object \n",
            " 10  fuel          423867 non-null  object \n",
            " 11  odometer      422480 non-null  float64\n",
            " 12  title_status  418638 non-null  object \n",
            " 13  transmission  424324 non-null  object \n",
            " 14  VIN           265838 non-null  object \n",
            " 15  drive         296313 non-null  object \n",
            " 16  size          120519 non-null  object \n",
            " 17  type          334022 non-null  object \n",
            " 18  paint_color   296677 non-null  object \n",
            " 19  image_url     426812 non-null  object \n",
            " 20  description   426810 non-null  object \n",
            " 21  county        0 non-null       float64\n",
            " 22  state         426880 non-null  object \n",
            " 23  lat           420331 non-null  float64\n",
            " 24  long          420331 non-null  float64\n",
            " 25  posting_date  426812 non-null  object \n",
            "dtypes: float64(5), int64(2), object(19)\n",
            "memory usage: 84.7+ MB\n"
          ]
        }
      ]
    },
    {
      "cell_type": "code",
      "metadata": {
        "id": "x9JPrYDbn6vX",
        "colab": {
          "base_uri": "https://localhost:8080/",
          "height": 300
        },
        "outputId": "32f7ac08-66dd-4bfa-dea0-6454f21fb03b"
      },
      "source": [
        "df.describe()"
      ],
      "execution_count": 5,
      "outputs": [
        {
          "output_type": "execute_result",
          "data": {
            "text/html": [
              "<div>\n",
              "<style scoped>\n",
              "    .dataframe tbody tr th:only-of-type {\n",
              "        vertical-align: middle;\n",
              "    }\n",
              "\n",
              "    .dataframe tbody tr th {\n",
              "        vertical-align: top;\n",
              "    }\n",
              "\n",
              "    .dataframe thead th {\n",
              "        text-align: right;\n",
              "    }\n",
              "</style>\n",
              "<table border=\"1\" class=\"dataframe\">\n",
              "  <thead>\n",
              "    <tr style=\"text-align: right;\">\n",
              "      <th></th>\n",
              "      <th>id</th>\n",
              "      <th>price</th>\n",
              "      <th>year</th>\n",
              "      <th>odometer</th>\n",
              "      <th>county</th>\n",
              "      <th>lat</th>\n",
              "      <th>long</th>\n",
              "    </tr>\n",
              "  </thead>\n",
              "  <tbody>\n",
              "    <tr>\n",
              "      <th>count</th>\n",
              "      <td>4.268800e+05</td>\n",
              "      <td>4.268800e+05</td>\n",
              "      <td>425675.000000</td>\n",
              "      <td>4.224800e+05</td>\n",
              "      <td>0.0</td>\n",
              "      <td>420331.000000</td>\n",
              "      <td>420331.000000</td>\n",
              "    </tr>\n",
              "    <tr>\n",
              "      <th>mean</th>\n",
              "      <td>7.311487e+09</td>\n",
              "      <td>7.519903e+04</td>\n",
              "      <td>2011.235191</td>\n",
              "      <td>9.804333e+04</td>\n",
              "      <td>NaN</td>\n",
              "      <td>38.493940</td>\n",
              "      <td>-94.748599</td>\n",
              "    </tr>\n",
              "    <tr>\n",
              "      <th>std</th>\n",
              "      <td>4.473170e+06</td>\n",
              "      <td>1.218228e+07</td>\n",
              "      <td>9.452120</td>\n",
              "      <td>2.138815e+05</td>\n",
              "      <td>NaN</td>\n",
              "      <td>5.841533</td>\n",
              "      <td>18.365462</td>\n",
              "    </tr>\n",
              "    <tr>\n",
              "      <th>min</th>\n",
              "      <td>7.207408e+09</td>\n",
              "      <td>0.000000e+00</td>\n",
              "      <td>1900.000000</td>\n",
              "      <td>0.000000e+00</td>\n",
              "      <td>NaN</td>\n",
              "      <td>-84.122245</td>\n",
              "      <td>-159.827728</td>\n",
              "    </tr>\n",
              "    <tr>\n",
              "      <th>25%</th>\n",
              "      <td>7.308143e+09</td>\n",
              "      <td>5.900000e+03</td>\n",
              "      <td>2008.000000</td>\n",
              "      <td>3.770400e+04</td>\n",
              "      <td>NaN</td>\n",
              "      <td>34.601900</td>\n",
              "      <td>-111.939847</td>\n",
              "    </tr>\n",
              "    <tr>\n",
              "      <th>50%</th>\n",
              "      <td>7.312621e+09</td>\n",
              "      <td>1.395000e+04</td>\n",
              "      <td>2013.000000</td>\n",
              "      <td>8.554800e+04</td>\n",
              "      <td>NaN</td>\n",
              "      <td>39.150100</td>\n",
              "      <td>-88.432600</td>\n",
              "    </tr>\n",
              "    <tr>\n",
              "      <th>75%</th>\n",
              "      <td>7.315254e+09</td>\n",
              "      <td>2.648575e+04</td>\n",
              "      <td>2017.000000</td>\n",
              "      <td>1.335425e+05</td>\n",
              "      <td>NaN</td>\n",
              "      <td>42.398900</td>\n",
              "      <td>-80.832039</td>\n",
              "    </tr>\n",
              "    <tr>\n",
              "      <th>max</th>\n",
              "      <td>7.317101e+09</td>\n",
              "      <td>3.736929e+09</td>\n",
              "      <td>2022.000000</td>\n",
              "      <td>1.000000e+07</td>\n",
              "      <td>NaN</td>\n",
              "      <td>82.390818</td>\n",
              "      <td>173.885502</td>\n",
              "    </tr>\n",
              "  </tbody>\n",
              "</table>\n",
              "</div>"
            ],
            "text/plain": [
              "                 id         price  ...            lat           long\n",
              "count  4.268800e+05  4.268800e+05  ...  420331.000000  420331.000000\n",
              "mean   7.311487e+09  7.519903e+04  ...      38.493940     -94.748599\n",
              "std    4.473170e+06  1.218228e+07  ...       5.841533      18.365462\n",
              "min    7.207408e+09  0.000000e+00  ...     -84.122245    -159.827728\n",
              "25%    7.308143e+09  5.900000e+03  ...      34.601900    -111.939847\n",
              "50%    7.312621e+09  1.395000e+04  ...      39.150100     -88.432600\n",
              "75%    7.315254e+09  2.648575e+04  ...      42.398900     -80.832039\n",
              "max    7.317101e+09  3.736929e+09  ...      82.390818     173.885502\n",
              "\n",
              "[8 rows x 7 columns]"
            ]
          },
          "metadata": {},
          "execution_count": 5
        }
      ]
    },
    {
      "cell_type": "code",
      "metadata": {
        "id": "Eaigpruyn7b8"
      },
      "source": [
        "pd.set_option('display.max_columns', None)"
      ],
      "execution_count": 6,
      "outputs": []
    },
    {
      "cell_type": "code",
      "metadata": {
        "id": "mG6XGHw9n92h",
        "colab": {
          "base_uri": "https://localhost:8080/",
          "height": 261
        },
        "outputId": "e633229d-53e9-4512-af98-97e2b6f4af64"
      },
      "source": [
        "df.head(5)"
      ],
      "execution_count": 7,
      "outputs": [
        {
          "output_type": "execute_result",
          "data": {
            "text/html": [
              "<div>\n",
              "<style scoped>\n",
              "    .dataframe tbody tr th:only-of-type {\n",
              "        vertical-align: middle;\n",
              "    }\n",
              "\n",
              "    .dataframe tbody tr th {\n",
              "        vertical-align: top;\n",
              "    }\n",
              "\n",
              "    .dataframe thead th {\n",
              "        text-align: right;\n",
              "    }\n",
              "</style>\n",
              "<table border=\"1\" class=\"dataframe\">\n",
              "  <thead>\n",
              "    <tr style=\"text-align: right;\">\n",
              "      <th></th>\n",
              "      <th>id</th>\n",
              "      <th>url</th>\n",
              "      <th>region</th>\n",
              "      <th>region_url</th>\n",
              "      <th>price</th>\n",
              "      <th>year</th>\n",
              "      <th>manufacturer</th>\n",
              "      <th>model</th>\n",
              "      <th>condition</th>\n",
              "      <th>cylinders</th>\n",
              "      <th>fuel</th>\n",
              "      <th>odometer</th>\n",
              "      <th>title_status</th>\n",
              "      <th>transmission</th>\n",
              "      <th>VIN</th>\n",
              "      <th>drive</th>\n",
              "      <th>size</th>\n",
              "      <th>type</th>\n",
              "      <th>paint_color</th>\n",
              "      <th>image_url</th>\n",
              "      <th>description</th>\n",
              "      <th>county</th>\n",
              "      <th>state</th>\n",
              "      <th>lat</th>\n",
              "      <th>long</th>\n",
              "      <th>posting_date</th>\n",
              "    </tr>\n",
              "  </thead>\n",
              "  <tbody>\n",
              "    <tr>\n",
              "      <th>0</th>\n",
              "      <td>7222695916</td>\n",
              "      <td>https://prescott.craigslist.org/cto/d/prescott...</td>\n",
              "      <td>prescott</td>\n",
              "      <td>https://prescott.craigslist.org</td>\n",
              "      <td>6000</td>\n",
              "      <td>NaN</td>\n",
              "      <td>NaN</td>\n",
              "      <td>NaN</td>\n",
              "      <td>NaN</td>\n",
              "      <td>NaN</td>\n",
              "      <td>NaN</td>\n",
              "      <td>NaN</td>\n",
              "      <td>NaN</td>\n",
              "      <td>NaN</td>\n",
              "      <td>NaN</td>\n",
              "      <td>NaN</td>\n",
              "      <td>NaN</td>\n",
              "      <td>NaN</td>\n",
              "      <td>NaN</td>\n",
              "      <td>NaN</td>\n",
              "      <td>NaN</td>\n",
              "      <td>NaN</td>\n",
              "      <td>az</td>\n",
              "      <td>NaN</td>\n",
              "      <td>NaN</td>\n",
              "      <td>NaN</td>\n",
              "    </tr>\n",
              "    <tr>\n",
              "      <th>1</th>\n",
              "      <td>7218891961</td>\n",
              "      <td>https://fayar.craigslist.org/ctd/d/bentonville...</td>\n",
              "      <td>fayetteville</td>\n",
              "      <td>https://fayar.craigslist.org</td>\n",
              "      <td>11900</td>\n",
              "      <td>NaN</td>\n",
              "      <td>NaN</td>\n",
              "      <td>NaN</td>\n",
              "      <td>NaN</td>\n",
              "      <td>NaN</td>\n",
              "      <td>NaN</td>\n",
              "      <td>NaN</td>\n",
              "      <td>NaN</td>\n",
              "      <td>NaN</td>\n",
              "      <td>NaN</td>\n",
              "      <td>NaN</td>\n",
              "      <td>NaN</td>\n",
              "      <td>NaN</td>\n",
              "      <td>NaN</td>\n",
              "      <td>NaN</td>\n",
              "      <td>NaN</td>\n",
              "      <td>NaN</td>\n",
              "      <td>ar</td>\n",
              "      <td>NaN</td>\n",
              "      <td>NaN</td>\n",
              "      <td>NaN</td>\n",
              "    </tr>\n",
              "    <tr>\n",
              "      <th>2</th>\n",
              "      <td>7221797935</td>\n",
              "      <td>https://keys.craigslist.org/cto/d/summerland-k...</td>\n",
              "      <td>florida keys</td>\n",
              "      <td>https://keys.craigslist.org</td>\n",
              "      <td>21000</td>\n",
              "      <td>NaN</td>\n",
              "      <td>NaN</td>\n",
              "      <td>NaN</td>\n",
              "      <td>NaN</td>\n",
              "      <td>NaN</td>\n",
              "      <td>NaN</td>\n",
              "      <td>NaN</td>\n",
              "      <td>NaN</td>\n",
              "      <td>NaN</td>\n",
              "      <td>NaN</td>\n",
              "      <td>NaN</td>\n",
              "      <td>NaN</td>\n",
              "      <td>NaN</td>\n",
              "      <td>NaN</td>\n",
              "      <td>NaN</td>\n",
              "      <td>NaN</td>\n",
              "      <td>NaN</td>\n",
              "      <td>fl</td>\n",
              "      <td>NaN</td>\n",
              "      <td>NaN</td>\n",
              "      <td>NaN</td>\n",
              "    </tr>\n",
              "    <tr>\n",
              "      <th>3</th>\n",
              "      <td>7222270760</td>\n",
              "      <td>https://worcester.craigslist.org/cto/d/west-br...</td>\n",
              "      <td>worcester / central MA</td>\n",
              "      <td>https://worcester.craigslist.org</td>\n",
              "      <td>1500</td>\n",
              "      <td>NaN</td>\n",
              "      <td>NaN</td>\n",
              "      <td>NaN</td>\n",
              "      <td>NaN</td>\n",
              "      <td>NaN</td>\n",
              "      <td>NaN</td>\n",
              "      <td>NaN</td>\n",
              "      <td>NaN</td>\n",
              "      <td>NaN</td>\n",
              "      <td>NaN</td>\n",
              "      <td>NaN</td>\n",
              "      <td>NaN</td>\n",
              "      <td>NaN</td>\n",
              "      <td>NaN</td>\n",
              "      <td>NaN</td>\n",
              "      <td>NaN</td>\n",
              "      <td>NaN</td>\n",
              "      <td>ma</td>\n",
              "      <td>NaN</td>\n",
              "      <td>NaN</td>\n",
              "      <td>NaN</td>\n",
              "    </tr>\n",
              "    <tr>\n",
              "      <th>4</th>\n",
              "      <td>7210384030</td>\n",
              "      <td>https://greensboro.craigslist.org/cto/d/trinit...</td>\n",
              "      <td>greensboro</td>\n",
              "      <td>https://greensboro.craigslist.org</td>\n",
              "      <td>4900</td>\n",
              "      <td>NaN</td>\n",
              "      <td>NaN</td>\n",
              "      <td>NaN</td>\n",
              "      <td>NaN</td>\n",
              "      <td>NaN</td>\n",
              "      <td>NaN</td>\n",
              "      <td>NaN</td>\n",
              "      <td>NaN</td>\n",
              "      <td>NaN</td>\n",
              "      <td>NaN</td>\n",
              "      <td>NaN</td>\n",
              "      <td>NaN</td>\n",
              "      <td>NaN</td>\n",
              "      <td>NaN</td>\n",
              "      <td>NaN</td>\n",
              "      <td>NaN</td>\n",
              "      <td>NaN</td>\n",
              "      <td>nc</td>\n",
              "      <td>NaN</td>\n",
              "      <td>NaN</td>\n",
              "      <td>NaN</td>\n",
              "    </tr>\n",
              "  </tbody>\n",
              "</table>\n",
              "</div>"
            ],
            "text/plain": [
              "           id                                                url  \\\n",
              "0  7222695916  https://prescott.craigslist.org/cto/d/prescott...   \n",
              "1  7218891961  https://fayar.craigslist.org/ctd/d/bentonville...   \n",
              "2  7221797935  https://keys.craigslist.org/cto/d/summerland-k...   \n",
              "3  7222270760  https://worcester.craigslist.org/cto/d/west-br...   \n",
              "4  7210384030  https://greensboro.craigslist.org/cto/d/trinit...   \n",
              "\n",
              "                   region                         region_url  price  year  \\\n",
              "0                prescott    https://prescott.craigslist.org   6000   NaN   \n",
              "1            fayetteville       https://fayar.craigslist.org  11900   NaN   \n",
              "2            florida keys        https://keys.craigslist.org  21000   NaN   \n",
              "3  worcester / central MA   https://worcester.craigslist.org   1500   NaN   \n",
              "4              greensboro  https://greensboro.craigslist.org   4900   NaN   \n",
              "\n",
              "  manufacturer model condition cylinders fuel  odometer title_status  \\\n",
              "0          NaN   NaN       NaN       NaN  NaN       NaN          NaN   \n",
              "1          NaN   NaN       NaN       NaN  NaN       NaN          NaN   \n",
              "2          NaN   NaN       NaN       NaN  NaN       NaN          NaN   \n",
              "3          NaN   NaN       NaN       NaN  NaN       NaN          NaN   \n",
              "4          NaN   NaN       NaN       NaN  NaN       NaN          NaN   \n",
              "\n",
              "  transmission  VIN drive size type paint_color image_url description  county  \\\n",
              "0          NaN  NaN   NaN  NaN  NaN         NaN       NaN         NaN     NaN   \n",
              "1          NaN  NaN   NaN  NaN  NaN         NaN       NaN         NaN     NaN   \n",
              "2          NaN  NaN   NaN  NaN  NaN         NaN       NaN         NaN     NaN   \n",
              "3          NaN  NaN   NaN  NaN  NaN         NaN       NaN         NaN     NaN   \n",
              "4          NaN  NaN   NaN  NaN  NaN         NaN       NaN         NaN     NaN   \n",
              "\n",
              "  state  lat  long posting_date  \n",
              "0    az  NaN   NaN          NaN  \n",
              "1    ar  NaN   NaN          NaN  \n",
              "2    fl  NaN   NaN          NaN  \n",
              "3    ma  NaN   NaN          NaN  \n",
              "4    nc  NaN   NaN          NaN  "
            ]
          },
          "metadata": {},
          "execution_count": 7
        }
      ]
    },
    {
      "cell_type": "markdown",
      "metadata": {
        "id": "kf5KVJiioJS_"
      },
      "source": [
        "Data Cleaning"
      ]
    },
    {
      "cell_type": "code",
      "metadata": {
        "id": "uvHgmpgkoA7s"
      },
      "source": [
        "# Remove column - 'url' since the details present in url is already available in \n",
        "# columns - 'region', 'county', 'state'\n",
        "df = df.drop('url', axis=1)"
      ],
      "execution_count": 8,
      "outputs": []
    },
    {
      "cell_type": "code",
      "metadata": {
        "id": "YDvIUlGNoTzJ",
        "colab": {
          "base_uri": "https://localhost:8080/"
        },
        "outputId": "43c41fe7-ed99-4657-a62c-71978b63b081"
      },
      "source": [
        "df['region_url'].unique()[:10]"
      ],
      "execution_count": 9,
      "outputs": [
        {
          "output_type": "execute_result",
          "data": {
            "text/plain": [
              "array(['https://prescott.craigslist.org', 'https://fayar.craigslist.org',\n",
              "       'https://keys.craigslist.org', 'https://worcester.craigslist.org',\n",
              "       'https://greensboro.craigslist.org',\n",
              "       'https://hudsonvalley.craigslist.org',\n",
              "       'https://medford.craigslist.org', 'https://erie.craigslist.org',\n",
              "       'https://elpaso.craigslist.org',\n",
              "       'https://bellingham.craigslist.org'], dtype=object)"
            ]
          },
          "metadata": {},
          "execution_count": 9
        }
      ]
    },
    {
      "cell_type": "code",
      "metadata": {
        "id": "YEDg_e7toWEL",
        "colab": {
          "base_uri": "https://localhost:8080/"
        },
        "outputId": "61ec55c7-6fb5-48a2-db18-f5d120d31b26"
      },
      "source": [
        "# The county column only has 'nan' in it. Therefore, take the county name from 'region_url' column.\n",
        "df['county'].unique()"
      ],
      "execution_count": 10,
      "outputs": [
        {
          "output_type": "execute_result",
          "data": {
            "text/plain": [
              "array([nan])"
            ]
          },
          "metadata": {},
          "execution_count": 10
        }
      ]
    },
    {
      "cell_type": "code",
      "metadata": {
        "id": "f4bBTorqoYde"
      },
      "source": [
        "# Updating 'county' from 'region_from_url' column.\n",
        "df['county'] = df['region_url'].str.replace('https://','').str.replace('.craigslist.org','')"
      ],
      "execution_count": 11,
      "outputs": []
    },
    {
      "cell_type": "code",
      "metadata": {
        "id": "FQSqoomVo_zK",
        "colab": {
          "base_uri": "https://localhost:8080/"
        },
        "outputId": "440c3192-0ed4-429d-fbe7-40b16321ece5"
      },
      "source": [
        "# Dropping column - region_url\n",
        "df = df.drop('region_url', axis=1)\n",
        "# Finding the unique list of manufacturers. There are NULL values.\n",
        "df['manufacturer'].unique()"
      ],
      "execution_count": 12,
      "outputs": [
        {
          "output_type": "execute_result",
          "data": {
            "text/plain": [
              "array([nan, 'gmc', 'chevrolet', 'toyota', 'ford', 'jeep', 'nissan', 'ram',\n",
              "       'mazda', 'cadillac', 'honda', 'dodge', 'lexus', 'jaguar', 'buick',\n",
              "       'chrysler', 'volvo', 'audi', 'infiniti', 'lincoln', 'alfa-romeo',\n",
              "       'subaru', 'acura', 'hyundai', 'mercedes-benz', 'bmw', 'mitsubishi',\n",
              "       'volkswagen', 'porsche', 'kia', 'rover', 'ferrari', 'mini',\n",
              "       'pontiac', 'fiat', 'tesla', 'saturn', 'mercury', 'harley-davidson',\n",
              "       'datsun', 'aston-martin', 'land rover', 'morgan'], dtype=object)"
            ]
          },
          "metadata": {},
          "execution_count": 12
        }
      ]
    },
    {
      "cell_type": "code",
      "metadata": {
        "id": "vYUYqywBpFQr",
        "colab": {
          "base_uri": "https://localhost:8080/"
        },
        "outputId": "f6fe7635-9ac7-4a4c-ab71-60c6dbae34da"
      },
      "source": [
        "model_df = df.loc[df['manufacturer'].isnull(), ['model']]\n",
        "model_df['model'].unique()[:50]"
      ],
      "execution_count": 13,
      "outputs": [
        {
          "output_type": "execute_result",
          "data": {
            "text/plain": [
              "array([nan, 'Scion iM Hatchback 4D', 'blue bird bus', '1966 C-30 1 ton',\n",
              "       'smart fortwo Passion Hatchback', 'F-350', 'lac XT5 Crossover',\n",
              "       'Sterling Acterra', 'Freightliner Cascadia', 'Maserati Levante',\n",
              "       'SPECIAL FINANCE PROGRAM 2020', '1987 Saab 900 Turbo',\n",
              "       'Suzuki XL-7', 'Series', 'scion ia', '1988', 'plymouth voyager',\n",
              "       'oldsmobile cutlass', 'INTERNATIONAL 4700 DUMP', 'smart fortwo',\n",
              "       'r XF', '2002 limited 4 runner', 'LBZ Duramax',\n",
              "       '2002   Corvette Convertible', 'Genesis G80', 'ai Santa Fe',\n",
              "       'FordE450', 'des-Benz CLA', 'HUMMER H2', 'a Camry',\n",
              "       'Isuzu NPR HD GAS REG', 'Hino 268', 'International TerraStar',\n",
              "       'Freightliner M2 106 Medium Duty', 'Blue Bird All American',\n",
              "       'Isuzu NPR HD GAS CREW', 'Isuzu NPR', 'Workhorse W42', 'he Macan',\n",
              "       'HUMMER H2 Lifted 4x4', 'des-Benz E-Class', 'Kenworth T300',\n",
              "       'CX-5', 'Freightliner', 'AutoCar flatbed truck',\n",
              "       'olet Express Commercial Cutaway', 'AM GENERAL HUMMER', '500',\n",
              "       'HINO', 'BMW528i'], dtype=object)"
            ]
          },
          "metadata": {},
          "execution_count": 13
        }
      ]
    },
    {
      "cell_type": "code",
      "metadata": {
        "id": "JJC6_GbrpH58",
        "colab": {
          "base_uri": "https://localhost:8080/"
        },
        "outputId": "dcddfc25-d381-460f-cefa-6f94f03a7926"
      },
      "source": [
        "model_df.shape"
      ],
      "execution_count": 14,
      "outputs": [
        {
          "output_type": "execute_result",
          "data": {
            "text/plain": [
              "(17646, 1)"
            ]
          },
          "metadata": {},
          "execution_count": 14
        }
      ]
    },
    {
      "cell_type": "code",
      "metadata": {
        "id": "WbCDBeP_pLFT",
        "colab": {
          "base_uri": "https://localhost:8080/"
        },
        "outputId": "2b4d3236-d7db-49ad-be3d-1503562151da"
      },
      "source": [
        "df.shape\n"
      ],
      "execution_count": 15,
      "outputs": [
        {
          "output_type": "execute_result",
          "data": {
            "text/plain": [
              "(426880, 24)"
            ]
          },
          "metadata": {},
          "execution_count": 15
        }
      ]
    },
    {
      "cell_type": "code",
      "metadata": {
        "id": "1XoQoP0ApL6u",
        "colab": {
          "base_uri": "https://localhost:8080/",
          "height": 243
        },
        "outputId": "eed5c422-81c2-4ac8-babc-d932a34f08e2"
      },
      "source": [
        "# Update 'manufacturer' to 'other' when its NULL\n",
        "df.loc[df['manufacturer'].isnull(), ['manufacturer']] = 'other'\n",
        "df.head(5)"
      ],
      "execution_count": 16,
      "outputs": [
        {
          "output_type": "execute_result",
          "data": {
            "text/html": [
              "<div>\n",
              "<style scoped>\n",
              "    .dataframe tbody tr th:only-of-type {\n",
              "        vertical-align: middle;\n",
              "    }\n",
              "\n",
              "    .dataframe tbody tr th {\n",
              "        vertical-align: top;\n",
              "    }\n",
              "\n",
              "    .dataframe thead th {\n",
              "        text-align: right;\n",
              "    }\n",
              "</style>\n",
              "<table border=\"1\" class=\"dataframe\">\n",
              "  <thead>\n",
              "    <tr style=\"text-align: right;\">\n",
              "      <th></th>\n",
              "      <th>id</th>\n",
              "      <th>region</th>\n",
              "      <th>price</th>\n",
              "      <th>year</th>\n",
              "      <th>manufacturer</th>\n",
              "      <th>model</th>\n",
              "      <th>condition</th>\n",
              "      <th>cylinders</th>\n",
              "      <th>fuel</th>\n",
              "      <th>odometer</th>\n",
              "      <th>title_status</th>\n",
              "      <th>transmission</th>\n",
              "      <th>VIN</th>\n",
              "      <th>drive</th>\n",
              "      <th>size</th>\n",
              "      <th>type</th>\n",
              "      <th>paint_color</th>\n",
              "      <th>image_url</th>\n",
              "      <th>description</th>\n",
              "      <th>county</th>\n",
              "      <th>state</th>\n",
              "      <th>lat</th>\n",
              "      <th>long</th>\n",
              "      <th>posting_date</th>\n",
              "    </tr>\n",
              "  </thead>\n",
              "  <tbody>\n",
              "    <tr>\n",
              "      <th>0</th>\n",
              "      <td>7222695916</td>\n",
              "      <td>prescott</td>\n",
              "      <td>6000</td>\n",
              "      <td>NaN</td>\n",
              "      <td>other</td>\n",
              "      <td>NaN</td>\n",
              "      <td>NaN</td>\n",
              "      <td>NaN</td>\n",
              "      <td>NaN</td>\n",
              "      <td>NaN</td>\n",
              "      <td>NaN</td>\n",
              "      <td>NaN</td>\n",
              "      <td>NaN</td>\n",
              "      <td>NaN</td>\n",
              "      <td>NaN</td>\n",
              "      <td>NaN</td>\n",
              "      <td>NaN</td>\n",
              "      <td>NaN</td>\n",
              "      <td>NaN</td>\n",
              "      <td>prescott</td>\n",
              "      <td>az</td>\n",
              "      <td>NaN</td>\n",
              "      <td>NaN</td>\n",
              "      <td>NaN</td>\n",
              "    </tr>\n",
              "    <tr>\n",
              "      <th>1</th>\n",
              "      <td>7218891961</td>\n",
              "      <td>fayetteville</td>\n",
              "      <td>11900</td>\n",
              "      <td>NaN</td>\n",
              "      <td>other</td>\n",
              "      <td>NaN</td>\n",
              "      <td>NaN</td>\n",
              "      <td>NaN</td>\n",
              "      <td>NaN</td>\n",
              "      <td>NaN</td>\n",
              "      <td>NaN</td>\n",
              "      <td>NaN</td>\n",
              "      <td>NaN</td>\n",
              "      <td>NaN</td>\n",
              "      <td>NaN</td>\n",
              "      <td>NaN</td>\n",
              "      <td>NaN</td>\n",
              "      <td>NaN</td>\n",
              "      <td>NaN</td>\n",
              "      <td>fayar</td>\n",
              "      <td>ar</td>\n",
              "      <td>NaN</td>\n",
              "      <td>NaN</td>\n",
              "      <td>NaN</td>\n",
              "    </tr>\n",
              "    <tr>\n",
              "      <th>2</th>\n",
              "      <td>7221797935</td>\n",
              "      <td>florida keys</td>\n",
              "      <td>21000</td>\n",
              "      <td>NaN</td>\n",
              "      <td>other</td>\n",
              "      <td>NaN</td>\n",
              "      <td>NaN</td>\n",
              "      <td>NaN</td>\n",
              "      <td>NaN</td>\n",
              "      <td>NaN</td>\n",
              "      <td>NaN</td>\n",
              "      <td>NaN</td>\n",
              "      <td>NaN</td>\n",
              "      <td>NaN</td>\n",
              "      <td>NaN</td>\n",
              "      <td>NaN</td>\n",
              "      <td>NaN</td>\n",
              "      <td>NaN</td>\n",
              "      <td>NaN</td>\n",
              "      <td>keys</td>\n",
              "      <td>fl</td>\n",
              "      <td>NaN</td>\n",
              "      <td>NaN</td>\n",
              "      <td>NaN</td>\n",
              "    </tr>\n",
              "    <tr>\n",
              "      <th>3</th>\n",
              "      <td>7222270760</td>\n",
              "      <td>worcester / central MA</td>\n",
              "      <td>1500</td>\n",
              "      <td>NaN</td>\n",
              "      <td>other</td>\n",
              "      <td>NaN</td>\n",
              "      <td>NaN</td>\n",
              "      <td>NaN</td>\n",
              "      <td>NaN</td>\n",
              "      <td>NaN</td>\n",
              "      <td>NaN</td>\n",
              "      <td>NaN</td>\n",
              "      <td>NaN</td>\n",
              "      <td>NaN</td>\n",
              "      <td>NaN</td>\n",
              "      <td>NaN</td>\n",
              "      <td>NaN</td>\n",
              "      <td>NaN</td>\n",
              "      <td>NaN</td>\n",
              "      <td>worcester</td>\n",
              "      <td>ma</td>\n",
              "      <td>NaN</td>\n",
              "      <td>NaN</td>\n",
              "      <td>NaN</td>\n",
              "    </tr>\n",
              "    <tr>\n",
              "      <th>4</th>\n",
              "      <td>7210384030</td>\n",
              "      <td>greensboro</td>\n",
              "      <td>4900</td>\n",
              "      <td>NaN</td>\n",
              "      <td>other</td>\n",
              "      <td>NaN</td>\n",
              "      <td>NaN</td>\n",
              "      <td>NaN</td>\n",
              "      <td>NaN</td>\n",
              "      <td>NaN</td>\n",
              "      <td>NaN</td>\n",
              "      <td>NaN</td>\n",
              "      <td>NaN</td>\n",
              "      <td>NaN</td>\n",
              "      <td>NaN</td>\n",
              "      <td>NaN</td>\n",
              "      <td>NaN</td>\n",
              "      <td>NaN</td>\n",
              "      <td>NaN</td>\n",
              "      <td>greensboro</td>\n",
              "      <td>nc</td>\n",
              "      <td>NaN</td>\n",
              "      <td>NaN</td>\n",
              "      <td>NaN</td>\n",
              "    </tr>\n",
              "  </tbody>\n",
              "</table>\n",
              "</div>"
            ],
            "text/plain": [
              "           id                  region  price  year manufacturer model  \\\n",
              "0  7222695916                prescott   6000   NaN        other   NaN   \n",
              "1  7218891961            fayetteville  11900   NaN        other   NaN   \n",
              "2  7221797935            florida keys  21000   NaN        other   NaN   \n",
              "3  7222270760  worcester / central MA   1500   NaN        other   NaN   \n",
              "4  7210384030              greensboro   4900   NaN        other   NaN   \n",
              "\n",
              "  condition cylinders fuel  odometer title_status transmission  VIN drive  \\\n",
              "0       NaN       NaN  NaN       NaN          NaN          NaN  NaN   NaN   \n",
              "1       NaN       NaN  NaN       NaN          NaN          NaN  NaN   NaN   \n",
              "2       NaN       NaN  NaN       NaN          NaN          NaN  NaN   NaN   \n",
              "3       NaN       NaN  NaN       NaN          NaN          NaN  NaN   NaN   \n",
              "4       NaN       NaN  NaN       NaN          NaN          NaN  NaN   NaN   \n",
              "\n",
              "  size type paint_color image_url description      county state  lat  long  \\\n",
              "0  NaN  NaN         NaN       NaN         NaN    prescott    az  NaN   NaN   \n",
              "1  NaN  NaN         NaN       NaN         NaN       fayar    ar  NaN   NaN   \n",
              "2  NaN  NaN         NaN       NaN         NaN        keys    fl  NaN   NaN   \n",
              "3  NaN  NaN         NaN       NaN         NaN   worcester    ma  NaN   NaN   \n",
              "4  NaN  NaN         NaN       NaN         NaN  greensboro    nc  NaN   NaN   \n",
              "\n",
              "  posting_date  \n",
              "0          NaN  \n",
              "1          NaN  \n",
              "2          NaN  \n",
              "3          NaN  \n",
              "4          NaN  "
            ]
          },
          "metadata": {},
          "execution_count": 16
        }
      ]
    },
    {
      "cell_type": "code",
      "metadata": {
        "id": "J2TYJgkRpPHs",
        "colab": {
          "base_uri": "https://localhost:8080/",
          "height": 69
        },
        "outputId": "7e689d1e-d506-4f70-88ca-e2c02bc0ff45"
      },
      "source": [
        "df[df['region'].isnull() == True]\n"
      ],
      "execution_count": 17,
      "outputs": [
        {
          "output_type": "execute_result",
          "data": {
            "text/html": [
              "<div>\n",
              "<style scoped>\n",
              "    .dataframe tbody tr th:only-of-type {\n",
              "        vertical-align: middle;\n",
              "    }\n",
              "\n",
              "    .dataframe tbody tr th {\n",
              "        vertical-align: top;\n",
              "    }\n",
              "\n",
              "    .dataframe thead th {\n",
              "        text-align: right;\n",
              "    }\n",
              "</style>\n",
              "<table border=\"1\" class=\"dataframe\">\n",
              "  <thead>\n",
              "    <tr style=\"text-align: right;\">\n",
              "      <th></th>\n",
              "      <th>id</th>\n",
              "      <th>region</th>\n",
              "      <th>price</th>\n",
              "      <th>year</th>\n",
              "      <th>manufacturer</th>\n",
              "      <th>model</th>\n",
              "      <th>condition</th>\n",
              "      <th>cylinders</th>\n",
              "      <th>fuel</th>\n",
              "      <th>odometer</th>\n",
              "      <th>title_status</th>\n",
              "      <th>transmission</th>\n",
              "      <th>VIN</th>\n",
              "      <th>drive</th>\n",
              "      <th>size</th>\n",
              "      <th>type</th>\n",
              "      <th>paint_color</th>\n",
              "      <th>image_url</th>\n",
              "      <th>description</th>\n",
              "      <th>county</th>\n",
              "      <th>state</th>\n",
              "      <th>lat</th>\n",
              "      <th>long</th>\n",
              "      <th>posting_date</th>\n",
              "    </tr>\n",
              "  </thead>\n",
              "  <tbody>\n",
              "  </tbody>\n",
              "</table>\n",
              "</div>"
            ],
            "text/plain": [
              "Empty DataFrame\n",
              "Columns: [id, region, price, year, manufacturer, model, condition, cylinders, fuel, odometer, title_status, transmission, VIN, drive, size, type, paint_color, image_url, description, county, state, lat, long, posting_date]\n",
              "Index: []"
            ]
          },
          "metadata": {},
          "execution_count": 17
        }
      ]
    },
    {
      "cell_type": "code",
      "metadata": {
        "id": "DAoT7I7lpSHA",
        "colab": {
          "base_uri": "https://localhost:8080/"
        },
        "outputId": "3008babe-b022-48fe-ac58-ee6e4cacb478"
      },
      "source": [
        "df['region'].unique()[:10]\n"
      ],
      "execution_count": 18,
      "outputs": [
        {
          "output_type": "execute_result",
          "data": {
            "text/plain": [
              "array(['prescott', 'fayetteville', 'florida keys',\n",
              "       'worcester / central MA', 'greensboro', 'hudson valley',\n",
              "       'medford-ashland', 'erie', 'el paso', 'bellingham'], dtype=object)"
            ]
          },
          "metadata": {},
          "execution_count": 18
        }
      ]
    },
    {
      "cell_type": "code",
      "metadata": {
        "id": "saAAXffTpUsH",
        "colab": {
          "base_uri": "https://localhost:8080/"
        },
        "outputId": "585bf207-73e8-4488-da2c-bbf7dbccca91"
      },
      "source": [
        "# Removing all records which has price = 0.\n",
        "df = df[df['price'] != 0]\n",
        "df['year'].unique()"
      ],
      "execution_count": 19,
      "outputs": [
        {
          "output_type": "execute_result",
          "data": {
            "text/plain": [
              "array([  nan, 2014., 2010., 2020., 2017., 2013., 2012., 2016., 2019.,\n",
              "       2011., 1992., 2018., 2004., 2015., 2001., 2006., 1968., 2003.,\n",
              "       2008., 2007., 2005., 1966., 2009., 1998., 2002., 1999., 2021.,\n",
              "       1997., 1976., 1969., 1995., 1978., 1954., 1979., 1970., 1974.,\n",
              "       1996., 1987., 2000., 1955., 1960., 1991., 1972., 1988., 1994.,\n",
              "       1929., 1984., 1986., 1989., 1973., 1946., 1933., 1958., 1937.,\n",
              "       1985., 1957., 1953., 1942., 1963., 1977., 1993., 1990., 1965.,\n",
              "       1982., 1948., 1983., 1936., 1932., 1951., 1931., 1980., 1967.,\n",
              "       1971., 1947., 1981., 1926., 1962., 1975., 1964., 1934., 1952.,\n",
              "       1940., 1959., 1950., 1930., 1956., 1922., 1928., 2022., 1901.,\n",
              "       1941., 1924., 1927., 1939., 1923., 1949., 1961., 1935., 1918.,\n",
              "       1900., 1938., 1913., 1916., 1943., 1925., 1921., 1915., 1945.,\n",
              "       1902., 1905., 1920., 1944., 1910., 1909.])"
            ]
          },
          "metadata": {},
          "execution_count": 19
        }
      ]
    },
    {
      "cell_type": "code",
      "metadata": {
        "id": "PuC2AccvpXMd",
        "colab": {
          "base_uri": "https://localhost:8080/"
        },
        "outputId": "c1bf45ce-41a3-4640-f610-1f2926f5180b"
      },
      "source": [
        "# There are 82 records that have year higher than current year ie) 2020. They have to be removed as well.\n",
        "df[df['year'] > 2020].shape"
      ],
      "execution_count": 20,
      "outputs": [
        {
          "output_type": "execute_result",
          "data": {
            "text/plain": [
              "(2078, 24)"
            ]
          },
          "metadata": {},
          "execution_count": 20
        }
      ]
    },
    {
      "cell_type": "code",
      "metadata": {
        "id": "V_EervS4paCr",
        "colab": {
          "base_uri": "https://localhost:8080/"
        },
        "outputId": "c57d87e5-a654-4d9e-a054-08f3fd73679c"
      },
      "source": [
        "df = df[df['year'] < 2020]\n",
        "# 'model' column has lot of inconsistent data eg). Anything, sequoia limited, 30 YEARS.EXP.\n",
        "df['model'].unique()"
      ],
      "execution_count": 21,
      "outputs": [
        {
          "output_type": "execute_result",
          "data": {
            "text/plain": [
              "array(['sierra 1500 crew cab slt', 'silverado 1500',\n",
              "       'tundra double cab sr', ..., 'gand wagoneer', '96 Suburban',\n",
              "       'Paige Glenbrook Touring'], dtype=object)"
            ]
          },
          "metadata": {},
          "execution_count": 21
        }
      ]
    },
    {
      "cell_type": "code",
      "metadata": {
        "id": "8IyQcb_Zpdif",
        "colab": {
          "base_uri": "https://localhost:8080/"
        },
        "outputId": "c3ee5a2e-aebe-4dc3-d877-380cb29717e8"
      },
      "source": [
        "# Dropping the columns - latitude, longitude\n",
        "df = df.drop(['lat','long'], axis=1)\n",
        "len(df)"
      ],
      "execution_count": 22,
      "outputs": [
        {
          "output_type": "execute_result",
          "data": {
            "text/plain": [
              "372927"
            ]
          },
          "metadata": {},
          "execution_count": 22
        }
      ]
    },
    {
      "cell_type": "code",
      "metadata": {
        "id": "lM_XQOPMpsYe",
        "colab": {
          "base_uri": "https://localhost:8080/"
        },
        "outputId": "08f3657c-e1ea-4be1-d762-a88539f3a125"
      },
      "source": [
        "# Identifying the no.of missing values in each column and their percentage compared to total.\n",
        "missing_vals = df.isnull().sum().sort_values(ascending = False)\n",
        "(missing_vals/len(df))*100"
      ],
      "execution_count": 23,
      "outputs": [
        {
          "output_type": "execute_result",
          "data": {
            "text/plain": [
              "size            70.693996\n",
              "VIN             39.967876\n",
              "cylinders       39.776686\n",
              "condition       38.520407\n",
              "drive           30.222001\n",
              "paint_color     29.902367\n",
              "type            22.269774\n",
              "title_status     1.835748\n",
              "model            1.214447\n",
              "fuel             0.597436\n",
              "odometer         0.579470\n",
              "transmission     0.453976\n",
              "description      0.000268\n",
              "manufacturer     0.000000\n",
              "price            0.000000\n",
              "year             0.000000\n",
              "region           0.000000\n",
              "posting_date     0.000000\n",
              "state            0.000000\n",
              "image_url        0.000000\n",
              "county           0.000000\n",
              "id               0.000000\n",
              "dtype: float64"
            ]
          },
          "metadata": {},
          "execution_count": 23
        }
      ]
    },
    {
      "cell_type": "code",
      "metadata": {
        "id": "RycRiF9spude",
        "colab": {
          "base_uri": "https://localhost:8080/"
        },
        "outputId": "f4f87284-2c13-49a7-cd5a-cf6fecba9b4e"
      },
      "source": [
        "# Removing rows which has less than 5% of NULLs in columns.\n",
        "df=df.dropna(subset=['model','fuel','transmission','title_status','description'])\n",
        "df.shape"
      ],
      "execution_count": 24,
      "outputs": [
        {
          "output_type": "execute_result",
          "data": {
            "text/plain": [
              "(358654, 22)"
            ]
          },
          "metadata": {},
          "execution_count": 24
        }
      ]
    },
    {
      "cell_type": "code",
      "metadata": {
        "id": "bYAj-XU_pwoI",
        "colab": {
          "base_uri": "https://localhost:8080/",
          "height": 504
        },
        "outputId": "52131554-b236-42d3-80cc-b8732dbdfede"
      },
      "source": [
        "df.head()"
      ],
      "execution_count": 25,
      "outputs": [
        {
          "output_type": "execute_result",
          "data": {
            "text/html": [
              "<div>\n",
              "<style scoped>\n",
              "    .dataframe tbody tr th:only-of-type {\n",
              "        vertical-align: middle;\n",
              "    }\n",
              "\n",
              "    .dataframe tbody tr th {\n",
              "        vertical-align: top;\n",
              "    }\n",
              "\n",
              "    .dataframe thead th {\n",
              "        text-align: right;\n",
              "    }\n",
              "</style>\n",
              "<table border=\"1\" class=\"dataframe\">\n",
              "  <thead>\n",
              "    <tr style=\"text-align: right;\">\n",
              "      <th></th>\n",
              "      <th>id</th>\n",
              "      <th>region</th>\n",
              "      <th>price</th>\n",
              "      <th>year</th>\n",
              "      <th>manufacturer</th>\n",
              "      <th>model</th>\n",
              "      <th>condition</th>\n",
              "      <th>cylinders</th>\n",
              "      <th>fuel</th>\n",
              "      <th>odometer</th>\n",
              "      <th>title_status</th>\n",
              "      <th>transmission</th>\n",
              "      <th>VIN</th>\n",
              "      <th>drive</th>\n",
              "      <th>size</th>\n",
              "      <th>type</th>\n",
              "      <th>paint_color</th>\n",
              "      <th>image_url</th>\n",
              "      <th>description</th>\n",
              "      <th>county</th>\n",
              "      <th>state</th>\n",
              "      <th>posting_date</th>\n",
              "    </tr>\n",
              "  </thead>\n",
              "  <tbody>\n",
              "    <tr>\n",
              "      <th>27</th>\n",
              "      <td>7316814884</td>\n",
              "      <td>auburn</td>\n",
              "      <td>33590</td>\n",
              "      <td>2014.0</td>\n",
              "      <td>gmc</td>\n",
              "      <td>sierra 1500 crew cab slt</td>\n",
              "      <td>good</td>\n",
              "      <td>8 cylinders</td>\n",
              "      <td>gas</td>\n",
              "      <td>57923.0</td>\n",
              "      <td>clean</td>\n",
              "      <td>other</td>\n",
              "      <td>3GTP1VEC4EG551563</td>\n",
              "      <td>NaN</td>\n",
              "      <td>NaN</td>\n",
              "      <td>pickup</td>\n",
              "      <td>white</td>\n",
              "      <td>https://images.craigslist.org/00R0R_lwWjXSEWNa...</td>\n",
              "      <td>Carvana is the safer way to buy a car During t...</td>\n",
              "      <td>auburn</td>\n",
              "      <td>al</td>\n",
              "      <td>2021-05-04T12:31:18-0500</td>\n",
              "    </tr>\n",
              "    <tr>\n",
              "      <th>28</th>\n",
              "      <td>7316814758</td>\n",
              "      <td>auburn</td>\n",
              "      <td>22590</td>\n",
              "      <td>2010.0</td>\n",
              "      <td>chevrolet</td>\n",
              "      <td>silverado 1500</td>\n",
              "      <td>good</td>\n",
              "      <td>8 cylinders</td>\n",
              "      <td>gas</td>\n",
              "      <td>71229.0</td>\n",
              "      <td>clean</td>\n",
              "      <td>other</td>\n",
              "      <td>1GCSCSE06AZ123805</td>\n",
              "      <td>NaN</td>\n",
              "      <td>NaN</td>\n",
              "      <td>pickup</td>\n",
              "      <td>blue</td>\n",
              "      <td>https://images.craigslist.org/00R0R_lwWjXSEWNa...</td>\n",
              "      <td>Carvana is the safer way to buy a car During t...</td>\n",
              "      <td>auburn</td>\n",
              "      <td>al</td>\n",
              "      <td>2021-05-04T12:31:08-0500</td>\n",
              "    </tr>\n",
              "    <tr>\n",
              "      <th>30</th>\n",
              "      <td>7316743432</td>\n",
              "      <td>auburn</td>\n",
              "      <td>30990</td>\n",
              "      <td>2017.0</td>\n",
              "      <td>toyota</td>\n",
              "      <td>tundra double cab sr</td>\n",
              "      <td>good</td>\n",
              "      <td>8 cylinders</td>\n",
              "      <td>gas</td>\n",
              "      <td>41124.0</td>\n",
              "      <td>clean</td>\n",
              "      <td>other</td>\n",
              "      <td>5TFRM5F17HX120972</td>\n",
              "      <td>NaN</td>\n",
              "      <td>NaN</td>\n",
              "      <td>pickup</td>\n",
              "      <td>red</td>\n",
              "      <td>https://images.craigslist.org/00x0x_1y9kIOzGCF...</td>\n",
              "      <td>Carvana is the safer way to buy a car During t...</td>\n",
              "      <td>auburn</td>\n",
              "      <td>al</td>\n",
              "      <td>2021-05-04T10:41:31-0500</td>\n",
              "    </tr>\n",
              "    <tr>\n",
              "      <th>31</th>\n",
              "      <td>7316356412</td>\n",
              "      <td>auburn</td>\n",
              "      <td>15000</td>\n",
              "      <td>2013.0</td>\n",
              "      <td>ford</td>\n",
              "      <td>f-150 xlt</td>\n",
              "      <td>excellent</td>\n",
              "      <td>6 cylinders</td>\n",
              "      <td>gas</td>\n",
              "      <td>128000.0</td>\n",
              "      <td>clean</td>\n",
              "      <td>automatic</td>\n",
              "      <td>NaN</td>\n",
              "      <td>rwd</td>\n",
              "      <td>full-size</td>\n",
              "      <td>truck</td>\n",
              "      <td>black</td>\n",
              "      <td>https://images.craigslist.org/00404_l4loxHvdQe...</td>\n",
              "      <td>2013 F-150 XLT V6 4 Door. Good condition. Leve...</td>\n",
              "      <td>auburn</td>\n",
              "      <td>al</td>\n",
              "      <td>2021-05-03T14:02:03-0500</td>\n",
              "    </tr>\n",
              "    <tr>\n",
              "      <th>32</th>\n",
              "      <td>7316343444</td>\n",
              "      <td>auburn</td>\n",
              "      <td>27990</td>\n",
              "      <td>2012.0</td>\n",
              "      <td>gmc</td>\n",
              "      <td>sierra 2500 hd extended cab</td>\n",
              "      <td>good</td>\n",
              "      <td>8 cylinders</td>\n",
              "      <td>gas</td>\n",
              "      <td>68696.0</td>\n",
              "      <td>clean</td>\n",
              "      <td>other</td>\n",
              "      <td>1GT220CG8CZ231238</td>\n",
              "      <td>4wd</td>\n",
              "      <td>NaN</td>\n",
              "      <td>pickup</td>\n",
              "      <td>black</td>\n",
              "      <td>https://images.craigslist.org/00V0V_ftJbKrOgdi...</td>\n",
              "      <td>Carvana is the safer way to buy a car During t...</td>\n",
              "      <td>auburn</td>\n",
              "      <td>al</td>\n",
              "      <td>2021-05-03T13:41:25-0500</td>\n",
              "    </tr>\n",
              "  </tbody>\n",
              "</table>\n",
              "</div>"
            ],
            "text/plain": [
              "            id  region  price    year manufacturer  \\\n",
              "27  7316814884  auburn  33590  2014.0          gmc   \n",
              "28  7316814758  auburn  22590  2010.0    chevrolet   \n",
              "30  7316743432  auburn  30990  2017.0       toyota   \n",
              "31  7316356412  auburn  15000  2013.0         ford   \n",
              "32  7316343444  auburn  27990  2012.0          gmc   \n",
              "\n",
              "                          model  condition    cylinders fuel  odometer  \\\n",
              "27     sierra 1500 crew cab slt       good  8 cylinders  gas   57923.0   \n",
              "28               silverado 1500       good  8 cylinders  gas   71229.0   \n",
              "30         tundra double cab sr       good  8 cylinders  gas   41124.0   \n",
              "31                    f-150 xlt  excellent  6 cylinders  gas  128000.0   \n",
              "32  sierra 2500 hd extended cab       good  8 cylinders  gas   68696.0   \n",
              "\n",
              "   title_status transmission                VIN drive       size    type  \\\n",
              "27        clean        other  3GTP1VEC4EG551563   NaN        NaN  pickup   \n",
              "28        clean        other  1GCSCSE06AZ123805   NaN        NaN  pickup   \n",
              "30        clean        other  5TFRM5F17HX120972   NaN        NaN  pickup   \n",
              "31        clean    automatic                NaN   rwd  full-size   truck   \n",
              "32        clean        other  1GT220CG8CZ231238   4wd        NaN  pickup   \n",
              "\n",
              "   paint_color                                          image_url  \\\n",
              "27       white  https://images.craigslist.org/00R0R_lwWjXSEWNa...   \n",
              "28        blue  https://images.craigslist.org/00R0R_lwWjXSEWNa...   \n",
              "30         red  https://images.craigslist.org/00x0x_1y9kIOzGCF...   \n",
              "31       black  https://images.craigslist.org/00404_l4loxHvdQe...   \n",
              "32       black  https://images.craigslist.org/00V0V_ftJbKrOgdi...   \n",
              "\n",
              "                                          description  county state  \\\n",
              "27  Carvana is the safer way to buy a car During t...  auburn    al   \n",
              "28  Carvana is the safer way to buy a car During t...  auburn    al   \n",
              "30  Carvana is the safer way to buy a car During t...  auburn    al   \n",
              "31  2013 F-150 XLT V6 4 Door. Good condition. Leve...  auburn    al   \n",
              "32  Carvana is the safer way to buy a car During t...  auburn    al   \n",
              "\n",
              "                posting_date  \n",
              "27  2021-05-04T12:31:18-0500  \n",
              "28  2021-05-04T12:31:08-0500  \n",
              "30  2021-05-04T10:41:31-0500  \n",
              "31  2021-05-03T14:02:03-0500  \n",
              "32  2021-05-03T13:41:25-0500  "
            ]
          },
          "metadata": {},
          "execution_count": 25
        }
      ]
    },
    {
      "cell_type": "code",
      "metadata": {
        "id": "GohkRzrRpySx",
        "colab": {
          "base_uri": "https://localhost:8080/"
        },
        "outputId": "e4ef2a81-0762-42ea-c9ce-f3855e71b4de"
      },
      "source": [
        "df['cylinders'].unique()\n"
      ],
      "execution_count": 26,
      "outputs": [
        {
          "output_type": "execute_result",
          "data": {
            "text/plain": [
              "array(['8 cylinders', '6 cylinders', nan, '4 cylinders', '5 cylinders',\n",
              "       '3 cylinders', '10 cylinders', '12 cylinders', 'other'],\n",
              "      dtype=object)"
            ]
          },
          "metadata": {},
          "execution_count": 26
        }
      ]
    },
    {
      "cell_type": "code",
      "metadata": {
        "id": "SUbHlMuHp0mw",
        "colab": {
          "base_uri": "https://localhost:8080/"
        },
        "outputId": "f9c8e563-a7fb-4723-d76d-5520d4136600"
      },
      "source": [
        "df['type'].unique()"
      ],
      "execution_count": 27,
      "outputs": [
        {
          "output_type": "execute_result",
          "data": {
            "text/plain": [
              "array(['pickup', 'truck', 'other', nan, 'coupe', 'hatchback', 'mini-van',\n",
              "       'SUV', 'sedan', 'offroad', 'bus', 'convertible', 'wagon', 'van'],\n",
              "      dtype=object)"
            ]
          },
          "metadata": {},
          "execution_count": 27
        }
      ]
    },
    {
      "cell_type": "code",
      "metadata": {
        "id": "d1tzQdQpp6Jh",
        "colab": {
          "base_uri": "https://localhost:8080/"
        },
        "outputId": "2a82542d-10a2-43a9-de74-c4c7eb019c0e"
      },
      "source": [
        "# Using forward fill for the columns - 'paint_color', 'drive', 'cylinders', 'type'\n",
        "df['type'] = df['type'].fillna(method='ffill')\n",
        "df['paint_color'] = df['paint_color'].fillna(method='ffill')\n",
        "df['drive'] = df['drive'].fillna(method='ffill')\n",
        "df['cylinders'] = df['cylinders'].fillna(method='ffill')\n",
        "df.isnull().sum()"
      ],
      "execution_count": 28,
      "outputs": [
        {
          "output_type": "stream",
          "name": "stderr",
          "text": [
            "/usr/local/lib/python3.7/dist-packages/ipykernel_launcher.py:2: SettingWithCopyWarning: \n",
            "A value is trying to be set on a copy of a slice from a DataFrame.\n",
            "Try using .loc[row_indexer,col_indexer] = value instead\n",
            "\n",
            "See the caveats in the documentation: https://pandas.pydata.org/pandas-docs/stable/user_guide/indexing.html#returning-a-view-versus-a-copy\n",
            "  \n",
            "/usr/local/lib/python3.7/dist-packages/ipykernel_launcher.py:3: SettingWithCopyWarning: \n",
            "A value is trying to be set on a copy of a slice from a DataFrame.\n",
            "Try using .loc[row_indexer,col_indexer] = value instead\n",
            "\n",
            "See the caveats in the documentation: https://pandas.pydata.org/pandas-docs/stable/user_guide/indexing.html#returning-a-view-versus-a-copy\n",
            "  This is separate from the ipykernel package so we can avoid doing imports until\n",
            "/usr/local/lib/python3.7/dist-packages/ipykernel_launcher.py:4: SettingWithCopyWarning: \n",
            "A value is trying to be set on a copy of a slice from a DataFrame.\n",
            "Try using .loc[row_indexer,col_indexer] = value instead\n",
            "\n",
            "See the caveats in the documentation: https://pandas.pydata.org/pandas-docs/stable/user_guide/indexing.html#returning-a-view-versus-a-copy\n",
            "  after removing the cwd from sys.path.\n",
            "/usr/local/lib/python3.7/dist-packages/ipykernel_launcher.py:5: SettingWithCopyWarning: \n",
            "A value is trying to be set on a copy of a slice from a DataFrame.\n",
            "Try using .loc[row_indexer,col_indexer] = value instead\n",
            "\n",
            "See the caveats in the documentation: https://pandas.pydata.org/pandas-docs/stable/user_guide/indexing.html#returning-a-view-versus-a-copy\n",
            "  \"\"\"\n"
          ]
        },
        {
          "output_type": "execute_result",
          "data": {
            "text/plain": [
              "id                   0\n",
              "region               0\n",
              "price                0\n",
              "year                 0\n",
              "manufacturer         0\n",
              "model                0\n",
              "condition       136517\n",
              "cylinders            0\n",
              "fuel                 0\n",
              "odometer          1903\n",
              "title_status         0\n",
              "transmission         0\n",
              "VIN             145684\n",
              "drive                3\n",
              "size            251182\n",
              "type                 0\n",
              "paint_color          0\n",
              "image_url            0\n",
              "description          0\n",
              "county               0\n",
              "state                0\n",
              "posting_date         0\n",
              "dtype: int64"
            ]
          },
          "metadata": {},
          "execution_count": 28
        }
      ]
    },
    {
      "cell_type": "code",
      "metadata": {
        "id": "mxxuNzcpp8XK",
        "colab": {
          "base_uri": "https://localhost:8080/"
        },
        "outputId": "802b83dc-2789-48b1-b943-97c48e807184"
      },
      "source": [
        "df['condition'].unique()"
      ],
      "execution_count": 29,
      "outputs": [
        {
          "output_type": "execute_result",
          "data": {
            "text/plain": [
              "array(['good', 'excellent', 'fair', 'like new', nan, 'new', 'salvage'],\n",
              "      dtype=object)"
            ]
          },
          "metadata": {},
          "execution_count": 29
        }
      ]
    },
    {
      "cell_type": "code",
      "metadata": {
        "id": "U6pmkUH2p_Ej",
        "colab": {
          "base_uri": "https://localhost:8080/"
        },
        "outputId": "06418818-b36a-4eda-d532-9815ecff2053"
      },
      "source": [
        "# Updating the condition as 'new' for all vehicles whose year is 2019 and above\n",
        "df.loc[df.year>=2019, 'condition'] = df.loc[df.year>=2019, 'condition'].fillna('new')\n",
        "df.groupby(['condition']).count()['year']"
      ],
      "execution_count": 30,
      "outputs": [
        {
          "output_type": "execute_result",
          "data": {
            "text/plain": [
              "condition\n",
              "excellent     87560\n",
              "fair           6454\n",
              "good         108026\n",
              "like new      18891\n",
              "new            8893\n",
              "salvage         568\n",
              "Name: year, dtype: int64"
            ]
          },
          "metadata": {},
          "execution_count": 30
        }
      ]
    },
    {
      "cell_type": "code",
      "metadata": {
        "id": "t7ZLDe_lqBUl",
        "colab": {
          "base_uri": "https://localhost:8080/"
        },
        "outputId": "5d33dbad-2633-4b45-f50d-3c25254f99dd"
      },
      "source": [
        "df.isnull().sum()"
      ],
      "execution_count": 31,
      "outputs": [
        {
          "output_type": "execute_result",
          "data": {
            "text/plain": [
              "id                   0\n",
              "region               0\n",
              "price                0\n",
              "year                 0\n",
              "manufacturer         0\n",
              "model                0\n",
              "condition       128262\n",
              "cylinders            0\n",
              "fuel                 0\n",
              "odometer          1903\n",
              "title_status         0\n",
              "transmission         0\n",
              "VIN             145684\n",
              "drive                3\n",
              "size            251182\n",
              "type                 0\n",
              "paint_color          0\n",
              "image_url            0\n",
              "description          0\n",
              "county               0\n",
              "state                0\n",
              "posting_date         0\n",
              "dtype: int64"
            ]
          },
          "metadata": {},
          "execution_count": 31
        }
      ]
    },
    {
      "cell_type": "code",
      "metadata": {
        "id": "0mAjb5ahqDl6",
        "colab": {
          "base_uri": "https://localhost:8080/"
        },
        "outputId": "1e9b4b29-19d6-48fd-93d9-1b5bfd48a593"
      },
      "source": [
        "# Addressing the NULLs in 'odometer' column.\n",
        "\n",
        "# Since odometer is related to the condition of the vehicle, it can be used to fill the missing odometer values.\n",
        "# The mean of odometer values for each condition is calculated and is used to fill the NULL values for those \n",
        "# corresponding condition.\n",
        "# Find the total distinct values for 'condition'\n",
        "conditions = list(df['condition'].unique())\n",
        "conditions.pop(3) # removing null value from list\n",
        "conditions"
      ],
      "execution_count": 32,
      "outputs": [
        {
          "output_type": "execute_result",
          "data": {
            "text/plain": [
              "['good', 'excellent', 'fair', nan, 'new', 'salvage']"
            ]
          },
          "metadata": {},
          "execution_count": 32
        }
      ]
    },
    {
      "cell_type": "code",
      "metadata": {
        "id": "v8p8pOKvqH4o",
        "colab": {
          "base_uri": "https://localhost:8080/",
          "height": 237
        },
        "outputId": "25c50198-c184-47eb-a107-a8c405091c24"
      },
      "source": [
        "# Find the corresponding mean value of 'odometer' for each value in 'condition'\n",
        "mean_odometer_per_condition_df = df.groupby('condition').mean()['odometer'].reset_index()\n",
        "mean_odometer_per_condition_df"
      ],
      "execution_count": 33,
      "outputs": [
        {
          "output_type": "execute_result",
          "data": {
            "text/html": [
              "<div>\n",
              "<style scoped>\n",
              "    .dataframe tbody tr th:only-of-type {\n",
              "        vertical-align: middle;\n",
              "    }\n",
              "\n",
              "    .dataframe tbody tr th {\n",
              "        vertical-align: top;\n",
              "    }\n",
              "\n",
              "    .dataframe thead th {\n",
              "        text-align: right;\n",
              "    }\n",
              "</style>\n",
              "<table border=\"1\" class=\"dataframe\">\n",
              "  <thead>\n",
              "    <tr style=\"text-align: right;\">\n",
              "      <th></th>\n",
              "      <th>condition</th>\n",
              "      <th>odometer</th>\n",
              "    </tr>\n",
              "  </thead>\n",
              "  <tbody>\n",
              "    <tr>\n",
              "      <th>0</th>\n",
              "      <td>excellent</td>\n",
              "      <td>109816.415651</td>\n",
              "    </tr>\n",
              "    <tr>\n",
              "      <th>1</th>\n",
              "      <td>fair</td>\n",
              "      <td>219937.181593</td>\n",
              "    </tr>\n",
              "    <tr>\n",
              "      <th>2</th>\n",
              "      <td>good</td>\n",
              "      <td>89763.987161</td>\n",
              "    </tr>\n",
              "    <tr>\n",
              "      <th>3</th>\n",
              "      <td>like new</td>\n",
              "      <td>87025.739294</td>\n",
              "    </tr>\n",
              "    <tr>\n",
              "      <th>4</th>\n",
              "      <td>new</td>\n",
              "      <td>36309.288262</td>\n",
              "    </tr>\n",
              "    <tr>\n",
              "      <th>5</th>\n",
              "      <td>salvage</td>\n",
              "      <td>244983.404930</td>\n",
              "    </tr>\n",
              "  </tbody>\n",
              "</table>\n",
              "</div>"
            ],
            "text/plain": [
              "   condition       odometer\n",
              "0  excellent  109816.415651\n",
              "1       fair  219937.181593\n",
              "2       good   89763.987161\n",
              "3   like new   87025.739294\n",
              "4        new   36309.288262\n",
              "5    salvage  244983.404930"
            ]
          },
          "metadata": {},
          "execution_count": 33
        }
      ]
    },
    {
      "cell_type": "code",
      "metadata": {
        "id": "mX1GET-4qKKJ",
        "colab": {
          "base_uri": "https://localhost:8080/"
        },
        "outputId": "ac240622-060f-4445-bec8-8f1da3ec8644"
      },
      "source": [
        "excellent_odo_mean = df[df['condition'] == 'excellent']['odometer'].mean()\n",
        "good_odo_mean = df[df['condition'] == 'good']['odometer'].mean()\n",
        "like_new_odo_mean = df[df['condition'] == 'like new']['odometer'].mean()\n",
        "salvage_odo_mean = df[df['condition'] == 'salvage']['odometer'].mean()\n",
        "fair_odo_mean = df[df['condition'] == 'fair']['odometer'].mean()\n",
        "print('Like new average odometer:', round( like_new_odo_mean,2))\n",
        "print('Excellent average odometer:', round( excellent_odo_mean,2))\n",
        "print('Good average odometer:', round( good_odo_mean,2))\n",
        "print('Fair average odometer:', round( fair_odo_mean,2))\n",
        "print('Salvage average odometer:', round( salvage_odo_mean,2))"
      ],
      "execution_count": 34,
      "outputs": [
        {
          "output_type": "stream",
          "name": "stdout",
          "text": [
            "Like new average odometer: 87025.74\n",
            "Excellent average odometer: 109816.42\n",
            "Good average odometer: 89763.99\n",
            "Fair average odometer: 219937.18\n",
            "Salvage average odometer: 244983.4\n"
          ]
        }
      ]
    },
    {
      "cell_type": "code",
      "metadata": {
        "id": "GWLezvlTqMiP"
      },
      "source": [
        "# Update the 'condition' based on the average 'odometer' values for each 'condition'\n",
        "\n",
        "df.loc[df['odometer'] <= like_new_odo_mean, 'condition'] = df.loc[df['odometer'] <= like_new_odo_mean, 'condition'].fillna('like new')\n",
        "\n",
        "df.loc[df['odometer'] >= fair_odo_mean, 'condition'] = df.loc[df['odometer'] >= fair_odo_mean, 'condition'].fillna('fair')\n",
        "\n",
        "df.loc[((df['odometer'] > good_odo_mean) & \n",
        "       (df['odometer'] <= excellent_odo_mean)), 'condition'] = df.loc[((df['odometer'] > good_odo_mean) & \n",
        "       (df['odometer'] <= excellent_odo_mean)), 'condition'].fillna('excellent')\n",
        "\n",
        "df.loc[((df['odometer'] > like_new_odo_mean) & \n",
        "       (df['odometer'] <= good_odo_mean)), 'condition'] = df.loc[((df['odometer'] > like_new_odo_mean) & \n",
        "       (df['odometer'] <= good_odo_mean)), 'condition'].fillna('good')\n",
        "\n",
        "df.loc[((df['odometer'] > good_odo_mean) & \n",
        "       (df['odometer'] <= fair_odo_mean)), 'condition'] = df.loc[((df['odometer'] > good_odo_mean) & \n",
        "       (df['odometer'] <= fair_odo_mean)), 'condition'].fillna('salvage')"
      ],
      "execution_count": 35,
      "outputs": []
    },
    {
      "cell_type": "code",
      "metadata": {
        "id": "A10tGcFQqQGt",
        "colab": {
          "base_uri": "https://localhost:8080/"
        },
        "outputId": "af5e6cc0-36ec-4ec6-f317-a34a8846cfcf"
      },
      "source": [
        "# 'model' can be related to 'size'.\n",
        "# checking the sizes for model = 'patriot'\n",
        "df.loc[df['model'] == 'patriot', 'size'].unique()\n",
        "\n",
        "#There are more than 1 size for the same model. Therefore, this column is not reliable and has to be removed. \n",
        "# The car details can be scrapped from a different source and then combined to populate the correct car features."
      ],
      "execution_count": 36,
      "outputs": [
        {
          "output_type": "execute_result",
          "data": {
            "text/plain": [
              "array([nan, 'mid-size', 'compact', 'full-size', 'sub-compact'],\n",
              "      dtype=object)"
            ]
          },
          "metadata": {},
          "execution_count": 36
        }
      ]
    },
    {
      "cell_type": "code",
      "metadata": {
        "id": "vt4TQA7TqSOW"
      },
      "source": [
        "# dropping the column - 'size' since its not reliable\n",
        "# dropping the column - 'id' since it doesn't have any meaning\n",
        "# dropping the column - 'image_url' since it doesn't have any meaning\n",
        "# dropping the column - 'vin' since it doesn't have any meaning\n",
        "# dropping the column - 'description' - few rows contain important details. dropping for now.\n",
        "\n",
        "df = df.drop(['size','id','image_url','VIN','description'], axis = 1)"
      ],
      "execution_count": 37,
      "outputs": []
    },
    {
      "cell_type": "markdown",
      "metadata": {
        "id": "G86idlbav_S7"
      },
      "source": [
        "Exploratory Data Analysis"
      ]
    },
    {
      "cell_type": "code",
      "metadata": {
        "id": "Lwt6epPIqUxG"
      },
      "source": [
        "import matplotlib.pyplot as plt"
      ],
      "execution_count": 38,
      "outputs": []
    },
    {
      "cell_type": "code",
      "metadata": {
        "id": "gTUFVj_LqXJK",
        "colab": {
          "base_uri": "https://localhost:8080/",
          "height": 319
        },
        "outputId": "d7e89481-3846-422b-bab5-a01513feac44"
      },
      "source": [
        "# Condition of cars listed on Craigslist\n",
        "sns.countplot(x='condition', data=df, palette=(\"Paired\"))\n",
        "plt.title('Number of vehicles listed on craigslist across different conditions', fontsize=22)"
      ],
      "execution_count": 39,
      "outputs": [
        {
          "output_type": "execute_result",
          "data": {
            "text/plain": [
              "Text(0.5, 1.0, 'Number of vehicles listed on craigslist across different conditions')"
            ]
          },
          "metadata": {},
          "execution_count": 39
        },
        {
          "output_type": "display_data",
          "data": {
            "image/png": "[encoded data removed]",
            "text/plain": [
              "<Figure size 432x288 with 1 Axes>"
            ]
          },
          "metadata": {
            "needs_background": "light"
          }
        }
      ]
    },
    {
      "cell_type": "code",
      "metadata": {
        "id": "XHyR953IqZLX",
        "colab": {
          "base_uri": "https://localhost:8080/",
          "height": 583
        },
        "outputId": "9cdd41d0-3623-4c7a-aea7-3150ca3bb5e0"
      },
      "source": [
        "# Counties which have the highest number of listings\n",
        "region_count  = df['region'].value_counts()\n",
        "region_count = region_count[:10,]\n",
        "plt.figure(figsize=(11,8))\n",
        "sns.barplot(region_count.values, region_count.index, alpha=1,palette=(\"Paired\"))\n",
        "plt.title('Top 10 Counties which has the highest cars listings on Craigslist', fontsize=22)\n",
        "plt.xlabel('Number of Cars', size=\"20\")\n",
        "plt.ylabel('County Names', size=\"20\")\n",
        "plt.show()"
      ],
      "execution_count": 40,
      "outputs": [
        {
          "output_type": "stream",
          "name": "stderr",
          "text": [
            "/usr/local/lib/python3.7/dist-packages/seaborn/_decorators.py:43: FutureWarning: Pass the following variables as keyword args: x, y. From version 0.12, the only valid positional argument will be `data`, and passing other arguments without an explicit keyword will result in an error or misinterpretation.\n",
            "  FutureWarning\n"
          ]
        },
        {
          "output_type": "display_data",
          "data": {
            "image/png": "[encoded data removed]",
            "text/plain": [
              "<Figure size 792x576 with 1 Axes>"
            ]
          },
          "metadata": {
            "needs_background": "light"
          }
        }
      ]
    },
    {
      "cell_type": "code",
      "metadata": {
        "id": "AWiRp7VGvyw7",
        "colab": {
          "base_uri": "https://localhost:8080/",
          "height": 583
        },
        "outputId": "afb61528-67b5-4173-aa80-66e0f49fb0a0"
      },
      "source": [
        "# Counties which have the lowest number of listings\n",
        "region_count  = df['region'].value_counts()\n",
        "region_count = region_count[-10:,]\n",
        "plt.figure(figsize=(11,8))\n",
        "sns.barplot(region_count.values, region_count.index, alpha=1,palette=(\"Paired\"))\n",
        "plt.title('Top 10 Counties which has the lowest cars listings on Craigslist', fontsize=22)\n",
        "plt.xlabel('Number of Cars', size=\"20\")\n",
        "plt.ylabel('County Names', size=\"20\")\n",
        "plt.show()"
      ],
      "execution_count": 41,
      "outputs": [
        {
          "output_type": "stream",
          "name": "stderr",
          "text": [
            "/usr/local/lib/python3.7/dist-packages/seaborn/_decorators.py:43: FutureWarning: Pass the following variables as keyword args: x, y. From version 0.12, the only valid positional argument will be `data`, and passing other arguments without an explicit keyword will result in an error or misinterpretation.\n",
            "  FutureWarning\n"
          ]
        },
        {
          "output_type": "display_data",
          "data": {
            "image/png": "[encoded data removed]",
            "text/plain": [
              "<Figure size 792x576 with 1 Axes>"
            ]
          },
          "metadata": {
            "needs_background": "light"
          }
        }
      ]
    },
    {
      "cell_type": "code",
      "metadata": {
        "id": "FP6bbsTMv1v4",
        "colab": {
          "base_uri": "https://localhost:8080/",
          "height": 511
        },
        "outputId": "219b86b3-00f8-401f-ec67-bf4be54ee71e"
      },
      "source": [
        "# States have the highest number of listings \n",
        "state_count  = df['state'].value_counts()\n",
        "state_count = state_count[-10:,]\n",
        "plt.figure(figsize=(11,8))\n",
        "state_count.plot(kind='pie', subplots=True, figsize=(8, 8))\n",
        "plt.title('Top 10 States which has the highest cars listings on Craigslist', fontsize=22)\n",
        "plt.xlabel('Number of Cars', size=\"20\")\n",
        "plt.ylabel('States Abbrevation', size=\"20\")\n",
        "plt.show()\n"
      ],
      "execution_count": 42,
      "outputs": [
        {
          "output_type": "display_data",
          "data": {
            "image/png": "[encoded data removed]",
            "text/plain": [
              "<Figure size 792x576 with 1 Axes>"
            ]
          },
          "metadata": {}
        }
      ]
    },
    {
      "cell_type": "code",
      "metadata": {
        "id": "jJw76K8Qv5Ti",
        "colab": {
          "base_uri": "https://localhost:8080/",
          "height": 363
        },
        "outputId": "96a38f3a-1da8-4077-99d3-ffc2fc827451"
      },
      "source": [
        "# Top Counties in terms of total price of all cars\n",
        "top_priced_counties = df.groupby('county').sum()['price'].reset_index().sort_values('price', ascending=False)[:10]\n",
        "top_priced_counties"
      ],
      "execution_count": 43,
      "outputs": [
        {
          "output_type": "execute_result",
          "data": {
            "text/html": [
              "<div>\n",
              "<style scoped>\n",
              "    .dataframe tbody tr th:only-of-type {\n",
              "        vertical-align: middle;\n",
              "    }\n",
              "\n",
              "    .dataframe tbody tr th {\n",
              "        vertical-align: top;\n",
              "    }\n",
              "\n",
              "    .dataframe thead th {\n",
              "        text-align: right;\n",
              "    }\n",
              "</style>\n",
              "<table border=\"1\" class=\"dataframe\">\n",
              "  <thead>\n",
              "    <tr style=\"text-align: right;\">\n",
              "      <th></th>\n",
              "      <th>county</th>\n",
              "      <th>price</th>\n",
              "    </tr>\n",
              "  </thead>\n",
              "  <tbody>\n",
              "    <tr>\n",
              "      <th>177</th>\n",
              "      <td>knoxville</td>\n",
              "      <td>3780574747</td>\n",
              "    </tr>\n",
              "    <tr>\n",
              "      <th>107</th>\n",
              "      <td>eugene</td>\n",
              "      <td>3773065547</td>\n",
              "    </tr>\n",
              "    <tr>\n",
              "      <th>344</th>\n",
              "      <td>southjersey</td>\n",
              "      <td>3062145134</td>\n",
              "    </tr>\n",
              "    <tr>\n",
              "      <th>86</th>\n",
              "      <td>delaware</td>\n",
              "      <td>3038550621</td>\n",
              "    </tr>\n",
              "    <tr>\n",
              "      <th>123</th>\n",
              "      <td>frederick</td>\n",
              "      <td>1414453614</td>\n",
              "    </tr>\n",
              "    <tr>\n",
              "      <th>156</th>\n",
              "      <td>indianapolis</td>\n",
              "      <td>1271503013</td>\n",
              "    </tr>\n",
              "    <tr>\n",
              "      <th>152</th>\n",
              "      <td>humboldt</td>\n",
              "      <td>1117282161</td>\n",
              "    </tr>\n",
              "    <tr>\n",
              "      <th>346</th>\n",
              "      <td>spokane</td>\n",
              "      <td>189120861</td>\n",
              "    </tr>\n",
              "    <tr>\n",
              "      <th>13</th>\n",
              "      <td>asheville</td>\n",
              "      <td>156210123</td>\n",
              "    </tr>\n",
              "    <tr>\n",
              "      <th>1</th>\n",
              "      <td>akroncanton</td>\n",
              "      <td>150549245</td>\n",
              "    </tr>\n",
              "  </tbody>\n",
              "</table>\n",
              "</div>"
            ],
            "text/plain": [
              "           county       price\n",
              "177     knoxville  3780574747\n",
              "107        eugene  3773065547\n",
              "344   southjersey  3062145134\n",
              "86       delaware  3038550621\n",
              "123     frederick  1414453614\n",
              "156  indianapolis  1271503013\n",
              "152      humboldt  1117282161\n",
              "346       spokane   189120861\n",
              "13      asheville   156210123\n",
              "1     akroncanton   150549245"
            ]
          },
          "metadata": {},
          "execution_count": 43
        }
      ]
    },
    {
      "cell_type": "code",
      "metadata": {
        "id": "w5JpsXTNwJCg",
        "colab": {
          "base_uri": "https://localhost:8080/",
          "height": 583
        },
        "outputId": "e566d5da-4c85-4a72-81ff-786f754c8ff6"
      },
      "source": [
        "plt.figure(figsize=(11,8))\n",
        "sns.barplot(top_priced_counties.price, top_priced_counties.county, alpha=1,palette=(\"Paired\"))\n",
        "plt.title('Top 10 Counties w.r.t total car price on Craigslist', fontsize=22)\n",
        "plt.xlabel('Total value of Cars in thousand million (1e9)', size=\"20\")\n",
        "plt.ylabel('County Names', size=\"20\")\n",
        "plt.show()"
      ],
      "execution_count": 44,
      "outputs": [
        {
          "output_type": "stream",
          "name": "stderr",
          "text": [
            "/usr/local/lib/python3.7/dist-packages/seaborn/_decorators.py:43: FutureWarning: Pass the following variables as keyword args: x, y. From version 0.12, the only valid positional argument will be `data`, and passing other arguments without an explicit keyword will result in an error or misinterpretation.\n",
            "  FutureWarning\n"
          ]
        },
        {
          "output_type": "display_data",
          "data": {
            "image/png": "[encoded data removed]",
            "text/plain": [
              "<Figure size 792x576 with 1 Axes>"
            ]
          },
          "metadata": {
            "needs_background": "light"
          }
        }
      ]
    },
    {
      "cell_type": "code",
      "metadata": {
        "id": "jhrYzEUCwWiN",
        "colab": {
          "base_uri": "https://localhost:8080/",
          "height": 402
        },
        "outputId": "78912651-f5f9-46c9-ab3a-877a00eec4b7"
      },
      "source": [
        "# Manufacturer's cars which are the most listed ones\n",
        "manufacturer_count = df['manufacturer'].value_counts().iloc[:10]\n",
        "plt.figure(figsize=(10,6))\n",
        "manufacturer_count.plot(kind='pie', subplots=True, figsize=(8, 8))\n",
        "plt.title('Top 10 car manufacturer listings on Craigslist', fontsize=22)\n",
        "plt.xlabel('No.of Listings', size=\"20\")\n",
        "plt.ylabel('Manufacturer', size=\"20\")\n",
        "plt.show()"
      ],
      "execution_count": 45,
      "outputs": [
        {
          "output_type": "display_data",
          "data": {
            "image/png": "[encoded data removed]",
            "text/plain": [
              "<Figure size 720x432 with 1 Axes>"
            ]
          },
          "metadata": {}
        }
      ]
    },
    {
      "cell_type": "code",
      "metadata": {
        "id": "J4ABtQRMwZz8",
        "colab": {
          "base_uri": "https://localhost:8080/"
        },
        "outputId": "8885a8e3-22d0-4c99-b4fd-2c9fa69b443e"
      },
      "source": [
        "df.info()"
      ],
      "execution_count": 46,
      "outputs": [
        {
          "output_type": "stream",
          "name": "stdout",
          "text": [
            "<class 'pandas.core.frame.DataFrame'>\n",
            "Int64Index: 358654 entries, 27 to 426879\n",
            "Data columns (total 17 columns):\n",
            " #   Column        Non-Null Count   Dtype  \n",
            "---  ------        --------------   -----  \n",
            " 0   region        358654 non-null  object \n",
            " 1   price         358654 non-null  int64  \n",
            " 2   year          358654 non-null  float64\n",
            " 3   manufacturer  358654 non-null  object \n",
            " 4   model         358654 non-null  object \n",
            " 5   condition     358164 non-null  object \n",
            " 6   cylinders     358654 non-null  object \n",
            " 7   fuel          358654 non-null  object \n",
            " 8   odometer      356751 non-null  float64\n",
            " 9   title_status  358654 non-null  object \n",
            " 10  transmission  358654 non-null  object \n",
            " 11  drive         358651 non-null  object \n",
            " 12  type          358654 non-null  object \n",
            " 13  paint_color   358654 non-null  object \n",
            " 14  county        358654 non-null  object \n",
            " 15  state         358654 non-null  object \n",
            " 16  posting_date  358654 non-null  object \n",
            "dtypes: float64(2), int64(1), object(14)\n",
            "memory usage: 59.3+ MB\n"
          ]
        }
      ]
    },
    {
      "cell_type": "code",
      "metadata": {
        "id": "XI3gpZnEwdbw",
        "colab": {
          "base_uri": "https://localhost:8080/"
        },
        "outputId": "4299a6ea-c4bb-4f85-d73d-37188ec7140d"
      },
      "source": [
        "df['cylinders'].unique()"
      ],
      "execution_count": 47,
      "outputs": [
        {
          "output_type": "execute_result",
          "data": {
            "text/plain": [
              "array(['8 cylinders', '6 cylinders', '4 cylinders', '5 cylinders',\n",
              "       '3 cylinders', '10 cylinders', '12 cylinders', 'other'],\n",
              "      dtype=object)"
            ]
          },
          "metadata": {},
          "execution_count": 47
        }
      ]
    },
    {
      "cell_type": "code",
      "metadata": {
        "id": "bQbZLLGPwgjn",
        "colab": {
          "base_uri": "https://localhost:8080/"
        },
        "outputId": "d0ac4ee1-0bd2-4204-a345-af1924e76e12"
      },
      "source": [
        "df['transmission'].unique()"
      ],
      "execution_count": 48,
      "outputs": [
        {
          "output_type": "execute_result",
          "data": {
            "text/plain": [
              "array(['other', 'automatic', 'manual'], dtype=object)"
            ]
          },
          "metadata": {},
          "execution_count": 48
        }
      ]
    },
    {
      "cell_type": "code",
      "metadata": {
        "id": "1Rn1w1S8wiwZ",
        "colab": {
          "base_uri": "https://localhost:8080/"
        },
        "outputId": "93014079-0482-4852-e734-ccae6f11e9e3"
      },
      "source": [
        "df['title_status'].unique()"
      ],
      "execution_count": 49,
      "outputs": [
        {
          "output_type": "execute_result",
          "data": {
            "text/plain": [
              "array(['clean', 'rebuilt', 'lien', 'salvage', 'missing', 'parts only'],\n",
              "      dtype=object)"
            ]
          },
          "metadata": {},
          "execution_count": 49
        }
      ]
    },
    {
      "cell_type": "markdown",
      "metadata": {
        "id": "NlUW5_IFwsAP"
      },
      "source": [
        "Feature Preprocessing"
      ]
    },
    {
      "cell_type": "code",
      "metadata": {
        "id": "PDkyjPhBwlNe",
        "colab": {
          "base_uri": "https://localhost:8080/"
        },
        "outputId": "3ab73b67-322a-4222-dfd4-2900c8ca687f"
      },
      "source": [
        "# Removing region since we already have 'county'\n",
        "df=df.drop('region', axis=1)\n",
        "# Removing rows which has NULLs in conditon and odometer.\n",
        "df=df.dropna(subset=['odometer','condition'])\n",
        "# Identify the no.of missing values in each column and their percentage compared to total.\n",
        "missing_vals = df.isnull().sum().sort_values(ascending = False)\n",
        "(missing_vals/len(df))*100"
      ],
      "execution_count": 50,
      "outputs": [
        {
          "output_type": "execute_result",
          "data": {
            "text/plain": [
              "drive           0.000841\n",
              "posting_date    0.000000\n",
              "state           0.000000\n",
              "county          0.000000\n",
              "paint_color     0.000000\n",
              "type            0.000000\n",
              "transmission    0.000000\n",
              "title_status    0.000000\n",
              "odometer        0.000000\n",
              "fuel            0.000000\n",
              "cylinders       0.000000\n",
              "condition       0.000000\n",
              "model           0.000000\n",
              "manufacturer    0.000000\n",
              "year            0.000000\n",
              "price           0.000000\n",
              "dtype: float64"
            ]
          },
          "metadata": {},
          "execution_count": 50
        }
      ]
    },
    {
      "cell_type": "code",
      "metadata": {
        "id": "toy3tJpBwsuk",
        "colab": {
          "base_uri": "https://localhost:8080/",
          "height": 791
        },
        "outputId": "533147c1-bb77-461e-e284-752d3b1c8b5a"
      },
      "source": [
        "from sklearn import preprocessing\n",
        "le = preprocessing.LabelEncoder()\n",
        "# convert characters to numbers using label Encoding\n",
        "df[['county','manufacturer', 'model', 'condition','cylinders', 'fuel', 'title_status', 'transmission','drive', 'type', 'paint_color', 'state']] = df[['county','manufacturer', 'model', 'condition','cylinders', 'fuel', 'title_status', 'transmission','drive','type', 'paint_color', 'state']].apply(le.fit_transform)\n",
        "df"
      ],
      "execution_count": 51,
      "outputs": [
        {
          "output_type": "execute_result",
          "data": {
            "text/html": [
              "<div>\n",
              "<style scoped>\n",
              "    .dataframe tbody tr th:only-of-type {\n",
              "        vertical-align: middle;\n",
              "    }\n",
              "\n",
              "    .dataframe tbody tr th {\n",
              "        vertical-align: top;\n",
              "    }\n",
              "\n",
              "    .dataframe thead th {\n",
              "        text-align: right;\n",
              "    }\n",
              "</style>\n",
              "<table border=\"1\" class=\"dataframe\">\n",
              "  <thead>\n",
              "    <tr style=\"text-align: right;\">\n",
              "      <th></th>\n",
              "      <th>price</th>\n",
              "      <th>year</th>\n",
              "      <th>manufacturer</th>\n",
              "      <th>model</th>\n",
              "      <th>condition</th>\n",
              "      <th>cylinders</th>\n",
              "      <th>fuel</th>\n",
              "      <th>odometer</th>\n",
              "      <th>title_status</th>\n",
              "      <th>transmission</th>\n",
              "      <th>drive</th>\n",
              "      <th>type</th>\n",
              "      <th>paint_color</th>\n",
              "      <th>county</th>\n",
              "      <th>state</th>\n",
              "      <th>posting_date</th>\n",
              "    </tr>\n",
              "  </thead>\n",
              "  <tbody>\n",
              "    <tr>\n",
              "      <th>27</th>\n",
              "      <td>33590</td>\n",
              "      <td>2014.0</td>\n",
              "      <td>14</td>\n",
              "      <td>21084</td>\n",
              "      <td>2</td>\n",
              "      <td>6</td>\n",
              "      <td>2</td>\n",
              "      <td>57923.0</td>\n",
              "      <td>0</td>\n",
              "      <td>2</td>\n",
              "      <td>3</td>\n",
              "      <td>8</td>\n",
              "      <td>10</td>\n",
              "      <td>18</td>\n",
              "      <td>1</td>\n",
              "      <td>2021-05-04T12:31:18-0500</td>\n",
              "    </tr>\n",
              "    <tr>\n",
              "      <th>28</th>\n",
              "      <td>22590</td>\n",
              "      <td>2010.0</td>\n",
              "      <td>7</td>\n",
              "      <td>21414</td>\n",
              "      <td>2</td>\n",
              "      <td>6</td>\n",
              "      <td>2</td>\n",
              "      <td>71229.0</td>\n",
              "      <td>0</td>\n",
              "      <td>2</td>\n",
              "      <td>3</td>\n",
              "      <td>8</td>\n",
              "      <td>1</td>\n",
              "      <td>18</td>\n",
              "      <td>1</td>\n",
              "      <td>2021-05-04T12:31:08-0500</td>\n",
              "    </tr>\n",
              "    <tr>\n",
              "      <th>30</th>\n",
              "      <td>30990</td>\n",
              "      <td>2017.0</td>\n",
              "      <td>39</td>\n",
              "      <td>23993</td>\n",
              "      <td>2</td>\n",
              "      <td>6</td>\n",
              "      <td>2</td>\n",
              "      <td>41124.0</td>\n",
              "      <td>0</td>\n",
              "      <td>2</td>\n",
              "      <td>3</td>\n",
              "      <td>8</td>\n",
              "      <td>8</td>\n",
              "      <td>18</td>\n",
              "      <td>1</td>\n",
              "      <td>2021-05-04T10:41:31-0500</td>\n",
              "    </tr>\n",
              "    <tr>\n",
              "      <th>31</th>\n",
              "      <td>15000</td>\n",
              "      <td>2013.0</td>\n",
              "      <td>13</td>\n",
              "      <td>12704</td>\n",
              "      <td>0</td>\n",
              "      <td>5</td>\n",
              "      <td>2</td>\n",
              "      <td>128000.0</td>\n",
              "      <td>0</td>\n",
              "      <td>0</td>\n",
              "      <td>2</td>\n",
              "      <td>10</td>\n",
              "      <td>0</td>\n",
              "      <td>18</td>\n",
              "      <td>1</td>\n",
              "      <td>2021-05-03T14:02:03-0500</td>\n",
              "    </tr>\n",
              "    <tr>\n",
              "      <th>32</th>\n",
              "      <td>27990</td>\n",
              "      <td>2012.0</td>\n",
              "      <td>14</td>\n",
              "      <td>21187</td>\n",
              "      <td>2</td>\n",
              "      <td>6</td>\n",
              "      <td>2</td>\n",
              "      <td>68696.0</td>\n",
              "      <td>0</td>\n",
              "      <td>2</td>\n",
              "      <td>0</td>\n",
              "      <td>8</td>\n",
              "      <td>0</td>\n",
              "      <td>18</td>\n",
              "      <td>1</td>\n",
              "      <td>2021-05-03T13:41:25-0500</td>\n",
              "    </tr>\n",
              "    <tr>\n",
              "      <th>...</th>\n",
              "      <td>...</td>\n",
              "      <td>...</td>\n",
              "      <td>...</td>\n",
              "      <td>...</td>\n",
              "      <td>...</td>\n",
              "      <td>...</td>\n",
              "      <td>...</td>\n",
              "      <td>...</td>\n",
              "      <td>...</td>\n",
              "      <td>...</td>\n",
              "      <td>...</td>\n",
              "      <td>...</td>\n",
              "      <td>...</td>\n",
              "      <td>...</td>\n",
              "      <td>...</td>\n",
              "      <td>...</td>\n",
              "    </tr>\n",
              "    <tr>\n",
              "      <th>426873</th>\n",
              "      <td>30990</td>\n",
              "      <td>2018.0</td>\n",
              "      <td>26</td>\n",
              "      <td>14932</td>\n",
              "      <td>2</td>\n",
              "      <td>6</td>\n",
              "      <td>2</td>\n",
              "      <td>15080.0</td>\n",
              "      <td>0</td>\n",
              "      <td>0</td>\n",
              "      <td>2</td>\n",
              "      <td>7</td>\n",
              "      <td>10</td>\n",
              "      <td>406</td>\n",
              "      <td>50</td>\n",
              "      <td>2021-04-04T03:21:35-0600</td>\n",
              "    </tr>\n",
              "    <tr>\n",
              "      <th>426874</th>\n",
              "      <td>33590</td>\n",
              "      <td>2018.0</td>\n",
              "      <td>23</td>\n",
              "      <td>15289</td>\n",
              "      <td>2</td>\n",
              "      <td>5</td>\n",
              "      <td>2</td>\n",
              "      <td>30814.0</td>\n",
              "      <td>0</td>\n",
              "      <td>0</td>\n",
              "      <td>2</td>\n",
              "      <td>9</td>\n",
              "      <td>10</td>\n",
              "      <td>406</td>\n",
              "      <td>50</td>\n",
              "      <td>2021-04-04T03:21:34-0600</td>\n",
              "    </tr>\n",
              "    <tr>\n",
              "      <th>426875</th>\n",
              "      <td>23590</td>\n",
              "      <td>2019.0</td>\n",
              "      <td>30</td>\n",
              "      <td>17267</td>\n",
              "      <td>2</td>\n",
              "      <td>5</td>\n",
              "      <td>2</td>\n",
              "      <td>32226.0</td>\n",
              "      <td>0</td>\n",
              "      <td>2</td>\n",
              "      <td>1</td>\n",
              "      <td>9</td>\n",
              "      <td>10</td>\n",
              "      <td>406</td>\n",
              "      <td>50</td>\n",
              "      <td>2021-04-04T03:21:31-0600</td>\n",
              "    </tr>\n",
              "    <tr>\n",
              "      <th>426878</th>\n",
              "      <td>28990</td>\n",
              "      <td>2018.0</td>\n",
              "      <td>23</td>\n",
              "      <td>11885</td>\n",
              "      <td>2</td>\n",
              "      <td>5</td>\n",
              "      <td>2</td>\n",
              "      <td>30112.0</td>\n",
              "      <td>0</td>\n",
              "      <td>2</td>\n",
              "      <td>1</td>\n",
              "      <td>9</td>\n",
              "      <td>9</td>\n",
              "      <td>406</td>\n",
              "      <td>50</td>\n",
              "      <td>2021-04-04T03:21:11-0600</td>\n",
              "    </tr>\n",
              "    <tr>\n",
              "      <th>426879</th>\n",
              "      <td>30590</td>\n",
              "      <td>2019.0</td>\n",
              "      <td>4</td>\n",
              "      <td>2784</td>\n",
              "      <td>2</td>\n",
              "      <td>5</td>\n",
              "      <td>2</td>\n",
              "      <td>22716.0</td>\n",
              "      <td>0</td>\n",
              "      <td>2</td>\n",
              "      <td>2</td>\n",
              "      <td>3</td>\n",
              "      <td>9</td>\n",
              "      <td>406</td>\n",
              "      <td>50</td>\n",
              "      <td>2021-04-04T03:21:07-0600</td>\n",
              "    </tr>\n",
              "  </tbody>\n",
              "</table>\n",
              "<p>356751 rows × 16 columns</p>\n",
              "</div>"
            ],
            "text/plain": [
              "        price    year  manufacturer  model  condition  cylinders  fuel  \\\n",
              "27      33590  2014.0            14  21084          2          6     2   \n",
              "28      22590  2010.0             7  21414          2          6     2   \n",
              "30      30990  2017.0            39  23993          2          6     2   \n",
              "31      15000  2013.0            13  12704          0          5     2   \n",
              "32      27990  2012.0            14  21187          2          6     2   \n",
              "...       ...     ...           ...    ...        ...        ...   ...   \n",
              "426873  30990  2018.0            26  14932          2          6     2   \n",
              "426874  33590  2018.0            23  15289          2          5     2   \n",
              "426875  23590  2019.0            30  17267          2          5     2   \n",
              "426878  28990  2018.0            23  11885          2          5     2   \n",
              "426879  30590  2019.0             4   2784          2          5     2   \n",
              "\n",
              "        odometer  title_status  transmission  drive  type  paint_color  \\\n",
              "27       57923.0             0             2      3     8           10   \n",
              "28       71229.0             0             2      3     8            1   \n",
              "30       41124.0             0             2      3     8            8   \n",
              "31      128000.0             0             0      2    10            0   \n",
              "32       68696.0             0             2      0     8            0   \n",
              "...          ...           ...           ...    ...   ...          ...   \n",
              "426873   15080.0             0             0      2     7           10   \n",
              "426874   30814.0             0             0      2     9           10   \n",
              "426875   32226.0             0             2      1     9           10   \n",
              "426878   30112.0             0             2      1     9            9   \n",
              "426879   22716.0             0             2      2     3            9   \n",
              "\n",
              "        county  state              posting_date  \n",
              "27          18      1  2021-05-04T12:31:18-0500  \n",
              "28          18      1  2021-05-04T12:31:08-0500  \n",
              "30          18      1  2021-05-04T10:41:31-0500  \n",
              "31          18      1  2021-05-03T14:02:03-0500  \n",
              "32          18      1  2021-05-03T13:41:25-0500  \n",
              "...        ...    ...                       ...  \n",
              "426873     406     50  2021-04-04T03:21:35-0600  \n",
              "426874     406     50  2021-04-04T03:21:34-0600  \n",
              "426875     406     50  2021-04-04T03:21:31-0600  \n",
              "426878     406     50  2021-04-04T03:21:11-0600  \n",
              "426879     406     50  2021-04-04T03:21:07-0600  \n",
              "\n",
              "[356751 rows x 16 columns]"
            ]
          },
          "metadata": {},
          "execution_count": 51
        }
      ]
    },
    {
      "cell_type": "markdown",
      "metadata": {
        "id": "JfKf6JMJw86S"
      },
      "source": [
        "Handling continous values - Scaling down"
      ]
    },
    {
      "cell_type": "code",
      "metadata": {
        "id": "rSqhbEhTw3EZ"
      },
      "source": [
        "df[\"odometer\"] = np.sqrt(preprocessing.minmax_scale(df[\"odometer\"]))\n"
      ],
      "execution_count": 52,
      "outputs": []
    },
    {
      "cell_type": "code",
      "metadata": {
        "id": "iwpw79HxxEsB",
        "colab": {
          "base_uri": "https://localhost:8080/",
          "height": 791
        },
        "outputId": "153e9518-357f-4f5f-aae6-1d6dbe6cf486"
      },
      "source": [
        "df"
      ],
      "execution_count": 53,
      "outputs": [
        {
          "output_type": "execute_result",
          "data": {
            "text/html": [
              "<div>\n",
              "<style scoped>\n",
              "    .dataframe tbody tr th:only-of-type {\n",
              "        vertical-align: middle;\n",
              "    }\n",
              "\n",
              "    .dataframe tbody tr th {\n",
              "        vertical-align: top;\n",
              "    }\n",
              "\n",
              "    .dataframe thead th {\n",
              "        text-align: right;\n",
              "    }\n",
              "</style>\n",
              "<table border=\"1\" class=\"dataframe\">\n",
              "  <thead>\n",
              "    <tr style=\"text-align: right;\">\n",
              "      <th></th>\n",
              "      <th>price</th>\n",
              "      <th>year</th>\n",
              "      <th>manufacturer</th>\n",
              "      <th>model</th>\n",
              "      <th>condition</th>\n",
              "      <th>cylinders</th>\n",
              "      <th>fuel</th>\n",
              "      <th>odometer</th>\n",
              "      <th>title_status</th>\n",
              "      <th>transmission</th>\n",
              "      <th>drive</th>\n",
              "      <th>type</th>\n",
              "      <th>paint_color</th>\n",
              "      <th>county</th>\n",
              "      <th>state</th>\n",
              "      <th>posting_date</th>\n",
              "    </tr>\n",
              "  </thead>\n",
              "  <tbody>\n",
              "    <tr>\n",
              "      <th>27</th>\n",
              "      <td>33590</td>\n",
              "      <td>2014.0</td>\n",
              "      <td>14</td>\n",
              "      <td>21084</td>\n",
              "      <td>2</td>\n",
              "      <td>6</td>\n",
              "      <td>2</td>\n",
              "      <td>0.076107</td>\n",
              "      <td>0</td>\n",
              "      <td>2</td>\n",
              "      <td>3</td>\n",
              "      <td>8</td>\n",
              "      <td>10</td>\n",
              "      <td>18</td>\n",
              "      <td>1</td>\n",
              "      <td>2021-05-04T12:31:18-0500</td>\n",
              "    </tr>\n",
              "    <tr>\n",
              "      <th>28</th>\n",
              "      <td>22590</td>\n",
              "      <td>2010.0</td>\n",
              "      <td>7</td>\n",
              "      <td>21414</td>\n",
              "      <td>2</td>\n",
              "      <td>6</td>\n",
              "      <td>2</td>\n",
              "      <td>0.084397</td>\n",
              "      <td>0</td>\n",
              "      <td>2</td>\n",
              "      <td>3</td>\n",
              "      <td>8</td>\n",
              "      <td>1</td>\n",
              "      <td>18</td>\n",
              "      <td>1</td>\n",
              "      <td>2021-05-04T12:31:08-0500</td>\n",
              "    </tr>\n",
              "    <tr>\n",
              "      <th>30</th>\n",
              "      <td>30990</td>\n",
              "      <td>2017.0</td>\n",
              "      <td>39</td>\n",
              "      <td>23993</td>\n",
              "      <td>2</td>\n",
              "      <td>6</td>\n",
              "      <td>2</td>\n",
              "      <td>0.064128</td>\n",
              "      <td>0</td>\n",
              "      <td>2</td>\n",
              "      <td>3</td>\n",
              "      <td>8</td>\n",
              "      <td>8</td>\n",
              "      <td>18</td>\n",
              "      <td>1</td>\n",
              "      <td>2021-05-04T10:41:31-0500</td>\n",
              "    </tr>\n",
              "    <tr>\n",
              "      <th>31</th>\n",
              "      <td>15000</td>\n",
              "      <td>2013.0</td>\n",
              "      <td>13</td>\n",
              "      <td>12704</td>\n",
              "      <td>0</td>\n",
              "      <td>5</td>\n",
              "      <td>2</td>\n",
              "      <td>0.113137</td>\n",
              "      <td>0</td>\n",
              "      <td>0</td>\n",
              "      <td>2</td>\n",
              "      <td>10</td>\n",
              "      <td>0</td>\n",
              "      <td>18</td>\n",
              "      <td>1</td>\n",
              "      <td>2021-05-03T14:02:03-0500</td>\n",
              "    </tr>\n",
              "    <tr>\n",
              "      <th>32</th>\n",
              "      <td>27990</td>\n",
              "      <td>2012.0</td>\n",
              "      <td>14</td>\n",
              "      <td>21187</td>\n",
              "      <td>2</td>\n",
              "      <td>6</td>\n",
              "      <td>2</td>\n",
              "      <td>0.082883</td>\n",
              "      <td>0</td>\n",
              "      <td>2</td>\n",
              "      <td>0</td>\n",
              "      <td>8</td>\n",
              "      <td>0</td>\n",
              "      <td>18</td>\n",
              "      <td>1</td>\n",
              "      <td>2021-05-03T13:41:25-0500</td>\n",
              "    </tr>\n",
              "    <tr>\n",
              "      <th>...</th>\n",
              "      <td>...</td>\n",
              "      <td>...</td>\n",
              "      <td>...</td>\n",
              "      <td>...</td>\n",
              "      <td>...</td>\n",
              "      <td>...</td>\n",
              "      <td>...</td>\n",
              "      <td>...</td>\n",
              "      <td>...</td>\n",
              "      <td>...</td>\n",
              "      <td>...</td>\n",
              "      <td>...</td>\n",
              "      <td>...</td>\n",
              "      <td>...</td>\n",
              "      <td>...</td>\n",
              "      <td>...</td>\n",
              "    </tr>\n",
              "    <tr>\n",
              "      <th>426873</th>\n",
              "      <td>30990</td>\n",
              "      <td>2018.0</td>\n",
              "      <td>26</td>\n",
              "      <td>14932</td>\n",
              "      <td>2</td>\n",
              "      <td>6</td>\n",
              "      <td>2</td>\n",
              "      <td>0.038833</td>\n",
              "      <td>0</td>\n",
              "      <td>0</td>\n",
              "      <td>2</td>\n",
              "      <td>7</td>\n",
              "      <td>10</td>\n",
              "      <td>406</td>\n",
              "      <td>50</td>\n",
              "      <td>2021-04-04T03:21:35-0600</td>\n",
              "    </tr>\n",
              "    <tr>\n",
              "      <th>426874</th>\n",
              "      <td>33590</td>\n",
              "      <td>2018.0</td>\n",
              "      <td>23</td>\n",
              "      <td>15289</td>\n",
              "      <td>2</td>\n",
              "      <td>5</td>\n",
              "      <td>2</td>\n",
              "      <td>0.055510</td>\n",
              "      <td>0</td>\n",
              "      <td>0</td>\n",
              "      <td>2</td>\n",
              "      <td>9</td>\n",
              "      <td>10</td>\n",
              "      <td>406</td>\n",
              "      <td>50</td>\n",
              "      <td>2021-04-04T03:21:34-0600</td>\n",
              "    </tr>\n",
              "    <tr>\n",
              "      <th>426875</th>\n",
              "      <td>23590</td>\n",
              "      <td>2019.0</td>\n",
              "      <td>30</td>\n",
              "      <td>17267</td>\n",
              "      <td>2</td>\n",
              "      <td>5</td>\n",
              "      <td>2</td>\n",
              "      <td>0.056768</td>\n",
              "      <td>0</td>\n",
              "      <td>2</td>\n",
              "      <td>1</td>\n",
              "      <td>9</td>\n",
              "      <td>10</td>\n",
              "      <td>406</td>\n",
              "      <td>50</td>\n",
              "      <td>2021-04-04T03:21:31-0600</td>\n",
              "    </tr>\n",
              "    <tr>\n",
              "      <th>426878</th>\n",
              "      <td>28990</td>\n",
              "      <td>2018.0</td>\n",
              "      <td>23</td>\n",
              "      <td>11885</td>\n",
              "      <td>2</td>\n",
              "      <td>5</td>\n",
              "      <td>2</td>\n",
              "      <td>0.054874</td>\n",
              "      <td>0</td>\n",
              "      <td>2</td>\n",
              "      <td>1</td>\n",
              "      <td>9</td>\n",
              "      <td>9</td>\n",
              "      <td>406</td>\n",
              "      <td>50</td>\n",
              "      <td>2021-04-04T03:21:11-0600</td>\n",
              "    </tr>\n",
              "    <tr>\n",
              "      <th>426879</th>\n",
              "      <td>30590</td>\n",
              "      <td>2019.0</td>\n",
              "      <td>4</td>\n",
              "      <td>2784</td>\n",
              "      <td>2</td>\n",
              "      <td>5</td>\n",
              "      <td>2</td>\n",
              "      <td>0.047661</td>\n",
              "      <td>0</td>\n",
              "      <td>2</td>\n",
              "      <td>2</td>\n",
              "      <td>3</td>\n",
              "      <td>9</td>\n",
              "      <td>406</td>\n",
              "      <td>50</td>\n",
              "      <td>2021-04-04T03:21:07-0600</td>\n",
              "    </tr>\n",
              "  </tbody>\n",
              "</table>\n",
              "<p>356751 rows × 16 columns</p>\n",
              "</div>"
            ],
            "text/plain": [
              "        price    year  manufacturer  model  condition  cylinders  fuel  \\\n",
              "27      33590  2014.0            14  21084          2          6     2   \n",
              "28      22590  2010.0             7  21414          2          6     2   \n",
              "30      30990  2017.0            39  23993          2          6     2   \n",
              "31      15000  2013.0            13  12704          0          5     2   \n",
              "32      27990  2012.0            14  21187          2          6     2   \n",
              "...       ...     ...           ...    ...        ...        ...   ...   \n",
              "426873  30990  2018.0            26  14932          2          6     2   \n",
              "426874  33590  2018.0            23  15289          2          5     2   \n",
              "426875  23590  2019.0            30  17267          2          5     2   \n",
              "426878  28990  2018.0            23  11885          2          5     2   \n",
              "426879  30590  2019.0             4   2784          2          5     2   \n",
              "\n",
              "        odometer  title_status  transmission  drive  type  paint_color  \\\n",
              "27      0.076107             0             2      3     8           10   \n",
              "28      0.084397             0             2      3     8            1   \n",
              "30      0.064128             0             2      3     8            8   \n",
              "31      0.113137             0             0      2    10            0   \n",
              "32      0.082883             0             2      0     8            0   \n",
              "...          ...           ...           ...    ...   ...          ...   \n",
              "426873  0.038833             0             0      2     7           10   \n",
              "426874  0.055510             0             0      2     9           10   \n",
              "426875  0.056768             0             2      1     9           10   \n",
              "426878  0.054874             0             2      1     9            9   \n",
              "426879  0.047661             0             2      2     3            9   \n",
              "\n",
              "        county  state              posting_date  \n",
              "27          18      1  2021-05-04T12:31:18-0500  \n",
              "28          18      1  2021-05-04T12:31:08-0500  \n",
              "30          18      1  2021-05-04T10:41:31-0500  \n",
              "31          18      1  2021-05-03T14:02:03-0500  \n",
              "32          18      1  2021-05-03T13:41:25-0500  \n",
              "...        ...    ...                       ...  \n",
              "426873     406     50  2021-04-04T03:21:35-0600  \n",
              "426874     406     50  2021-04-04T03:21:34-0600  \n",
              "426875     406     50  2021-04-04T03:21:31-0600  \n",
              "426878     406     50  2021-04-04T03:21:11-0600  \n",
              "426879     406     50  2021-04-04T03:21:07-0600  \n",
              "\n",
              "[356751 rows x 16 columns]"
            ]
          },
          "metadata": {},
          "execution_count": 53
        }
      ]
    },
    {
      "cell_type": "markdown",
      "metadata": {
        "id": "VoqLbiW1xLqN"
      },
      "source": [
        "Train Test Split\n"
      ]
    },
    {
      "cell_type": "code",
      "metadata": {
        "id": "1XBHrvTWxMZF",
        "colab": {
          "base_uri": "https://localhost:8080/"
        },
        "outputId": "c62dcec2-4e33-4d7a-b172-b967751b8c3e"
      },
      "source": [
        "# Seperate Features and Outcome\n",
        "X = df.drop('price',axis=1).values\n",
        "y = df.price.values\n",
        "from sklearn.model_selection import StratifiedKFold\n",
        "\n",
        "skf = StratifiedKFold(n_splits=2)\n",
        "skf.get_n_splits(X, y)\n",
        "\n",
        "for train_index, test_index in skf.split(X, y):\n",
        "    print(\"TRAIN:\", train_index, \"TEST:\", test_index)\n",
        "    X_train, X_test = X[train_index], X[test_index]\n",
        "    y_train, y_test = y[train_index], y[test_index]\n",
        "\n",
        "# works for classification\n",
        "# X_train, X_test, y_train, y_test = train_test_split(X, y, test_size=0.2, random_state=42, stratify=y)"
      ],
      "execution_count": 54,
      "outputs": [
        {
          "output_type": "stream",
          "name": "stderr",
          "text": [
            "/usr/local/lib/python3.7/dist-packages/sklearn/model_selection/_split.py:680: UserWarning: The least populated class in y has only 1 members, which is less than n_splits=2.\n",
            "  UserWarning,\n"
          ]
        },
        {
          "output_type": "stream",
          "name": "stdout",
          "text": [
            "TRAIN: [   252    792    896 ... 356748 356749 356750] TEST: [     0      1      2 ... 356355 356363 356399]\n",
            "TRAIN: [     0      1      2 ... 356355 356363 356399] TEST: [   252    792    896 ... 356748 356749 356750]\n"
          ]
        }
      ]
    },
    {
      "cell_type": "code",
      "metadata": {
        "id": "fBMCbiTmxTs8",
        "colab": {
          "base_uri": "https://localhost:8080/"
        },
        "outputId": "05346df5-fe47-43b5-9036-b02128ed0a60"
      },
      "source": [
        "print (X_train.shape, y_train.shape, X_test.shape, y_test.shape)"
      ],
      "execution_count": 55,
      "outputs": [
        {
          "output_type": "stream",
          "name": "stdout",
          "text": [
            "(178376, 15) (178376,) (178375, 15) (178375,)\n"
          ]
        }
      ]
    },
    {
      "cell_type": "code",
      "metadata": {
        "id": "7hVcxhXsBn_2",
        "colab": {
          "base_uri": "https://localhost:8080/"
        },
        "outputId": "0151dc18-38fc-42af-e6c3-18c4407893e1"
      },
      "source": [
        "X_train[:,:14]"
      ],
      "execution_count": 56,
      "outputs": [
        {
          "output_type": "execute_result",
          "data": {
            "text/plain": [
              "array([[2014.0, 14, 21084, ..., 10, 18, 1],\n",
              "       [2010.0, 7, 21414, ..., 1, 18, 1],\n",
              "       [2017.0, 39, 23993, ..., 8, 18, 1],\n",
              "       ...,\n",
              "       [2017.0, 13, 12491, ..., 10, 406, 50],\n",
              "       [1999.0, 14, 25365, ..., 3, 406, 50],\n",
              "       [2018.0, 8, 2257, ..., 9, 406, 50]], dtype=object)"
            ]
          },
          "metadata": {},
          "execution_count": 56
        }
      ]
    },
    {
      "cell_type": "markdown",
      "metadata": {
        "id": "Ez50aQ7zxctS"
      },
      "source": [
        "Different Models For Testing"
      ]
    },
    {
      "cell_type": "code",
      "metadata": {
        "id": "ITm8gM5uxbOG"
      },
      "source": [
        "# Create a dataframe to store accuracy scores of different algorithms\n",
        "accuracy_df = pd.DataFrame(columns=('r2', 'rmse'))"
      ],
      "execution_count": 57,
      "outputs": []
    },
    {
      "cell_type": "code",
      "metadata": {
        "id": "4_MYezgqxoDP",
        "colab": {
          "base_uri": "https://localhost:8080/",
          "height": 81
        },
        "outputId": "ab04f659-0298-4fde-b8ce-d76b01b6b4e2"
      },
      "source": [
        "#DECISION TREE\n",
        "from sklearn.tree import DecisionTreeRegressor\n",
        "import matplotlib.pyplot as plt\n",
        "from sklearn import metrics\n",
        "import math\n",
        "from sklearn.metrics import mean_squared_error as MSE\n",
        "\n",
        "# Fit\n",
        "model = DecisionTreeRegressor()\n",
        "model.fit(X_train[:,:14], y_train)\n",
        "\n",
        "# Predict\n",
        "y_pred = model.predict(X_test[:,:14])\n",
        "\n",
        "# Metrics\n",
        "r2 = round(metrics.r2_score(y_test, y_pred),2)\n",
        "rmse = round(np.sqrt(metrics.mean_squared_error(y_test, y_pred)),2)\n",
        "accuracy_df = accuracy_df.append(pd.DataFrame({'r2':[r2],'rmse':[rmse]}, index = ['Decision Tree Baseline']))\n",
        "accuracy_df"
      ],
      "execution_count": 58,
      "outputs": [
        {
          "output_type": "execute_result",
          "data": {
            "text/html": [
              "<div>\n",
              "<style scoped>\n",
              "    .dataframe tbody tr th:only-of-type {\n",
              "        vertical-align: middle;\n",
              "    }\n",
              "\n",
              "    .dataframe tbody tr th {\n",
              "        vertical-align: top;\n",
              "    }\n",
              "\n",
              "    .dataframe thead th {\n",
              "        text-align: right;\n",
              "    }\n",
              "</style>\n",
              "<table border=\"1\" class=\"dataframe\">\n",
              "  <thead>\n",
              "    <tr style=\"text-align: right;\">\n",
              "      <th></th>\n",
              "      <th>r2</th>\n",
              "      <th>rmse</th>\n",
              "    </tr>\n",
              "  </thead>\n",
              "  <tbody>\n",
              "    <tr>\n",
              "      <th>Decision Tree Baseline</th>\n",
              "      <td>-56.94</td>\n",
              "      <td>89571557.81</td>\n",
              "    </tr>\n",
              "  </tbody>\n",
              "</table>\n",
              "</div>"
            ],
            "text/plain": [
              "                           r2         rmse\n",
              "Decision Tree Baseline -56.94  89571557.81"
            ]
          },
          "metadata": {},
          "execution_count": 58
        }
      ]
    },
    {
      "cell_type": "code",
      "metadata": {
        "id": "kMjYhXIsCoqH",
        "colab": {
          "base_uri": "https://localhost:8080/",
          "height": 1000
        },
        "outputId": "25b7dcda-9748-48f3-96e1-9f294ef7fd92"
      },
      "source": [
        "from sklearn.model_selection import GridSearchCV\n",
        "\n",
        "scoring = metrics.make_scorer(metrics.mean_squared_error)\n",
        "\n",
        "param_grid = {\n",
        "'criterion':['mse'] \n",
        ",'splitter':['best','random']\n",
        ",'max_depth':[4, 5, 6, 7, 8]\n",
        ",'min_samples_split':[0.8, 2]\n",
        ",'max_features':['auto','sqrt','log2']\n",
        "}\n",
        "g_cv = GridSearchCV(DecisionTreeRegressor(random_state=0),param_grid=param_grid,scoring=scoring, cv=5, refit=True)\n",
        "g_cv.fit(X_train, y_train)\n"
      ],
      "execution_count": 59,
      "outputs": [
        {
          "output_type": "stream",
          "name": "stderr",
          "text": [
            "/usr/local/lib/python3.7/dist-packages/sklearn/model_selection/_validation.py:372: FitFailedWarning: \n",
            "300 fits failed out of a total of 300.\n",
            "The score on these train-test partitions for these parameters will be set to nan.\n",
            "If these failures are not expected, you can try to debug them by setting error_score='raise'.\n",
            "\n",
            "Below are more details about the failures:\n",
            "--------------------------------------------------------------------------------\n",
            "60 fits failed with the following error:\n",
            "Traceback (most recent call last):\n",
            "  File \"/usr/local/lib/python3.7/dist-packages/sklearn/model_selection/_validation.py\", line 681, in _fit_and_score\n",
            "    estimator.fit(X_train, y_train, **fit_params)\n",
            "  File \"/usr/local/lib/python3.7/dist-packages/sklearn/tree/_classes.py\", line 1320, in fit\n",
            "    X_idx_sorted=X_idx_sorted,\n",
            "  File \"/usr/local/lib/python3.7/dist-packages/sklearn/tree/_classes.py\", line 166, in fit\n",
            "    X, y, validate_separately=(check_X_params, check_y_params)\n",
            "  File \"/usr/local/lib/python3.7/dist-packages/sklearn/base.py\", line 573, in _validate_data\n",
            "    X = check_array(X, **check_X_params)\n",
            "  File \"/usr/local/lib/python3.7/dist-packages/sklearn/utils/validation.py\", line 738, in check_array\n",
            "    array = np.asarray(array, order=order, dtype=dtype)\n",
            "  File \"/usr/local/lib/python3.7/dist-packages/numpy/core/_asarray.py\", line 83, in asarray\n",
            "    return array(a, dtype, copy=False, order=order)\n",
            "ValueError: could not convert string to float: '2021-04-16T14:11:07-0700'\n",
            "\n",
            "--------------------------------------------------------------------------------\n",
            "240 fits failed with the following error:\n",
            "Traceback (most recent call last):\n",
            "  File \"/usr/local/lib/python3.7/dist-packages/sklearn/model_selection/_validation.py\", line 681, in _fit_and_score\n",
            "    estimator.fit(X_train, y_train, **fit_params)\n",
            "  File \"/usr/local/lib/python3.7/dist-packages/sklearn/tree/_classes.py\", line 1320, in fit\n",
            "    X_idx_sorted=X_idx_sorted,\n",
            "  File \"/usr/local/lib/python3.7/dist-packages/sklearn/tree/_classes.py\", line 166, in fit\n",
            "    X, y, validate_separately=(check_X_params, check_y_params)\n",
            "  File \"/usr/local/lib/python3.7/dist-packages/sklearn/base.py\", line 573, in _validate_data\n",
            "    X = check_array(X, **check_X_params)\n",
            "  File \"/usr/local/lib/python3.7/dist-packages/sklearn/utils/validation.py\", line 738, in check_array\n",
            "    array = np.asarray(array, order=order, dtype=dtype)\n",
            "  File \"/usr/local/lib/python3.7/dist-packages/numpy/core/_asarray.py\", line 83, in asarray\n",
            "    return array(a, dtype, copy=False, order=order)\n",
            "ValueError: could not convert string to float: '2021-05-04T12:31:18-0500'\n",
            "\n",
            "  warnings.warn(some_fits_failed_message, FitFailedWarning)\n"
          ]
        },
        {
          "output_type": "error",
          "ename": "NotFittedError",
          "evalue": "ignored",
          "traceback": [
            "\u001b[0;31m---------------------------------------------------------------------------\u001b[0m",
            "\u001b[0;31mNotFittedError\u001b[0m                            Traceback (most recent call last)",
            "\u001b[0;32m<ipython-input-59-aeba9b30af89>\u001b[0m in \u001b[0;36m<module>\u001b[0;34m()\u001b[0m\n\u001b[1;32m     11\u001b[0m }\n\u001b[1;32m     12\u001b[0m \u001b[0mg_cv\u001b[0m \u001b[0;34m=\u001b[0m \u001b[0mGridSearchCV\u001b[0m\u001b[0;34m(\u001b[0m\u001b[0mDecisionTreeRegressor\u001b[0m\u001b[0;34m(\u001b[0m\u001b[0mrandom_state\u001b[0m\u001b[0;34m=\u001b[0m\u001b[0;36m0\u001b[0m\u001b[0;34m)\u001b[0m\u001b[0;34m,\u001b[0m\u001b[0mparam_grid\u001b[0m\u001b[0;34m=\u001b[0m\u001b[0mparam_grid\u001b[0m\u001b[0;34m,\u001b[0m\u001b[0mscoring\u001b[0m\u001b[0;34m=\u001b[0m\u001b[0mscoring\u001b[0m\u001b[0;34m,\u001b[0m \u001b[0mcv\u001b[0m\u001b[0;34m=\u001b[0m\u001b[0;36m5\u001b[0m\u001b[0;34m,\u001b[0m \u001b[0mrefit\u001b[0m\u001b[0;34m=\u001b[0m\u001b[0;32mTrue\u001b[0m\u001b[0;34m)\u001b[0m\u001b[0;34m\u001b[0m\u001b[0;34m\u001b[0m\u001b[0m\n\u001b[0;32m---> 13\u001b[0;31m \u001b[0mg_cv\u001b[0m\u001b[0;34m.\u001b[0m\u001b[0mfit\u001b[0m\u001b[0;34m(\u001b[0m\u001b[0mX_train\u001b[0m\u001b[0;34m,\u001b[0m \u001b[0my_train\u001b[0m\u001b[0;34m)\u001b[0m\u001b[0;34m\u001b[0m\u001b[0;34m\u001b[0m\u001b[0m\n\u001b[0m",
            "\u001b[0;32m/usr/local/lib/python3.7/dist-packages/sklearn/model_selection/_search.py\u001b[0m in \u001b[0;36mfit\u001b[0;34m(self, X, y, groups, **fit_params)\u001b[0m\n\u001b[1;32m    889\u001b[0m                 \u001b[0;32mreturn\u001b[0m \u001b[0mresults\u001b[0m\u001b[0;34m\u001b[0m\u001b[0;34m\u001b[0m\u001b[0m\n\u001b[1;32m    890\u001b[0m \u001b[0;34m\u001b[0m\u001b[0m\n\u001b[0;32m--> 891\u001b[0;31m             \u001b[0mself\u001b[0m\u001b[0;34m.\u001b[0m\u001b[0m_run_search\u001b[0m\u001b[0;34m(\u001b[0m\u001b[0mevaluate_candidates\u001b[0m\u001b[0;34m)\u001b[0m\u001b[0;34m\u001b[0m\u001b[0;34m\u001b[0m\u001b[0m\n\u001b[0m\u001b[1;32m    892\u001b[0m \u001b[0;34m\u001b[0m\u001b[0m\n\u001b[1;32m    893\u001b[0m             \u001b[0;31m# multimetric is determined here because in the case of a callable\u001b[0m\u001b[0;34m\u001b[0m\u001b[0;34m\u001b[0m\u001b[0;34m\u001b[0m\u001b[0m\n",
            "\u001b[0;32m/usr/local/lib/python3.7/dist-packages/sklearn/model_selection/_search.py\u001b[0m in \u001b[0;36m_run_search\u001b[0;34m(self, evaluate_candidates)\u001b[0m\n\u001b[1;32m   1390\u001b[0m     \u001b[0;32mdef\u001b[0m \u001b[0m_run_search\u001b[0m\u001b[0;34m(\u001b[0m\u001b[0mself\u001b[0m\u001b[0;34m,\u001b[0m \u001b[0mevaluate_candidates\u001b[0m\u001b[0;34m)\u001b[0m\u001b[0;34m:\u001b[0m\u001b[0;34m\u001b[0m\u001b[0;34m\u001b[0m\u001b[0m\n\u001b[1;32m   1391\u001b[0m         \u001b[0;34m\"\"\"Search all candidates in param_grid\"\"\"\u001b[0m\u001b[0;34m\u001b[0m\u001b[0;34m\u001b[0m\u001b[0m\n\u001b[0;32m-> 1392\u001b[0;31m         \u001b[0mevaluate_candidates\u001b[0m\u001b[0;34m(\u001b[0m\u001b[0mParameterGrid\u001b[0m\u001b[0;34m(\u001b[0m\u001b[0mself\u001b[0m\u001b[0;34m.\u001b[0m\u001b[0mparam_grid\u001b[0m\u001b[0;34m)\u001b[0m\u001b[0;34m)\u001b[0m\u001b[0;34m\u001b[0m\u001b[0;34m\u001b[0m\u001b[0m\n\u001b[0m\u001b[1;32m   1393\u001b[0m \u001b[0;34m\u001b[0m\u001b[0m\n\u001b[1;32m   1394\u001b[0m \u001b[0;34m\u001b[0m\u001b[0m\n",
            "\u001b[0;32m/usr/local/lib/python3.7/dist-packages/sklearn/model_selection/_search.py\u001b[0m in \u001b[0;36mevaluate_candidates\u001b[0;34m(candidate_params, cv, more_results)\u001b[0m\n\u001b[1;32m    873\u001b[0m                 \u001b[0;31m# of out will be done in `_insert_error_scores`.\u001b[0m\u001b[0;34m\u001b[0m\u001b[0;34m\u001b[0m\u001b[0;34m\u001b[0m\u001b[0m\n\u001b[1;32m    874\u001b[0m                 \u001b[0;32mif\u001b[0m \u001b[0mcallable\u001b[0m\u001b[0;34m(\u001b[0m\u001b[0mself\u001b[0m\u001b[0;34m.\u001b[0m\u001b[0mscoring\u001b[0m\u001b[0;34m)\u001b[0m\u001b[0;34m:\u001b[0m\u001b[0;34m\u001b[0m\u001b[0;34m\u001b[0m\u001b[0m\n\u001b[0;32m--> 875\u001b[0;31m                     \u001b[0m_insert_error_scores\u001b[0m\u001b[0;34m(\u001b[0m\u001b[0mout\u001b[0m\u001b[0;34m,\u001b[0m \u001b[0mself\u001b[0m\u001b[0;34m.\u001b[0m\u001b[0merror_score\u001b[0m\u001b[0;34m)\u001b[0m\u001b[0;34m\u001b[0m\u001b[0;34m\u001b[0m\u001b[0m\n\u001b[0m\u001b[1;32m    876\u001b[0m \u001b[0;34m\u001b[0m\u001b[0m\n\u001b[1;32m    877\u001b[0m                 \u001b[0mall_candidate_params\u001b[0m\u001b[0;34m.\u001b[0m\u001b[0mextend\u001b[0m\u001b[0;34m(\u001b[0m\u001b[0mcandidate_params\u001b[0m\u001b[0;34m)\u001b[0m\u001b[0;34m\u001b[0m\u001b[0;34m\u001b[0m\u001b[0m\n",
            "\u001b[0;32m/usr/local/lib/python3.7/dist-packages/sklearn/model_selection/_validation.py\u001b[0m in \u001b[0;36m_insert_error_scores\u001b[0;34m(results, error_score)\u001b[0m\n\u001b[1;32m    329\u001b[0m \u001b[0;34m\u001b[0m\u001b[0m\n\u001b[1;32m    330\u001b[0m     \u001b[0;32mif\u001b[0m \u001b[0msuccessful_score\u001b[0m \u001b[0;32mis\u001b[0m \u001b[0;32mNone\u001b[0m\u001b[0;34m:\u001b[0m\u001b[0;34m\u001b[0m\u001b[0;34m\u001b[0m\u001b[0m\n\u001b[0;32m--> 331\u001b[0;31m         \u001b[0;32mraise\u001b[0m \u001b[0mNotFittedError\u001b[0m\u001b[0;34m(\u001b[0m\u001b[0;34m\"All estimators failed to fit\"\u001b[0m\u001b[0;34m)\u001b[0m\u001b[0;34m\u001b[0m\u001b[0;34m\u001b[0m\u001b[0m\n\u001b[0m\u001b[1;32m    332\u001b[0m \u001b[0;34m\u001b[0m\u001b[0m\n\u001b[1;32m    333\u001b[0m     \u001b[0;32mif\u001b[0m \u001b[0misinstance\u001b[0m\u001b[0;34m(\u001b[0m\u001b[0msuccessful_score\u001b[0m\u001b[0;34m,\u001b[0m \u001b[0mdict\u001b[0m\u001b[0;34m)\u001b[0m\u001b[0;34m:\u001b[0m\u001b[0;34m\u001b[0m\u001b[0;34m\u001b[0m\u001b[0m\n",
            "\u001b[0;31mNotFittedError\u001b[0m: All estimators failed to fit"
          ]
        }
      ]
    },
    {
      "cell_type": "code",
      "metadata": {
        "id": "7teiJBoeCvFL"
      },
      "source": [
        ""
      ],
      "execution_count": null,
      "outputs": []
    },
    {
      "cell_type": "code",
      "metadata": {
        "id": "W8Gg8VAsxyJU"
      },
      "source": [
        "#Decision Tree with auto Hyper Parameter Tuning with Grid Search\n",
        "from sklearn.model_selection import GridSearchCV\n",
        "\n",
        "scoring = metrics.make_scorer(metrics.mean_squared_error)\n",
        "\n",
        "param_grid = {\n",
        "'criterion':['mse'] \n",
        ",'splitter':['best','random']\n",
        ",'max_depth':[4, 5, 6, 7, 8]\n",
        ",'min_samples_split':[0.8, 2]\n",
        ",'max_features':['auto','sqrt','log2']\n",
        "}\n",
        "\n",
        "g_cv = GridSearchCV(DecisionTreeRegressor(random_state=0),param_grid=param_grid,scoring=scoring, cv=5, refit=True)\n",
        "g_cv.fit(X_train[:,:14], y_train)\n",
        "g_cv.best_params_\n",
        "result = g_cv.cv_results_\n",
        "# print(result)\n",
        "\n",
        "# Predict\n",
        "y_pred = g_cv.best_estimator_.predict(X_test[:,:14])\n",
        "\n",
        "# Metrics\n",
        "r2 = round(metrics.r2_score(y_test, y_pred),2)\n",
        "rmse = round(np.sqrt(metrics.mean_squared_error(y_test, y_pred)),2)\n",
        "accuracy_df = accuracy_df.append(pd.DataFrame({'r2':[r2],'rmse':[rmse]}, index = ['Decision Tree HyperParam Tuning']))\n",
        "accuracy_df.sort_values('rmse')"
      ],
      "execution_count": null,
      "outputs": []
    },
    {
      "cell_type": "code",
      "metadata": {
        "id": "zUUexBEKx731"
      },
      "source": [
        "#Random Forest\n",
        "from sklearn.ensemble import RandomForestRegressor\n",
        "\n",
        "# Fit\n",
        "model = RandomForestRegressor()\n",
        "model.fit(X_train, y_train)\n",
        "\n",
        "# Predict\n",
        "y_pred = model.predict(X_test)\n",
        "\n",
        "# Metrics\n",
        "r2 = round(metrics.r2_score(y_test, y_pred),2)\n",
        "rmse = round(np.sqrt(metrics.mean_squared_error(y_test, y_pred)),2)\n",
        "accuracy_df = accuracy_df.append(pd.DataFrame({'r2':[r2],'rmse':[rmse]}, index = ['Random Forest Baseline']))\n",
        "accuracy_df.sort_values('rmse')"
      ],
      "execution_count": null,
      "outputs": []
    },
    {
      "cell_type": "code",
      "metadata": {
        "id": "ouvCz5mUyJvP"
      },
      "source": [
        "#Random Forest with auto Hyper Parameter Tuning with Grid Search\n",
        "from sklearn.model_selection import GridSearchCV scoring = metrics.make_scorer(metrics.mean_squared_error) param_grid = { # 'n_estimators':[50,70,100,120,130] # 'max_features':['auto','sqrt','log2'] #,'oob_score':[False, True] # whether to use out-of-bag samples to estimate the R^2 on unseen data. # ,'bootstrap':[False, True] # ,'random_state':[10, None] # ,'warm_start':[True, False] 'max_depth':[4, 5, 6, 7, 8] # ,'min_samples_split':[0.8, 2, 3] } g_cv = GridSearchCV(RandomForestRegressor(random_state=0),param_grid=param_grid,scoring=scoring, cv=5, refit=True)\n",
        "g_cv.fit(X_train, y_train) g_cv.best_params_ result = g_cv.cv_results_ \n",
        "# print(result) \n",
        "# Predict y_pred = g_cv.best_estimator_.predict(X_test) # Metrics r2 = round(metrics.r2_score(y_test, y_pred),2) rmse = round(np.sqrt(metrics.mean_squared_error(y_test, y_pred)),2) accuracy_df = accuracy_df.append(pd.DataFrame({'r2':[r2],'rmse':[rmse]}, index = ['Random Forest HyperParam Tuning']))\n",
        "accuracy_df"
      ],
      "execution_count": null,
      "outputs": []
    },
    {
      "cell_type": "code",
      "metadata": {
        "id": "fgUjV_yNyXTr"
      },
      "source": [
        "#Gradient Boosting\n",
        "from sklearn.ensemble import GradientBoostingRegressor\n",
        "\n",
        "# Fit\n",
        "model = GradientBoostingRegressor(random_state=0)\n",
        "model.fit(X_train, y_train)\n",
        "\n",
        "# Predict\n",
        "y_pred = model.predict(X_test)\n",
        "\n",
        "# Metrics\n",
        "r2 = round(metrics.r2_score(y_test, y_pred),2)\n",
        "rmse = round(np.sqrt(metrics.mean_squared_error(y_test, y_pred)),2)\n",
        "accuracy_df = accuracy_df.append(pd.DataFrame({'r2':[r2],'rmse':[rmse]}, index = ['Gradient Boosting Baseline']))\n",
        "accuracy_df.sort_values('rmse')"
      ],
      "execution_count": null,
      "outputs": []
    },
    {
      "cell_type": "code",
      "metadata": {
        "id": "Bs81Xt9GyeAG"
      },
      "source": [
        "#XGBoost\n",
        "from xgboost import XGBRegressor\n",
        "\n",
        "# Fit\n",
        "model = XGBRegressor(random_state=0)\n",
        "model.fit(X_train, y_train)\n",
        "\n",
        "# Predict\n",
        "y_pred = model.predict(X_test)\n",
        "\n",
        "# Metrics\n",
        "r2 = round(metrics.r2_score(y_test, y_pred),2)\n",
        "rmse = round(np.sqrt(metrics.mean_squared_error(y_test, y_pred)),2)\n",
        "accuracy_df = accuracy_df.append(pd.DataFrame({'r2':[r2],'rmse':[rmse]}, index = ['XGBoost Baseline']))\n",
        "accuracy_df.sort_values('rmse')\n"
      ],
      "execution_count": null,
      "outputs": []
    },
    {
      "cell_type": "code",
      "metadata": {
        "id": "fyBK3n53zB47"
      },
      "source": [
        "#XGBoost with Parameters\n",
        "import xgboost as xgb\n",
        "\n",
        "model = xgb.XGBRegressor(\n",
        "#     gamma=1,                 \n",
        "    learning_rate=0.05,\n",
        "#     max_depth=3,\n",
        "#     n_estimators=10000,                                                                    \n",
        "#     subsample=0.8,\n",
        "    random_state=34,\n",
        "    booster='gbtree',    \n",
        "    objective='reg:squarederror',\n",
        "    eval_metric='rmse'\n",
        ") \n",
        "model.fit(X_train, y_train)\n",
        "\n",
        "# Predict\n",
        "y_pred = model.predict(X_test)\n",
        "\n",
        "\n",
        "# Metrics\n",
        "r2 = round(metrics.r2_score(y_test, y_pred),2)\n",
        "rmse = round(np.sqrt(metrics.mean_squared_error(y_test, y_pred)),2)\n",
        "accuracy_df = accuracy_df.append(pd.DataFrame({'r2':[r2],'rmse':[rmse]}, index = ['XGBoost with Parameters']))\n",
        "accuracy_df.sort_values('rmse')"
      ],
      "execution_count": null,
      "outputs": []
    },
    {
      "cell_type": "code",
      "metadata": {
        "id": "rjCyTrGbzLa2"
      },
      "source": [
        "#MLP Regressor\n",
        "from sklearn.neural_network import MLPRegressor\n",
        "\n",
        "mlp = MLPRegressor()\n",
        "param_grid = {\n",
        "#               'hidden_layer_sizes': [i for i in range(2,20)],\n",
        "              'activation': ['relu'],\n",
        "              'solver': ['adam'],\n",
        "#               'learning_rate': ['constant'],\n",
        "#               'learning_rate_init': [0.01],\n",
        "#               'power_t': [0.5],\n",
        "#               'alpha': [0.0001],\n",
        "#               'max_iter': [1000],\n",
        "              'early_stopping': [True],\n",
        "              'warm_start': [False]\n",
        "}\n",
        "model = GridSearchCV(mlp, param_grid=param_grid, \n",
        "                   cv=10, verbose=True, pre_dispatch='2*n_jobs')\n",
        "\n",
        "model.fit(X_train, y_train)\n",
        "\n",
        "# Predict\n",
        "y_pred = model.predict(X_test)\n",
        "\n",
        "\n",
        "# Metrics\n",
        "r2 = round(metrics.r2_score(y_test, y_pred),2)\n",
        "rmse = round(np.sqrt(metrics.mean_squared_error(y_test, y_pred)),2)\n",
        "accuracy_df = accuracy_df.append(pd.DataFrame({'r2':[r2],'rmse':[rmse]}, index = ['MLPRegressor with Parameter Tuning']))\n",
        "accuracy_df.sort_values('rmse')"
      ],
      "execution_count": null,
      "outputs": []
    },
    {
      "cell_type": "code",
      "metadata": {
        "id": "6bd8IwyJzSUZ"
      },
      "source": [
        "#LightGBM\n",
        "#Splitting the training data in to training and validation datasets for Model training\n",
        "\n",
        "import lightgbm as lgb\n",
        "from sklearn.model_selection import train_test_split\n",
        "\n",
        "Xtrain, Xval, Ztrain, Zval = train_test_split(X_train, y_train, test_size=0.3, random_state=0)\n",
        "\n",
        "train_set = lgb.Dataset(Xtrain, Ztrain, silent=False)\n",
        "valid_set = lgb.Dataset(Xval, Zval, silent=False)\n",
        "\n",
        "params = {\n",
        "        'boosting_type':'gbdt',\n",
        "        'objective': 'regression',\n",
        "        'num_leaves': 31,\n",
        "        'learning_rate': 0.01,\n",
        "#         'max_depth': -1,\n",
        "#         'subsample': 0.8,\n",
        "#         'bagging_fraction' : 1,\n",
        "#         'max_bin' : 5000 ,\n",
        "#         'bagging_freq': 20,\n",
        "#         'colsample_bytree': 0.6,\n",
        "        'metric': 'rmse',\n",
        "#         'min_split_gain': 0.5,\n",
        "#         'min_child_weight': 1,\n",
        "#         'min_child_samples': 10,\n",
        "#         'scale_pos_weight':1,\n",
        "#         'zero_as_missing': False,\n",
        "#         'seed':0,        \n",
        "    }\n",
        "model = lgb.train(params, train_set = train_set, num_boost_round=10000,early_stopping_rounds=8000,\n",
        "                  verbose_eval=500, valid_sets=valid_set)\n",
        "\n",
        "\n",
        "y_pred = model.predict(X_test, num_iteration=model.best_iteration)\n",
        "\n",
        "# Metrics\n",
        "r2 = round(metrics.r2_score(y_test, y_pred),2)\n",
        "rmse = round(np.sqrt(metrics.mean_squared_error(y_test, y_pred)),2)\n",
        "accuracy_df = accuracy_df.append(pd.DataFrame({'r2':[r2],'rmse':[rmse]}, index = ['LightGBM with Parameters']))\n",
        "accuracy_df.sort_values('rmse')"
      ],
      "execution_count": null,
      "outputs": []
    },
    {
      "cell_type": "markdown",
      "metadata": {
        "id": "JBqlEX65zdSk"
      },
      "source": [
        "LightGBM with categorical variables"
      ]
    },
    {
      "cell_type": "code",
      "metadata": {
        "id": "g-fyX_XSzZN-"
      },
      "source": [
        "#Splitting the training data in to training and validation datasets for Model training\n",
        "\n",
        "import lightgbm as lgb1\n",
        "from sklearn.model_selection import train_test_split\n",
        "\n",
        "Xtrain, Xval, Ztrain, Zval = train_test_split(X_train, y_train, test_size=0.2, random_state=42)\n",
        "\n",
        "#Define categorical features, training and validation data\n",
        "categorical_positions = []\n",
        "cat = ['manufacturer','model','condition','cylinders','fuel','odometer','title_status','transmission','drive','type','paint_color','county','state']\n",
        "for c, col in enumerate(df.columns):\n",
        "    for x in cat:\n",
        "        if col == x:\n",
        "            categorical_positions.append(c-1)\n",
        "\n",
        "\n",
        "train_set = lgb1.Dataset(Xtrain, label=Ztrain, categorical_feature=categorical_positions)\n",
        "valid_set = lgb1.Dataset(Xval, label=Zval)\n",
        "\n",
        "params = {\n",
        "        'boosting_type':'gbdt',\n",
        "        'objective': 'regression',\n",
        "        'num_leaves': 31,\n",
        "        'learning_rate': 0.01,\n",
        "#         'max_depth': -1,\n",
        "#         'subsample': 0.8,\n",
        "#         'bagging_fraction' : 1,\n",
        "#         'max_bin' : 5000 ,\n",
        "#         'bagging_freq': 20,\n",
        "#         'colsample_bytree': 0.6,\n",
        "        'metric': 'rmse',\n",
        "#         'min_split_gain': 0.5,\n",
        "#         'min_child_weight': 1,\n",
        "#         'min_child_samples': 10,\n",
        "#         'scale_pos_weight':1,\n",
        "#         'zero_as_missing': False,\n",
        "#         'seed':0,        \n",
        "    }\n",
        "model = lgb1.train(params, train_set = train_set, num_boost_round=10000,early_stopping_rounds=8000,\n",
        "                  verbose_eval=500, valid_sets=valid_set)\n",
        "\n",
        "\n",
        "y_pred = model.predict(X_test, num_iteration=model.best_iteration)\n",
        "\n",
        "# Metrics\n",
        "r2 = round(metrics.r2_score(y_test, y_pred),2)\n",
        "rmse = round(np.sqrt(metrics.mean_squared_error(y_test, y_pred)),2)\n",
        "accuracy_df = accuracy_df.append(pd.DataFrame({'r2':[r2],'rmse':[rmse]}, index = ['LightGBM with Categories & Parameters']))\n",
        "accuracy_df.sort_values('rmse')"
      ],
      "execution_count": null,
      "outputs": []
    },
    {
      "cell_type": "code",
      "metadata": {
        "id": "uG7bmP1fzn2j"
      },
      "source": [
        "#CatBoost\n",
        "from catboost import CatBoostRegressor, Pool\n",
        "    \n",
        "from sklearn.model_selection import train_test_split\n",
        "\n",
        "Xtrain, Xval, Ztrain, Zval = train_test_split(X_train, y_train, test_size=0.3, random_state=0)\n",
        "\n",
        "train_set = lgb.Dataset(Xtrain, Ztrain)\n",
        "valid_set = lgb.Dataset(Xval, Zval)\n",
        "\n",
        "model = CatBoostRegressor()\n",
        "\n",
        "model.fit(Xtrain, Ztrain, eval_set=[(Xval, Zval)], verbose=100, early_stopping_rounds=1000)\n",
        "\n",
        "y_pred = model.predict(X_test)\n",
        "\n",
        "# Metrics\n",
        "r2 = round(metrics.r2_score(y_test, y_pred),2)\n",
        "rmse = round(np.sqrt(metrics.mean_squared_error(y_test, y_pred)),2)\n",
        "accuracy_df = accuracy_df.append(pd.DataFrame({'r2':[r2],'rmse':[rmse]}, index = ['CatBoost Baseline']))\n",
        "accuracy_df.sort_values('rmse')"
      ],
      "execution_count": null,
      "outputs": []
    },
    {
      "cell_type": "code",
      "metadata": {
        "id": "uKy-43m0zryT"
      },
      "source": [
        "#CatBoost with Parameters\n",
        "from catboost import CatBoostRegressor, Pool\n",
        "    \n",
        "from sklearn.model_selection import train_test_split\n",
        "\n",
        "Xtrain, Xval, Ztrain, Zval = train_test_split(X_train, y_train, test_size=0.3, random_state=0)\n",
        "\n",
        "train_set = lgb.Dataset(Xtrain, Ztrain, silent=False)\n",
        "valid_set = lgb.Dataset(Xval, Zval, silent=False)\n",
        "\n",
        "\n",
        "        \n",
        "model = CatBoostRegressor(\n",
        "                          iterations=1000, \n",
        "                          depth=8, \n",
        "                          learning_rate=0.01, \n",
        "                          loss_function='RMSE', \n",
        "                          eval_metric='RMSE', \n",
        "                          use_best_model=True)\n",
        "\n",
        "model.fit(Xtrain, Ztrain, eval_set=[(Xval, Zval)], verbose=100, early_stopping_rounds=1000)\n",
        "\n",
        "y_pred = model.predict(X_test)\n",
        "\n",
        "# Metrics\n",
        "r2 = round(metrics.r2_score(y_test, y_pred),2)\n",
        "rmse = round(np.sqrt(metrics.mean_squared_error(y_test, y_pred)),2)\n",
        "# accuracy_df = accuracy_df.drop('CatBoost Parameter Tuning')\n",
        "accuracy_df = accuracy_df.append(pd.DataFrame({'r2':[r2],'rmse':[rmse]}, index = ['CatBoost Parameter Tuning']))\n",
        "accuracy_df.sort_values('rmse')"
      ],
      "execution_count": null,
      "outputs": []
    },
    {
      "cell_type": "code",
      "metadata": {
        "id": "GOOG_8F0z3E8"
      },
      "source": [
        "#Plotting the RMSE Scores\n",
        "# Plot\n",
        "plt.figure(figsize=[25,6])\n",
        "plt.tick_params(labelsize=14)\n",
        "plt.plot(accuracy_df.index, accuracy_df['rmse'], label = 'RMSE Scores')\n",
        "plt.legend()\n",
        "plt.title('RMSE Score comparison for 10 popular models for test dataset')\n",
        "plt.xlabel('Models')\n",
        "plt.ylabel('RMSE Scores')\n",
        "plt.xticks(accuracy_df.index, rotation='vertical')\n",
        "plt.savefig('graph.png')\n",
        "plt.show()\n",
        "print('Process start time :', datetime.now())"
      ],
      "execution_count": null,
      "outputs": []
    },
    {
      "cell_type": "markdown",
      "metadata": {
        "id": "3whuW8o70ijB"
      },
      "source": [
        "Save Model"
      ]
    },
    {
      "cell_type": "code",
      "metadata": {
        "id": "ObIMsHRa0jQG"
      },
      "source": [
        "# Rerunning MLP Neural Network to save the model\n",
        "from sklearn.neural_network import MLPRegressor\n",
        "from sklearn.model_selection import GridSearchCV\n",
        "\n",
        "\n",
        "mlp = MLPRegressor()\n",
        "param_grid = {\n",
        "#               'hidden_layer_sizes': [i for i in range(2,20)],\n",
        "              'activation': ['relu'],\n",
        "              'solver': ['adam'],\n",
        "#               'learning_rate': ['constant'],\n",
        "#               'learning_rate_init': [0.01],\n",
        "#               'power_t': [0.5],\n",
        "#               'alpha': [0.0001],\n",
        "#               'max_iter': [1000],\n",
        "              'early_stopping': [True],\n",
        "              'warm_start': [False]\n",
        "}\n",
        "model = GridSearchCV(mlp, param_grid=param_grid, \n",
        "                   cv=10, pre_dispatch='2*n_jobs')\n",
        "\n",
        "model.fit(X_train, y_train)"
      ],
      "execution_count": null,
      "outputs": []
    },
    {
      "cell_type": "code",
      "metadata": {
        "id": "SW1uW7Ak0mJ1"
      },
      "source": [
        "# Save the neural network model\n",
        "from joblib import dump, load\n",
        "\n",
        "filename = 'mlp_neural_network_001.joblib'\n",
        "with open(filename, 'wb') as file:  \n",
        "    dump(model, file)\n",
        "# Predict\n",
        "y_pred = model.predict(X_test)\n",
        "df1 = pd.DataFrame({\"y\":y_test,\"y_pred\":y_pred })\n",
        "df1.head(50)"
      ],
      "execution_count": null,
      "outputs": []
    },
    {
      "cell_type": "code",
      "metadata": {
        "id": "LBvmv7lA0ud4"
      },
      "source": [
        ""
      ],
      "execution_count": null,
      "outputs": []
    }
  ]
}